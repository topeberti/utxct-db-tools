{
 "cells": [
  {
   "cell_type": "markdown",
   "metadata": {},
   "source": [
    "# Panel Loading"
   ]
  },
  {
   "cell_type": "markdown",
   "metadata": {},
   "source": [
    "Notebook to load panel data into the databse"
   ]
  },
  {
   "cell_type": "markdown",
   "metadata": {},
   "source": [
    "## Imports"
   ]
  },
  {
   "cell_type": "code",
   "execution_count": 1,
   "metadata": {},
   "outputs": [],
   "source": [
    "import psycopg2\n",
    "from tabulate import tabulate\n",
    "#import a folder in the parent directory\n",
    "import sys\n",
    "sys.path.append('../')\n",
    "import dbtools.dbtools as qrs\n",
    "import dbtools.load as load"
   ]
  },
  {
   "cell_type": "markdown",
   "metadata": {},
   "source": [
    "## Connection"
   ]
  },
  {
   "cell_type": "code",
   "execution_count": 2,
   "metadata": {},
   "outputs": [
    {
     "name": "stdout",
     "output_type": "stream",
     "text": [
      "Connected to the database\n"
     ]
    }
   ],
   "source": [
    "try:\n",
    "    # Connect to the PostgreSQL database\n",
    "    conn = qrs.connect()\n",
    "    print(\"Connected to the database\")\n",
    "\n",
    "except (Exception, psycopg2.DatabaseError) as error:\n",
    "    print(error)"
   ]
  },
  {
   "cell_type": "markdown",
   "metadata": {},
   "source": [
    "## Material id search"
   ]
  },
  {
   "cell_type": "markdown",
   "metadata": {},
   "source": [
    "A panel is made of a material, so the panel table is linked to the material table.\n",
    "\n",
    "Here we have to check the material table and to set the material of the panel.\n",
    "\n",
    "The `load_panel` function now includes the `layer_layout` parameter which was moved from the `load_material` function. This parameter allows you to specify the orientation of layers in the panel as a list of integers representing angles.\n",
    "\n",
    "For example: `layer_layout = [0, 45, 90, -45]` represents a 4-layer panel with layers oriented at 0°, 45°, 90°, and -45°.\n",
    "\n",
    "The `load_panel` function also supports optional additional metadata through the `additional_metadata` parameter. This allows you to add any custom metadata to the panel beyond the standard parameters (height, width, thickness, edges_cutted).\n",
    "\n",
    "The `additional_metadata` parameter accepts a list of dictionaries, where each dictionary must have:\n",
    "- `key`: The name of the metadata field\n",
    "- `value`: The value of the metadata\n",
    "- `type`: The type or unit of the metadata\n",
    "\n",
    "Examples of additional metadata for panels could include:\n",
    "- Surface finish (polished, matte, etc.)\n",
    "- Coating information\n",
    "- Weight\n",
    "- Manufacturing date\n",
    "- Quality rating\n",
    "- Test results"
   ]
  },
  {
   "cell_type": "code",
   "execution_count": 3,
   "metadata": {},
   "outputs": [
    {
     "data": {
      "text/html": [
       "<div>\n",
       "<style scoped>\n",
       "    .dataframe tbody tr th:only-of-type {\n",
       "        vertical-align: middle;\n",
       "    }\n",
       "\n",
       "    .dataframe tbody tr th {\n",
       "        vertical-align: top;\n",
       "    }\n",
       "\n",
       "    .dataframe thead th {\n",
       "        text-align: right;\n",
       "    }\n",
       "</style>\n",
       "<table border=\"1\" class=\"dataframe\">\n",
       "  <thead>\n",
       "    <tr style=\"text-align: right;\">\n",
       "      <th></th>\n",
       "      <th>id_material</th>\n",
       "      <th>name_material</th>\n",
       "    </tr>\n",
       "  </thead>\n",
       "  <tbody>\n",
       "    <tr>\n",
       "      <th>0</th>\n",
       "      <td>25</td>\n",
       "      <td>Prueba</td>\n",
       "    </tr>\n",
       "    <tr>\n",
       "      <th>1</th>\n",
       "      <td>27</td>\n",
       "      <td>Prueba 5</td>\n",
       "    </tr>\n",
       "  </tbody>\n",
       "</table>\n",
       "</div>"
      ],
      "text/plain": [
       "   id_material name_material\n",
       "0           25        Prueba\n",
       "1           27      Prueba 5"
      ]
     },
     "execution_count": 3,
     "metadata": {},
     "output_type": "execute_result"
    }
   ],
   "source": [
    "parent_table_name = 'materials'\n",
    "\n",
    "parent_id_column = parent_table_name[:-1] + '_id'\n",
    "\n",
    "parent_data = qrs.get_data(parent_table_name)\n",
    "\n",
    "parent_data"
   ]
  },
  {
   "cell_type": "code",
   "execution_count": 4,
   "metadata": {},
   "outputs": [],
   "source": [
    "#we set the id\n",
    "material_id = 25\n",
    "\n",
    "table_name = 'panels'"
   ]
  },
  {
   "cell_type": "code",
   "execution_count": null,
   "metadata": {},
   "outputs": [
    {
     "name": "stdout",
     "output_type": "stream",
     "text": [
      "Panel 'prueba' loaded with ID: 5\n"
     ]
    },
    {
     "data": {
      "text/plain": [
       "5"
      ]
     },
     "execution_count": 5,
     "metadata": {},
     "output_type": "execute_result"
    }
   ],
   "source": [
    "name = 'prueba'\n",
    "\n",
    "height = 1\n",
    "width = 2\n",
    "thickness = 3\n",
    "\n",
    "edges_cutted = False\n",
    "\n",
    "# Define layer_layout (new parameter in load_panel function)\n",
    "layer_layout = [0, 45, 90, -45]  # Example layout angles\n",
    "\n",
    "description = 'Nachos panel 1'\n",
    "\n",
    "# Define additional metadata\n",
    "additional_metadata = [\n",
    "    {'key': 'surface_finish', 'value': 'polished', 'type': 'string'},\n",
    "    {'key': 'coating', 'value': 'zinc', 'type': 'string'},\n",
    "    {'key': 'weight', 'value': 2.5, 'type': 'kg'}\n",
    "]\n",
    "\n",
    "# Load panel with layer_layout and additional metadata\n",
    "load.load_panel(conn, name, material_id, height, width, thickness, edges_cutted, layer_layout, description, additional_metadata)"
   ]
  },
  {
   "cell_type": "markdown",
   "metadata": {},
   "source": [
    "## Make sure insert was correct"
   ]
  },
  {
   "cell_type": "code",
   "execution_count": 7,
   "metadata": {},
   "outputs": [
    {
     "data": {
      "text/html": [
       "<div>\n",
       "<style scoped>\n",
       "    .dataframe tbody tr th:only-of-type {\n",
       "        vertical-align: middle;\n",
       "    }\n",
       "\n",
       "    .dataframe tbody tr th {\n",
       "        vertical-align: top;\n",
       "    }\n",
       "\n",
       "    .dataframe thead th {\n",
       "        text-align: right;\n",
       "    }\n",
       "</style>\n",
       "<table border=\"1\" class=\"dataframe\">\n",
       "  <thead>\n",
       "    <tr style=\"text-align: right;\">\n",
       "      <th></th>\n",
       "      <th>id_panel</th>\n",
       "      <th>name_panel</th>\n",
       "      <th>material_id_panel</th>\n",
       "      <th>description_panel</th>\n",
       "      <th>height_panel</th>\n",
       "      <th>width_panel</th>\n",
       "      <th>thickness_panel</th>\n",
       "      <th>edges_cutted_panel</th>\n",
       "      <th>surface_finish_panel</th>\n",
       "      <th>coating_panel</th>\n",
       "      <th>weight_panel</th>\n",
       "    </tr>\n",
       "  </thead>\n",
       "  <tbody>\n",
       "    <tr>\n",
       "      <th>0</th>\n",
       "      <td>4</td>\n",
       "      <td>Prueba</td>\n",
       "      <td>25</td>\n",
       "      <td>Prueba de la web</td>\n",
       "      <td>200.0 mm</td>\n",
       "      <td>200.0 mm</td>\n",
       "      <td>5.0 mm</td>\n",
       "      <td>True bool</td>\n",
       "      <td>NaN</td>\n",
       "      <td>NaN</td>\n",
       "      <td>NaN</td>\n",
       "    </tr>\n",
       "    <tr>\n",
       "      <th>1</th>\n",
       "      <td>5</td>\n",
       "      <td>prueba</td>\n",
       "      <td>25</td>\n",
       "      <td>Nachos panel 1</td>\n",
       "      <td>1 mm</td>\n",
       "      <td>2 mm</td>\n",
       "      <td>3 mm</td>\n",
       "      <td>False bool</td>\n",
       "      <td>polished string</td>\n",
       "      <td>zinc string</td>\n",
       "      <td>2.5 kg</td>\n",
       "    </tr>\n",
       "    <tr>\n",
       "      <th>2</th>\n",
       "      <td>6</td>\n",
       "      <td>Basic Panel Example</td>\n",
       "      <td>25</td>\n",
       "      <td>Example demonstrating backward compatibility</td>\n",
       "      <td>5 mm</td>\n",
       "      <td>10 mm</td>\n",
       "      <td>1.5 mm</td>\n",
       "      <td>True bool</td>\n",
       "      <td>NaN</td>\n",
       "      <td>NaN</td>\n",
       "      <td>NaN</td>\n",
       "    </tr>\n",
       "  </tbody>\n",
       "</table>\n",
       "</div>"
      ],
      "text/plain": [
       "   id_panel           name_panel  material_id_panel  \\\n",
       "0         4               Prueba                 25   \n",
       "1         5               prueba                 25   \n",
       "2         6  Basic Panel Example                 25   \n",
       "\n",
       "                              description_panel height_panel width_panel  \\\n",
       "0                              Prueba de la web     200.0 mm    200.0 mm   \n",
       "1                                Nachos panel 1         1 mm        2 mm   \n",
       "2  Example demonstrating backward compatibility         5 mm       10 mm   \n",
       "\n",
       "  thickness_panel edges_cutted_panel surface_finish_panel coating_panel  \\\n",
       "0          5.0 mm          True bool                  NaN           NaN   \n",
       "1            3 mm         False bool      polished string   zinc string   \n",
       "2          1.5 mm          True bool                  NaN           NaN   \n",
       "\n",
       "  weight_panel  \n",
       "0          NaN  \n",
       "1       2.5 kg  \n",
       "2          NaN  "
      ]
     },
     "execution_count": 7,
     "metadata": {},
     "output_type": "execute_result"
    }
   ],
   "source": [
    "data = qrs.get_data_metadata(table_name)\n",
    "\n",
    "data"
   ]
  },
  {
   "cell_type": "code",
   "execution_count": 8,
   "metadata": {},
   "outputs": [],
   "source": [
    "conn.close()"
   ]
  }
 ],
 "metadata": {
  "kernelspec": {
   "display_name": "sql",
   "language": "python",
   "name": "python3"
  },
  "language_info": {
   "codemirror_mode": {
    "name": "ipython",
    "version": 3
   },
   "file_extension": ".py",
   "mimetype": "text/x-python",
   "name": "python",
   "nbconvert_exporter": "python",
   "pygments_lexer": "ipython3",
   "version": "3.13.2"
  }
 },
 "nbformat": 4,
 "nbformat_minor": 2
}
