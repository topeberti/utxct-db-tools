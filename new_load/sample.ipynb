{
 "cells": [
  {
   "cell_type": "markdown",
   "metadata": {},
   "source": [
    "# Sample Loading"
   ]
  },
  {
   "cell_type": "markdown",
   "metadata": {},
   "source": [
    "Notebook to load Sample data into the databse"
   ]
  },
  {
   "cell_type": "markdown",
   "metadata": {},
   "source": [
    "## Imports"
   ]
  },
  {
   "cell_type": "code",
   "execution_count": 8,
   "metadata": {},
   "outputs": [],
   "source": [
    "import psycopg2\n",
    "from tabulate import tabulate\n",
    "#import a folder in the parent directory\n",
    "import sys\n",
    "sys.path.append('../')\n",
    "import dbtools.dbtools as qrs\n",
    "import dbtools.load as load"
   ]
  },
  {
   "cell_type": "markdown",
   "metadata": {},
   "source": [
    "## Connection"
   ]
  },
  {
   "cell_type": "code",
   "execution_count": 9,
   "metadata": {},
   "outputs": [
    {
     "name": "stdout",
     "output_type": "stream",
     "text": [
      "Connected to the database\n"
     ]
    }
   ],
   "source": [
    "try:\n",
    "    # Connect to the PostgreSQL database\n",
    "    conn = qrs.connect()\n",
    "    print(\"Connected to the database\")\n",
    "\n",
    "except (Exception, psycopg2.DatabaseError) as error:\n",
    "    print(error)"
   ]
  },
  {
   "cell_type": "markdown",
   "metadata": {},
   "source": [
    "## Panel id search"
   ]
  },
  {
   "cell_type": "markdown",
   "metadata": {},
   "source": [
    "A panel is made of a material, so the panel table is linked to the material table.\n",
    "\n",
    "Here we have to check the material table and to set the meterial of the panel."
   ]
  },
  {
   "cell_type": "code",
   "execution_count": 10,
   "metadata": {},
   "outputs": [
    {
     "data": {
      "text/html": [
       "<div>\n",
       "<style scoped>\n",
       "    .dataframe tbody tr th:only-of-type {\n",
       "        vertical-align: middle;\n",
       "    }\n",
       "\n",
       "    .dataframe tbody tr th {\n",
       "        vertical-align: top;\n",
       "    }\n",
       "\n",
       "    .dataframe thead th {\n",
       "        text-align: right;\n",
       "    }\n",
       "</style>\n",
       "<table border=\"1\" class=\"dataframe\">\n",
       "  <thead>\n",
       "    <tr style=\"text-align: right;\">\n",
       "      <th></th>\n",
       "      <th>id_panel</th>\n",
       "      <th>name_panel</th>\n",
       "      <th>material_id_panel</th>\n",
       "      <th>description_panel</th>\n",
       "    </tr>\n",
       "  </thead>\n",
       "  <tbody>\n",
       "    <tr>\n",
       "      <th>0</th>\n",
       "      <td>1</td>\n",
       "      <td>Juan Ignacio</td>\n",
       "      <td>1</td>\n",
       "      <td>None</td>\n",
       "    </tr>\n",
       "    <tr>\n",
       "      <th>1</th>\n",
       "      <td>3</td>\n",
       "      <td>prueba</td>\n",
       "      <td>15</td>\n",
       "      <td>Descripcion</td>\n",
       "    </tr>\n",
       "  </tbody>\n",
       "</table>\n",
       "</div>"
      ],
      "text/plain": [
       "   id_panel    name_panel  material_id_panel description_panel\n",
       "0         1  Juan Ignacio                  1              None\n",
       "1         3        prueba                 15       Descripcion"
      ]
     },
     "execution_count": 10,
     "metadata": {},
     "output_type": "execute_result"
    }
   ],
   "source": [
    "parent_table_name = 'panels'\n",
    "\n",
    "parent_id_column = parent_table_name[:-1] + '_id'\n",
    "\n",
    "parent_data = qrs.get_data(parent_table_name)\n",
    "\n",
    "parent_data"
   ]
  },
  {
   "cell_type": "code",
   "execution_count": 11,
   "metadata": {},
   "outputs": [],
   "source": [
    "#we set the id\n",
    "panel_id = 1"
   ]
  },
  {
   "cell_type": "markdown",
   "metadata": {},
   "source": [
    "## Sample data"
   ]
  },
  {
   "cell_type": "code",
   "execution_count": 5,
   "metadata": {},
   "outputs": [
    {
     "name": "stdout",
     "output_type": "stream",
     "text": [
      "Sample 'prueba' loaded with ID: 10\n"
     ]
    }
   ],
   "source": [
    "name = 'JI_12'\n",
    "\n",
    "load.load_sample(conn,'prueba',panel_id,160,40,5,True,True)"
   ]
  },
  {
   "cell_type": "markdown",
   "metadata": {},
   "source": [
    "## Make sure insert was correct"
   ]
  },
  {
   "cell_type": "code",
   "execution_count": 6,
   "metadata": {},
   "outputs": [
    {
     "data": {
      "text/html": [
       "<div>\n",
       "<style scoped>\n",
       "    .dataframe tbody tr th:only-of-type {\n",
       "        vertical-align: middle;\n",
       "    }\n",
       "\n",
       "    .dataframe tbody tr th {\n",
       "        vertical-align: top;\n",
       "    }\n",
       "\n",
       "    .dataframe thead th {\n",
       "        text-align: right;\n",
       "    }\n",
       "</style>\n",
       "<table border=\"1\" class=\"dataframe\">\n",
       "  <thead>\n",
       "    <tr style=\"text-align: right;\">\n",
       "      <th></th>\n",
       "      <th>id_sample</th>\n",
       "      <th>name_sample</th>\n",
       "      <th>panel_id_sample</th>\n",
       "      <th>geometry_type_sample</th>\n",
       "      <th>height_sample</th>\n",
       "      <th>width_sample</th>\n",
       "      <th>thickness_sample</th>\n",
       "      <th>keyhole_sample</th>\n",
       "      <th>parallel_faces_sample</th>\n",
       "    </tr>\n",
       "  </thead>\n",
       "  <tbody>\n",
       "    <tr>\n",
       "      <th>0</th>\n",
       "      <td>1</td>\n",
       "      <td>JI_4</td>\n",
       "      <td>1</td>\n",
       "      <td>parallel nominal</td>\n",
       "      <td>150 mm</td>\n",
       "      <td>40 mm</td>\n",
       "      <td>5 mm</td>\n",
       "      <td>True Boolean</td>\n",
       "      <td>NaN</td>\n",
       "    </tr>\n",
       "    <tr>\n",
       "      <th>1</th>\n",
       "      <td>2</td>\n",
       "      <td>JI_5</td>\n",
       "      <td>1</td>\n",
       "      <td>parallel nominal</td>\n",
       "      <td>150 mm</td>\n",
       "      <td>40 mm</td>\n",
       "      <td>5 mm</td>\n",
       "      <td>True Boolean</td>\n",
       "      <td>NaN</td>\n",
       "    </tr>\n",
       "    <tr>\n",
       "      <th>2</th>\n",
       "      <td>3</td>\n",
       "      <td>JI_7</td>\n",
       "      <td>1</td>\n",
       "      <td>parallel nominal</td>\n",
       "      <td>150 mm</td>\n",
       "      <td>40 mm</td>\n",
       "      <td>5 mm</td>\n",
       "      <td>True Boolean</td>\n",
       "      <td>NaN</td>\n",
       "    </tr>\n",
       "    <tr>\n",
       "      <th>3</th>\n",
       "      <td>4</td>\n",
       "      <td>JI_8</td>\n",
       "      <td>1</td>\n",
       "      <td>parallel nominal</td>\n",
       "      <td>150 mm</td>\n",
       "      <td>40 mm</td>\n",
       "      <td>5 mm</td>\n",
       "      <td>True Boolean</td>\n",
       "      <td>NaN</td>\n",
       "    </tr>\n",
       "    <tr>\n",
       "      <th>4</th>\n",
       "      <td>5</td>\n",
       "      <td>JI_9</td>\n",
       "      <td>1</td>\n",
       "      <td>parallel nominal</td>\n",
       "      <td>150 mm</td>\n",
       "      <td>40 mm</td>\n",
       "      <td>5 mm</td>\n",
       "      <td>True Boolean</td>\n",
       "      <td>NaN</td>\n",
       "    </tr>\n",
       "    <tr>\n",
       "      <th>5</th>\n",
       "      <td>6</td>\n",
       "      <td>JI_10</td>\n",
       "      <td>1</td>\n",
       "      <td>parallel nominal</td>\n",
       "      <td>150 mm</td>\n",
       "      <td>40 mm</td>\n",
       "      <td>5 mm</td>\n",
       "      <td>True Boolean</td>\n",
       "      <td>NaN</td>\n",
       "    </tr>\n",
       "    <tr>\n",
       "      <th>6</th>\n",
       "      <td>7</td>\n",
       "      <td>JI_11</td>\n",
       "      <td>1</td>\n",
       "      <td>parallel nominal</td>\n",
       "      <td>150 mm</td>\n",
       "      <td>40 mm</td>\n",
       "      <td>5 mm</td>\n",
       "      <td>True Boolean</td>\n",
       "      <td>NaN</td>\n",
       "    </tr>\n",
       "    <tr>\n",
       "      <th>7</th>\n",
       "      <td>8</td>\n",
       "      <td>JI_12</td>\n",
       "      <td>1</td>\n",
       "      <td>parallel nominal</td>\n",
       "      <td>150 mm</td>\n",
       "      <td>40 mm</td>\n",
       "      <td>5 mm</td>\n",
       "      <td>True Boolean</td>\n",
       "      <td>NaN</td>\n",
       "    </tr>\n",
       "    <tr>\n",
       "      <th>8</th>\n",
       "      <td>10</td>\n",
       "      <td>prueba</td>\n",
       "      <td>3</td>\n",
       "      <td>NaN</td>\n",
       "      <td>160 mm</td>\n",
       "      <td>40 mm</td>\n",
       "      <td>5 mm</td>\n",
       "      <td>True bool</td>\n",
       "      <td>True bool</td>\n",
       "    </tr>\n",
       "  </tbody>\n",
       "</table>\n",
       "</div>"
      ],
      "text/plain": [
       "   id_sample name_sample  panel_id_sample geometry_type_sample height_sample  \\\n",
       "0          1        JI_4                1     parallel nominal        150 mm   \n",
       "1          2        JI_5                1     parallel nominal        150 mm   \n",
       "2          3        JI_7                1     parallel nominal        150 mm   \n",
       "3          4        JI_8                1     parallel nominal        150 mm   \n",
       "4          5        JI_9                1     parallel nominal        150 mm   \n",
       "5          6       JI_10                1     parallel nominal        150 mm   \n",
       "6          7       JI_11                1     parallel nominal        150 mm   \n",
       "7          8       JI_12                1     parallel nominal        150 mm   \n",
       "8         10      prueba                3                  NaN        160 mm   \n",
       "\n",
       "  width_sample thickness_sample keyhole_sample parallel_faces_sample  \n",
       "0        40 mm             5 mm   True Boolean                   NaN  \n",
       "1        40 mm             5 mm   True Boolean                   NaN  \n",
       "2        40 mm             5 mm   True Boolean                   NaN  \n",
       "3        40 mm             5 mm   True Boolean                   NaN  \n",
       "4        40 mm             5 mm   True Boolean                   NaN  \n",
       "5        40 mm             5 mm   True Boolean                   NaN  \n",
       "6        40 mm             5 mm   True Boolean                   NaN  \n",
       "7        40 mm             5 mm   True Boolean                   NaN  \n",
       "8        40 mm             5 mm      True bool             True bool  "
      ]
     },
     "execution_count": 6,
     "metadata": {},
     "output_type": "execute_result"
    }
   ],
   "source": [
    "data = qrs.get_data_metadata('samples')\n",
    "\n",
    "data"
   ]
  },
  {
   "cell_type": "code",
   "execution_count": 7,
   "metadata": {},
   "outputs": [],
   "source": [
    "conn.close()"
   ]
  }
 ],
 "metadata": {
  "kernelspec": {
   "display_name": "Python 3",
   "language": "python",
   "name": "python3"
  },
  "language_info": {
   "codemirror_mode": {
    "name": "ipython",
    "version": 3
   },
   "file_extension": ".py",
   "mimetype": "text/x-python",
   "name": "python",
   "nbconvert_exporter": "python",
   "pygments_lexer": "ipython3",
   "version": "3.13.2"
  }
 },
 "nbformat": 4,
 "nbformat_minor": 2
}
