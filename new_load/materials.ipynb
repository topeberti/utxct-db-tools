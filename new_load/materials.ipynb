{
 "cells": [
  {
   "cell_type": "markdown",
   "metadata": {},
   "source": [
    "# Material Loading"
   ]
  },
  {
   "cell_type": "markdown",
   "metadata": {},
   "source": [
    "Notebook to load material and panel data into the database. This notebook demonstrates:\n",
    "\n",
    "1. Creating materials with their properties\n",
    "2. Creating panels with layer layout configurations \n",
    "3. Verifying the data was correctly stored in the database\n",
    "\n",
    "Note: The `layer_layout` parameter has been moved from the `load_material` function to the `load_panel` function."
   ]
  },
  {
   "cell_type": "markdown",
   "metadata": {},
   "source": [
    "## Imports"
   ]
  },
  {
   "cell_type": "code",
   "execution_count": 1,
   "metadata": {},
   "outputs": [],
   "source": [
    "import psycopg2\n",
    "from tabulate import tabulate\n",
    "#import a folder in the parent directory\n",
    "import sys\n",
    "sys.path.append('../')\n",
    "import dbtools.dbtools as qrs\n",
    "import dbtools.load as load"
   ]
  },
  {
   "cell_type": "markdown",
   "metadata": {},
   "source": [
    "## Connection"
   ]
  },
  {
   "cell_type": "code",
   "execution_count": 2,
   "metadata": {},
   "outputs": [
    {
     "name": "stdout",
     "output_type": "stream",
     "text": [
      "Connected to the database\n"
     ]
    }
   ],
   "source": [
    "try:\n",
    "    # Connect to the PostgreSQL database\n",
    "    conn = qrs.connect()\n",
    "    print(\"Connected to the database\")\n",
    "\n",
    "except (Exception, psycopg2.DatabaseError) as error:\n",
    "    print(error)"
   ]
  },
  {
   "cell_type": "markdown",
   "metadata": {},
   "source": [
    "## Fabrication data"
   ]
  },
  {
   "cell_type": "code",
   "execution_count": 3,
   "metadata": {},
   "outputs": [
    {
     "name": "stdout",
     "output_type": "stream",
     "text": [
      "Error loading material: duplicate key value violates unique constraint \"unique_materials_name\"\n",
      "DETAIL:  Key (name)=(Prueba 5) already exists.\n",
      "\n"
     ]
    },
    {
     "data": {
      "text/plain": [
       "-1"
      ]
     },
     "execution_count": 3,
     "metadata": {},
     "output_type": "execute_result"
    }
   ],
   "source": [
    "name = 'Prueba 5'\n",
    "\n",
    "layer_thickness = 0.1\n",
    "\n",
    "# Define additional metadata\n",
    "additional_metadata = [\n",
    "    {'key': 'density', 'value': 1.5, 'type': 'g/cm3'},\n",
    "    {'key': 'color', 'value': 'blue', 'type': 'string'},\n",
    "    {'key': 'temperature_resistance', 'value': 250, 'type': 'celsius'}\n",
    "]\n",
    "\n",
    "# Load material with additional metadata (layer_layout was moved to panel function)\n",
    "load.load_material(conn, name, layer_thickness, additional_metadata)"
   ]
  },
  {
   "cell_type": "markdown",
   "metadata": {},
   "source": [
    "## Make sure insert was correct"
   ]
  },
  {
   "cell_type": "code",
   "execution_count": 4,
   "metadata": {},
   "outputs": [
    {
     "data": {
      "text/html": [
       "<div>\n",
       "<style scoped>\n",
       "    .dataframe tbody tr th:only-of-type {\n",
       "        vertical-align: middle;\n",
       "    }\n",
       "\n",
       "    .dataframe tbody tr th {\n",
       "        vertical-align: top;\n",
       "    }\n",
       "\n",
       "    .dataframe thead th {\n",
       "        text-align: right;\n",
       "    }\n",
       "</style>\n",
       "<table border=\"1\" class=\"dataframe\">\n",
       "  <thead>\n",
       "    <tr style=\"text-align: right;\">\n",
       "      <th></th>\n",
       "      <th>id_material</th>\n",
       "      <th>name_material</th>\n",
       "      <th>layer_thickness_material</th>\n",
       "      <th>layer_layout_material</th>\n",
       "      <th>density_material</th>\n",
       "      <th>color_material</th>\n",
       "      <th>temperature_resistance_material</th>\n",
       "    </tr>\n",
       "  </thead>\n",
       "  <tbody>\n",
       "    <tr>\n",
       "      <th>0</th>\n",
       "      <td>25</td>\n",
       "      <td>Prueba</td>\n",
       "      <td>0.05 float</td>\n",
       "      <td>[90, 45, 45, 90, -45] list</td>\n",
       "      <td>NaN</td>\n",
       "      <td>NaN</td>\n",
       "      <td>NaN</td>\n",
       "    </tr>\n",
       "    <tr>\n",
       "      <th>1</th>\n",
       "      <td>27</td>\n",
       "      <td>Prueba 5</td>\n",
       "      <td>0.1 float</td>\n",
       "      <td>[90, 45, -45, 90] list</td>\n",
       "      <td>1.5 g/cm3</td>\n",
       "      <td>blue string</td>\n",
       "      <td>250 celsius</td>\n",
       "    </tr>\n",
       "  </tbody>\n",
       "</table>\n",
       "</div>"
      ],
      "text/plain": [
       "   id_material name_material layer_thickness_material  \\\n",
       "0           25        Prueba               0.05 float   \n",
       "1           27      Prueba 5                0.1 float   \n",
       "\n",
       "        layer_layout_material density_material color_material  \\\n",
       "0  [90, 45, 45, 90, -45] list              NaN            NaN   \n",
       "1      [90, 45, -45, 90] list        1.5 g/cm3    blue string   \n",
       "\n",
       "  temperature_resistance_material  \n",
       "0                             NaN  \n",
       "1                     250 celsius  "
      ]
     },
     "execution_count": 4,
     "metadata": {},
     "output_type": "execute_result"
    }
   ],
   "source": [
    "data = qrs.get_data_metadata('materials')\n",
    "\n",
    "data"
   ]
  },
  {
   "cell_type": "code",
   "execution_count": 5,
   "metadata": {},
   "outputs": [],
   "source": [
    "conn.close()"
   ]
  }
 ],
 "metadata": {
  "kernelspec": {
   "display_name": "sql",
   "language": "python",
   "name": "python3"
  },
  "language_info": {
   "codemirror_mode": {
    "name": "ipython",
    "version": 3
   },
   "file_extension": ".py",
   "mimetype": "text/x-python",
   "name": "python",
   "nbconvert_exporter": "python",
   "pygments_lexer": "ipython3",
   "version": "3.13.2"
  }
 },
 "nbformat": 4,
 "nbformat_minor": 2
}
