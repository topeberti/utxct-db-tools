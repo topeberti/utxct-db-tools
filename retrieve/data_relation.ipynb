{
 "cells": [
  {
   "cell_type": "markdown",
   "metadata": {},
   "source": [
    "# Get a table and its parent information linked"
   ]
  },
  {
   "cell_type": "markdown",
   "metadata": {},
   "source": [
    "## imports"
   ]
  },
  {
   "cell_type": "code",
   "execution_count": 1,
   "metadata": {},
   "outputs": [],
   "source": [
    "import psycopg2\n",
    "import numpy as np\n",
    "#import a folder in the parent directory\n",
    "import sys\n",
    "sys.path.append('../')\n",
    "import dbtools.dbtools as qrs\n",
    "from pathlib import Path\n",
    "import tifffile as tiff\n",
    "import os\n",
    "from tqdm import tqdm"
   ]
  },
  {
   "cell_type": "markdown",
   "metadata": {},
   "source": [
    "## Connection"
   ]
  },
  {
   "cell_type": "code",
   "execution_count": 2,
   "metadata": {},
   "outputs": [
    {
     "name": "stdout",
     "output_type": "stream",
     "text": [
      "Connected to the database\n"
     ]
    }
   ],
   "source": [
    "try:\n",
    "    # Connect to the PostgreSQL database\n",
    "    conn = qrs.connect()\n",
    "    print(\"Connected to the database\")\n",
    "\n",
    "except (Exception, psycopg2.DatabaseError) as error:\n",
    "    print(error)"
   ]
  },
  {
   "cell_type": "markdown",
   "metadata": {},
   "source": [
    "## Table info"
   ]
  },
  {
   "cell_type": "code",
   "execution_count": 3,
   "metadata": {},
   "outputs": [],
   "source": [
    "table_1_name = 'datasets'\n",
    "\n",
    "table_2_name = 'measurements'\n",
    "\n",
    "relation_table_name = 'dataset_measurements'"
   ]
  },
  {
   "cell_type": "code",
   "execution_count": 4,
   "metadata": {},
   "outputs": [
    {
     "ename": "ValueError",
     "evalue": "The intermediate table 'dataset_measurements' is empty. Cannot perform relation merge.",
     "output_type": "error",
     "traceback": [
      "\u001b[31m---------------------------------------------------------------------------\u001b[39m",
      "\u001b[31mValueError\u001b[39m                                Traceback (most recent call last)",
      "\u001b[36mCell\u001b[39m\u001b[36m \u001b[39m\u001b[32mIn[4]\u001b[39m\u001b[32m, line 1\u001b[39m\n\u001b[32m----> \u001b[39m\u001b[32m1\u001b[39m data = \u001b[43mqrs\u001b[49m\u001b[43m.\u001b[49m\u001b[43mrelation_metadata\u001b[49m\u001b[43m(\u001b[49m\u001b[43mtable_1_name\u001b[49m\u001b[43m,\u001b[49m\u001b[43mtable_2_name\u001b[49m\u001b[43m,\u001b[49m\u001b[43mrelation_table_name\u001b[49m\u001b[43m)\u001b[49m\n\u001b[32m      3\u001b[39m \u001b[38;5;66;03m#filer by conditions\u001b[39;00m\n\u001b[32m      4\u001b[39m \n\u001b[32m      5\u001b[39m \u001b[38;5;66;03m# data = data[data['measurementtype_id_measurement'] == 2]\u001b[39;00m\n\u001b[32m      6\u001b[39m \n\u001b[32m      7\u001b[39m \u001b[38;5;66;03m#delete columns that are all NaN\u001b[39;00m\n\u001b[32m      8\u001b[39m \u001b[38;5;66;03m# data = data.dropna(axis=1, how='all')\u001b[39;00m\n\u001b[32m     10\u001b[39m data\n",
      "\u001b[36mFile \u001b[39m\u001b[32m\\\\192.168.10.106\\imdea\\DataDriven_UT_AlbertoVicente\\10_code\\SqlDatabase\\retrieve\\..\\dbtools\\dbtools.py:321\u001b[39m, in \u001b[36mrelation_metadata\u001b[39m\u001b[34m(table1_name, table2_name, intermediate_table_name)\u001b[39m\n\u001b[32m    319\u001b[39m \u001b[38;5;66;03m#check if the intermediate table is empty\u001b[39;00m\n\u001b[32m    320\u001b[39m \u001b[38;5;28;01mif\u001b[39;00m intermediate_data.empty:\n\u001b[32m--> \u001b[39m\u001b[32m321\u001b[39m     \u001b[38;5;28;01mraise\u001b[39;00m \u001b[38;5;167;01mValueError\u001b[39;00m(\u001b[33mf\u001b[39m\u001b[33m\"\u001b[39m\u001b[33mThe intermediate table \u001b[39m\u001b[33m'\u001b[39m\u001b[38;5;132;01m{\u001b[39;00mintermediate_table_name\u001b[38;5;132;01m}\u001b[39;00m\u001b[33m'\u001b[39m\u001b[33m is empty. Cannot perform relation merge.\u001b[39m\u001b[33m\"\u001b[39m)\n\u001b[32m    323\u001b[39m \u001b[38;5;66;03m# Remove the ID column from intermediate data\u001b[39;00m\n\u001b[32m    324\u001b[39m intermediate_data = intermediate_data.drop(columns=[\u001b[33m'\u001b[39m\u001b[33mid_\u001b[39m\u001b[33m'\u001b[39m+intermediate_table_name[:-\u001b[32m1\u001b[39m]])\n",
      "\u001b[31mValueError\u001b[39m: The intermediate table 'dataset_measurements' is empty. Cannot perform relation merge."
     ]
    }
   ],
   "source": [
    "data = qrs.relation_metadata(table_1_name,table_2_name,relation_table_name)\n",
    "\n",
    "#filer by conditions\n",
    "\n",
    "# data = data[data['measurementtype_id_measurement'] == 2]\n",
    "\n",
    "#delete columns that are all NaN\n",
    "# data = data.dropna(axis=1, how='all')\n",
    "\n",
    "data"
   ]
  }
 ],
 "metadata": {
  "kernelspec": {
   "display_name": "sql",
   "language": "python",
   "name": "python3"
  },
  "language_info": {
   "codemirror_mode": {
    "name": "ipython",
    "version": 3
   },
   "file_extension": ".py",
   "mimetype": "text/x-python",
   "name": "python",
   "nbconvert_exporter": "python",
   "pygments_lexer": "ipython3",
   "version": "3.13.2"
  }
 },
 "nbformat": 4,
 "nbformat_minor": 2
}
