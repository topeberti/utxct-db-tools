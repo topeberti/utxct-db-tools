{
 "cells": [
  {
   "cell_type": "markdown",
   "metadata": {},
   "source": [
    "# Get a table and its parent information linked"
   ]
  },
  {
   "cell_type": "markdown",
   "metadata": {},
   "source": [
    "## imports"
   ]
  },
  {
   "cell_type": "code",
   "execution_count": 9,
   "metadata": {},
   "outputs": [],
   "source": [
    "import psycopg2\n",
    "import numpy as np\n",
    "#import a folder in the parent directory\n",
    "import sys\n",
    "sys.path.append('../')\n",
    "import dbtools.dbtools as qrs\n",
    "from pathlib import Path\n",
    "import tifffile as tiff\n",
    "import os\n",
    "from tqdm import tqdm"
   ]
  },
  {
   "cell_type": "markdown",
   "metadata": {},
   "source": [
    "## Connection"
   ]
  },
  {
   "cell_type": "code",
   "execution_count": 10,
   "metadata": {},
   "outputs": [
    {
     "name": "stdout",
     "output_type": "stream",
     "text": [
      "Connected to the database\n"
     ]
    }
   ],
   "source": [
    "try:\n",
    "    # Connect to the PostgreSQL database\n",
    "    conn = qrs.connect()\n",
    "    print(\"Connected to the database\")\n",
    "\n",
    "except (Exception, psycopg2.DatabaseError) as error:\n",
    "    print(error)"
   ]
  },
  {
   "cell_type": "markdown",
   "metadata": {},
   "source": [
    "## Table info"
   ]
  },
  {
   "cell_type": "code",
   "execution_count": 11,
   "metadata": {},
   "outputs": [],
   "source": [
    "table_1_name = 'samples'\n",
    "\n",
    "table_2_name = 'measurements'\n",
    "\n",
    "relation_table_name = 'sample_measurements'"
   ]
  },
  {
   "cell_type": "code",
   "execution_count": 12,
   "metadata": {},
   "outputs": [
    {
     "data": {
      "text/html": [
       "<div>\n",
       "<style scoped>\n",
       "    .dataframe tbody tr th:only-of-type {\n",
       "        vertical-align: middle;\n",
       "    }\n",
       "\n",
       "    .dataframe tbody tr th {\n",
       "        vertical-align: top;\n",
       "    }\n",
       "\n",
       "    .dataframe thead th {\n",
       "        text-align: right;\n",
       "    }\n",
       "</style>\n",
       "<table border=\"1\" class=\"dataframe\">\n",
       "  <thead>\n",
       "    <tr style=\"text-align: right;\">\n",
       "      <th></th>\n",
       "      <th>id_sample</th>\n",
       "      <th>name_sample</th>\n",
       "      <th>description_sample</th>\n",
       "      <th>panel_id_sample</th>\n",
       "      <th>height_sample</th>\n",
       "      <th>width_sample</th>\n",
       "      <th>thickness_sample</th>\n",
       "      <th>keyhole_sample</th>\n",
       "      <th>parallel_faces_sample</th>\n",
       "      <th>id_measurement</th>\n",
       "      <th>...</th>\n",
       "      <th>parent_measurement_id_measurement</th>\n",
       "      <th>measurementtype_id_measurement</th>\n",
       "      <th>height_measurement</th>\n",
       "      <th>width_measurement</th>\n",
       "      <th>depth_measurement</th>\n",
       "      <th>dtype_measurement</th>\n",
       "      <th>file_type_measurement</th>\n",
       "      <th>signal_type_measurement</th>\n",
       "      <th>axes_order_measurement</th>\n",
       "      <th>transformations_measurement</th>\n",
       "    </tr>\n",
       "  </thead>\n",
       "  <tbody>\n",
       "    <tr>\n",
       "      <th>0</th>\n",
       "      <td>10</td>\n",
       "      <td>Prueba</td>\n",
       "      <td>A ver si este se ve</td>\n",
       "      <td>4</td>\n",
       "      <td>160.0 mm</td>\n",
       "      <td>40.0 mm</td>\n",
       "      <td>5.0 mm</td>\n",
       "      <td>True bool</td>\n",
       "      <td>True bool</td>\n",
       "      <td>98</td>\n",
       "      <td>...</td>\n",
       "      <td>NaN</td>\n",
       "      <td>4</td>\n",
       "      <td>505 cardinal</td>\n",
       "      <td>120 cardinal</td>\n",
       "      <td>45 cardinal</td>\n",
       "      <td>uint8 nominal</td>\n",
       "      <td>.tif nominal</td>\n",
       "      <td>RF nominal</td>\n",
       "      <td>['z', 'y', 'x'] list</td>\n",
       "      <td>NaN</td>\n",
       "    </tr>\n",
       "    <tr>\n",
       "      <th>1</th>\n",
       "      <td>10</td>\n",
       "      <td>Prueba</td>\n",
       "      <td>A ver si este se ve</td>\n",
       "      <td>4</td>\n",
       "      <td>160.0 mm</td>\n",
       "      <td>40.0 mm</td>\n",
       "      <td>5.0 mm</td>\n",
       "      <td>True bool</td>\n",
       "      <td>True bool</td>\n",
       "      <td>99</td>\n",
       "      <td>...</td>\n",
       "      <td>98.0</td>\n",
       "      <td>4</td>\n",
       "      <td>505 cardinal</td>\n",
       "      <td>120 cardinal</td>\n",
       "      <td>45 cardinal</td>\n",
       "      <td>uint8 nominal</td>\n",
       "      <td>.tif nominal</td>\n",
       "      <td>RF nominal</td>\n",
       "      <td>['z', 'y', 'x'] list</td>\n",
       "      <td>Hillbert Transform applied text</td>\n",
       "    </tr>\n",
       "  </tbody>\n",
       "</table>\n",
       "<p>2 rows × 21 columns</p>\n",
       "</div>"
      ],
      "text/plain": [
       "   id_sample name_sample    description_sample  panel_id_sample height_sample  \\\n",
       "0         10      Prueba  A ver si este se ve                 4      160.0 mm   \n",
       "1         10      Prueba  A ver si este se ve                 4      160.0 mm   \n",
       "\n",
       "  width_sample thickness_sample keyhole_sample parallel_faces_sample  \\\n",
       "0      40.0 mm           5.0 mm      True bool             True bool   \n",
       "1      40.0 mm           5.0 mm      True bool             True bool   \n",
       "\n",
       "   id_measurement  ... parent_measurement_id_measurement  \\\n",
       "0              98  ...                               NaN   \n",
       "1              99  ...                              98.0   \n",
       "\n",
       "   measurementtype_id_measurement  height_measurement width_measurement  \\\n",
       "0                               4        505 cardinal      120 cardinal   \n",
       "1                               4        505 cardinal      120 cardinal   \n",
       "\n",
       "  depth_measurement dtype_measurement file_type_measurement  \\\n",
       "0       45 cardinal     uint8 nominal          .tif nominal   \n",
       "1       45 cardinal     uint8 nominal          .tif nominal   \n",
       "\n",
       "  signal_type_measurement axes_order_measurement  \\\n",
       "0              RF nominal   ['z', 'y', 'x'] list   \n",
       "1              RF nominal   ['z', 'y', 'x'] list   \n",
       "\n",
       "       transformations_measurement  \n",
       "0                              NaN  \n",
       "1  Hillbert Transform applied text  \n",
       "\n",
       "[2 rows x 21 columns]"
      ]
     },
     "execution_count": 12,
     "metadata": {},
     "output_type": "execute_result"
    }
   ],
   "source": [
    "data = qrs.relation_metadata(table_1_name,table_2_name,relation_table_name)\n",
    "\n",
    "#filer by conditions\n",
    "\n",
    "# data = data[data['measurementtype_id_measurement'] == 2]\n",
    "\n",
    "#delete columns that are all NaN\n",
    "# data = data.dropna(axis=1, how='all')\n",
    "\n",
    "data"
   ]
  }
 ],
 "metadata": {
  "kernelspec": {
   "display_name": "Python 3",
   "language": "python",
   "name": "python3"
  },
  "language_info": {
   "codemirror_mode": {
    "name": "ipython",
    "version": 3
   },
   "file_extension": ".py",
   "mimetype": "text/x-python",
   "name": "python",
   "nbconvert_exporter": "python",
   "pygments_lexer": "ipython3",
   "version": "3.13.2"
  }
 },
 "nbformat": 4,
 "nbformat_minor": 2
}
