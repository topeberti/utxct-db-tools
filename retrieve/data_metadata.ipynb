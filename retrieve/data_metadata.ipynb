{
 "cells": [
  {
   "cell_type": "markdown",
   "metadata": {},
   "source": [
    "# Get a table and its metadata information linked"
   ]
  },
  {
   "cell_type": "markdown",
   "metadata": {},
   "source": [
    "## imports"
   ]
  },
  {
   "cell_type": "code",
   "execution_count": 7,
   "metadata": {},
   "outputs": [],
   "source": [
    "import psycopg2\n",
    "import numpy as np\n",
    "#import a folder in the parent directory\n",
    "import sys\n",
    "sys.path.append('../')\n",
    "import dbtools.dbtools as qrs\n",
    "from pathlib import Path\n",
    "import tifffile as tiff\n",
    "import os\n",
    "from tqdm import tqdm"
   ]
  },
  {
   "cell_type": "markdown",
   "metadata": {},
   "source": [
    "## Connection"
   ]
  },
  {
   "cell_type": "code",
   "execution_count": 8,
   "metadata": {},
   "outputs": [
    {
     "name": "stdout",
     "output_type": "stream",
     "text": [
      "Connected to the database\n"
     ]
    }
   ],
   "source": [
    "try:\n",
    "    # Connect to the PostgreSQL database\n",
    "    conn = qrs.connect()\n",
    "    print(\"Connected to the database\")\n",
    "\n",
    "except (Exception, psycopg2.DatabaseError) as error:\n",
    "    print(error)"
   ]
  },
  {
   "cell_type": "markdown",
   "metadata": {},
   "source": [
    "## Table info"
   ]
  },
  {
   "cell_type": "code",
   "execution_count": 9,
   "metadata": {},
   "outputs": [],
   "source": [
    "table_name = 'measurementtypes'"
   ]
  },
  {
   "cell_type": "code",
   "execution_count": 10,
   "metadata": {},
   "outputs": [
    {
     "data": {
      "text/html": [
       "<div>\n",
       "<style scoped>\n",
       "    .dataframe tbody tr th:only-of-type {\n",
       "        vertical-align: middle;\n",
       "    }\n",
       "\n",
       "    .dataframe tbody tr th {\n",
       "        vertical-align: top;\n",
       "    }\n",
       "\n",
       "    .dataframe thead th {\n",
       "        text-align: right;\n",
       "    }\n",
       "</style>\n",
       "<table border=\"1\" class=\"dataframe\">\n",
       "  <thead>\n",
       "    <tr style=\"text-align: right;\">\n",
       "      <th></th>\n",
       "      <th>id_measurementtype</th>\n",
       "      <th>name_measurementtype</th>\n",
       "      <th>description_measurementtype</th>\n",
       "      <th>technique_measurementtype</th>\n",
       "      <th>voltage_measurementtype</th>\n",
       "      <th>current_measurementtype</th>\n",
       "      <th>frames_measurementtype</th>\n",
       "      <th>exposure time_measurementtype</th>\n",
       "      <th>projections_measurementtype</th>\n",
       "      <th>target_measurementtype</th>\n",
       "      <th>...</th>\n",
       "      <th>Z range_measurementtype</th>\n",
       "      <th>X Resolution_measurementtype</th>\n",
       "      <th>Y Resolution_measurementtype</th>\n",
       "      <th>gain_measurementtype</th>\n",
       "      <th>sound velocity in water_measurementtype</th>\n",
       "      <th>sound velocity in sample_measurementtype</th>\n",
       "      <th>transducer movement speed_measurementtype</th>\n",
       "      <th>Nominal Frequency_measurementtype</th>\n",
       "      <th>sample transducer distance_measurementtype</th>\n",
       "      <th>transducer diameter_measurementtype</th>\n",
       "    </tr>\n",
       "  </thead>\n",
       "  <tbody>\n",
       "    <tr>\n",
       "      <th>0</th>\n",
       "      <td>2</td>\n",
       "      <td>XCT_2024</td>\n",
       "      <td>First XCT measurements, 2024 metodology.</td>\n",
       "      <td>X Ray Computed Tomography nominal</td>\n",
       "      <td>50 kV</td>\n",
       "      <td>90 uA</td>\n",
       "      <td>5 cardinal</td>\n",
       "      <td>0.2 s</td>\n",
       "      <td>3300 cardinal</td>\n",
       "      <td>W nominal</td>\n",
       "      <td>...</td>\n",
       "      <td>NaN</td>\n",
       "      <td>NaN</td>\n",
       "      <td>NaN</td>\n",
       "      <td>NaN</td>\n",
       "      <td>NaN</td>\n",
       "      <td>NaN</td>\n",
       "      <td>NaN</td>\n",
       "      <td>NaN</td>\n",
       "      <td>NaN</td>\n",
       "      <td>NaN</td>\n",
       "    </tr>\n",
       "    <tr>\n",
       "      <th>1</th>\n",
       "      <td>3</td>\n",
       "      <td>UT_2024</td>\n",
       "      <td>UT measurements, 2024 metodology. Used for the...</td>\n",
       "      <td>Ultrasound Pulse Echo nominal</td>\n",
       "      <td>NaN</td>\n",
       "      <td>NaN</td>\n",
       "      <td>NaN</td>\n",
       "      <td>NaN</td>\n",
       "      <td>NaN</td>\n",
       "      <td>NaN</td>\n",
       "      <td>...</td>\n",
       "      <td>30 mm</td>\n",
       "      <td>1 mm</td>\n",
       "      <td>1 mm</td>\n",
       "      <td>13 dB</td>\n",
       "      <td>1500 m/s</td>\n",
       "      <td>2970 m/s</td>\n",
       "      <td>20 mm/s</td>\n",
       "      <td>5 Mhz</td>\n",
       "      <td>77 mm</td>\n",
       "      <td>NaN</td>\n",
       "    </tr>\n",
       "    <tr>\n",
       "      <th>2</th>\n",
       "      <td>4</td>\n",
       "      <td>UT_2025_1</td>\n",
       "      <td>UT measurements, 2025 metodology. Measuring at...</td>\n",
       "      <td>Ultrasound Pulse Echo nominal</td>\n",
       "      <td>NaN</td>\n",
       "      <td>NaN</td>\n",
       "      <td>NaN</td>\n",
       "      <td>NaN</td>\n",
       "      <td>NaN</td>\n",
       "      <td>NaN</td>\n",
       "      <td>...</td>\n",
       "      <td>10 mm</td>\n",
       "      <td>1 mm</td>\n",
       "      <td>1 mm</td>\n",
       "      <td>11 dB</td>\n",
       "      <td>1500 m/s</td>\n",
       "      <td>2970 m/s</td>\n",
       "      <td>20 mm/s</td>\n",
       "      <td>5 Mhz</td>\n",
       "      <td>77 mm</td>\n",
       "      <td>9.529 mm</td>\n",
       "    </tr>\n",
       "  </tbody>\n",
       "</table>\n",
       "<p>3 rows × 25 columns</p>\n",
       "</div>"
      ],
      "text/plain": [
       "   id_measurementtype name_measurementtype  \\\n",
       "0                   2             XCT_2024   \n",
       "1                   3              UT_2024   \n",
       "2                   4            UT_2025_1   \n",
       "\n",
       "                         description_measurementtype  \\\n",
       "0           First XCT measurements, 2024 metodology.   \n",
       "1  UT measurements, 2024 metodology. Used for the...   \n",
       "2  UT measurements, 2025 metodology. Measuring at...   \n",
       "\n",
       "           technique_measurementtype voltage_measurementtype  \\\n",
       "0  X Ray Computed Tomography nominal                   50 kV   \n",
       "1      Ultrasound Pulse Echo nominal                     NaN   \n",
       "2      Ultrasound Pulse Echo nominal                     NaN   \n",
       "\n",
       "  current_measurementtype frames_measurementtype  \\\n",
       "0                   90 uA             5 cardinal   \n",
       "1                     NaN                    NaN   \n",
       "2                     NaN                    NaN   \n",
       "\n",
       "  exposure time_measurementtype projections_measurementtype  \\\n",
       "0                         0.2 s               3300 cardinal   \n",
       "1                           NaN                         NaN   \n",
       "2                           NaN                         NaN   \n",
       "\n",
       "  target_measurementtype  ... Z range_measurementtype  \\\n",
       "0              W nominal  ...                     NaN   \n",
       "1                    NaN  ...                   30 mm   \n",
       "2                    NaN  ...                   10 mm   \n",
       "\n",
       "  X Resolution_measurementtype Y Resolution_measurementtype  \\\n",
       "0                          NaN                          NaN   \n",
       "1                         1 mm                         1 mm   \n",
       "2                         1 mm                         1 mm   \n",
       "\n",
       "  gain_measurementtype sound velocity in water_measurementtype  \\\n",
       "0                  NaN                                     NaN   \n",
       "1                13 dB                                1500 m/s   \n",
       "2                11 dB                                1500 m/s   \n",
       "\n",
       "  sound velocity in sample_measurementtype  \\\n",
       "0                                      NaN   \n",
       "1                                 2970 m/s   \n",
       "2                                 2970 m/s   \n",
       "\n",
       "  transducer movement speed_measurementtype Nominal Frequency_measurementtype  \\\n",
       "0                                       NaN                               NaN   \n",
       "1                                   20 mm/s                             5 Mhz   \n",
       "2                                   20 mm/s                             5 Mhz   \n",
       "\n",
       "  sample transducer distance_measurementtype  \\\n",
       "0                                        NaN   \n",
       "1                                      77 mm   \n",
       "2                                      77 mm   \n",
       "\n",
       "  transducer diameter_measurementtype  \n",
       "0                                 NaN  \n",
       "1                                 NaN  \n",
       "2                            9.529 mm  \n",
       "\n",
       "[3 rows x 25 columns]"
      ]
     },
     "execution_count": 10,
     "metadata": {},
     "output_type": "execute_result"
    }
   ],
   "source": [
    "data = qrs.get_data_metadata(table_name)\n",
    "\n",
    "data.head()"
   ]
  }
 ],
 "metadata": {
  "kernelspec": {
   "display_name": "Python 3",
   "language": "python",
   "name": "python3"
  },
  "language_info": {
   "codemirror_mode": {
    "name": "ipython",
    "version": 3
   },
   "file_extension": ".py",
   "mimetype": "text/x-python",
   "name": "python",
   "nbconvert_exporter": "python",
   "pygments_lexer": "ipython3",
   "version": "3.13.2"
  }
 },
 "nbformat": 4,
 "nbformat_minor": 2
}
