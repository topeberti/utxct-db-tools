{
 "cells": [
  {
   "cell_type": "markdown",
   "metadata": {},
   "source": [
    "# Get a table and its metadata information linked"
   ]
  },
  {
   "cell_type": "markdown",
   "metadata": {},
   "source": [
    "## imports"
   ]
  },
  {
   "cell_type": "code",
   "execution_count": 1,
   "metadata": {},
   "outputs": [],
   "source": [
    "import psycopg2\n",
    "import numpy as np\n",
    "#import a folder in the parent directory\n",
    "import sys\n",
    "sys.path.append('../')\n",
    "import dbtools.dbtools as qrs\n",
    "from pathlib import Path\n",
    "import tifffile as tiff\n",
    "import os\n",
    "from tqdm import tqdm"
   ]
  },
  {
   "cell_type": "markdown",
   "metadata": {},
   "source": [
    "## Connection"
   ]
  },
  {
   "cell_type": "code",
   "execution_count": 2,
   "metadata": {},
   "outputs": [
    {
     "name": "stdout",
     "output_type": "stream",
     "text": [
      "Connected to the database\n"
     ]
    }
   ],
   "source": [
    "try:\n",
    "    # Connect to the PostgreSQL database\n",
    "    conn = qrs.connect()\n",
    "    print(\"Connected to the database\")\n",
    "\n",
    "except (Exception, psycopg2.DatabaseError) as error:\n",
    "    print(error)"
   ]
  },
  {
   "cell_type": "markdown",
   "metadata": {},
   "source": [
    "## Table info"
   ]
  },
  {
   "cell_type": "code",
   "execution_count": 3,
   "metadata": {},
   "outputs": [],
   "source": [
    "table_name = 'measurements'"
   ]
  },
  {
   "cell_type": "code",
   "execution_count": 4,
   "metadata": {},
   "outputs": [
    {
     "data": {
      "text/html": [
       "<div>\n",
       "<style scoped>\n",
       "    .dataframe tbody tr th:only-of-type {\n",
       "        vertical-align: middle;\n",
       "    }\n",
       "\n",
       "    .dataframe tbody tr th {\n",
       "        vertical-align: top;\n",
       "    }\n",
       "\n",
       "    .dataframe thead th {\n",
       "        text-align: right;\n",
       "    }\n",
       "</style>\n",
       "<table border=\"1\" class=\"dataframe\">\n",
       "  <thead>\n",
       "    <tr style=\"text-align: right;\">\n",
       "      <th></th>\n",
       "      <th>id_measurement</th>\n",
       "      <th>file_path_measurement</th>\n",
       "      <th>parent_measurement_id_measurement</th>\n",
       "      <th>measurementtype_id_measurement</th>\n",
       "      <th>height_measurement</th>\n",
       "      <th>width_measurement</th>\n",
       "      <th>depth_measurement</th>\n",
       "      <th>dtype_measurement</th>\n",
       "      <th>file_type_measurement</th>\n",
       "      <th>signal_type_measurement</th>\n",
       "      <th>axes_order_measurement</th>\n",
       "      <th>transformations_measurement</th>\n",
       "      <th>aligned_measurement</th>\n",
       "      <th>equalized_measurement</th>\n",
       "    </tr>\n",
       "  </thead>\n",
       "  <tbody>\n",
       "    <tr>\n",
       "      <th>0</th>\n",
       "      <td>98</td>\n",
       "      <td>\\\\192.168.10.106\\imdea\\DataDriven_UT_AlbertoVi...</td>\n",
       "      <td>NaN</td>\n",
       "      <td>4</td>\n",
       "      <td>505 cardinal</td>\n",
       "      <td>120 cardinal</td>\n",
       "      <td>45 cardinal</td>\n",
       "      <td>uint8 nominal</td>\n",
       "      <td>.tif nominal</td>\n",
       "      <td>RF nominal</td>\n",
       "      <td>['z', 'y', 'x'] list</td>\n",
       "      <td>NaN</td>\n",
       "      <td>NaN</td>\n",
       "      <td>NaN</td>\n",
       "    </tr>\n",
       "    <tr>\n",
       "      <th>1</th>\n",
       "      <td>99</td>\n",
       "      <td>\\\\192.168.10.106\\imdea\\DataDriven_UT_AlbertoVi...</td>\n",
       "      <td>98.0</td>\n",
       "      <td>4</td>\n",
       "      <td>505 cardinal</td>\n",
       "      <td>120 cardinal</td>\n",
       "      <td>45 cardinal</td>\n",
       "      <td>uint8 nominal</td>\n",
       "      <td>.tif nominal</td>\n",
       "      <td>RF nominal</td>\n",
       "      <td>['z', 'y', 'x'] list</td>\n",
       "      <td>Hillbert Transform applied text</td>\n",
       "      <td>NaN</td>\n",
       "      <td>NaN</td>\n",
       "    </tr>\n",
       "    <tr>\n",
       "      <th>2</th>\n",
       "      <td>101</td>\n",
       "      <td>\\\\192.168.10.106\\imdea\\DataDriven_UT_AlbertoVi...</td>\n",
       "      <td>NaN</td>\n",
       "      <td>2</td>\n",
       "      <td>3226 cardinal</td>\n",
       "      <td>1734 cardinal</td>\n",
       "      <td>1003 cardinal</td>\n",
       "      <td>uint8 string</td>\n",
       "      <td>folder string</td>\n",
       "      <td>NaN</td>\n",
       "      <td>['x', 'y', 'z'] list</td>\n",
       "      <td>NaN</td>\n",
       "      <td>False boolean</td>\n",
       "      <td>True boolean</td>\n",
       "    </tr>\n",
       "  </tbody>\n",
       "</table>\n",
       "</div>"
      ],
      "text/plain": [
       "   id_measurement                              file_path_measurement  \\\n",
       "0              98  \\\\192.168.10.106\\imdea\\DataDriven_UT_AlbertoVi...   \n",
       "1              99  \\\\192.168.10.106\\imdea\\DataDriven_UT_AlbertoVi...   \n",
       "2             101  \\\\192.168.10.106\\imdea\\DataDriven_UT_AlbertoVi...   \n",
       "\n",
       "   parent_measurement_id_measurement  measurementtype_id_measurement  \\\n",
       "0                                NaN                               4   \n",
       "1                               98.0                               4   \n",
       "2                                NaN                               2   \n",
       "\n",
       "  height_measurement width_measurement depth_measurement dtype_measurement  \\\n",
       "0       505 cardinal      120 cardinal       45 cardinal     uint8 nominal   \n",
       "1       505 cardinal      120 cardinal       45 cardinal     uint8 nominal   \n",
       "2      3226 cardinal     1734 cardinal     1003 cardinal      uint8 string   \n",
       "\n",
       "  file_type_measurement signal_type_measurement axes_order_measurement  \\\n",
       "0          .tif nominal              RF nominal   ['z', 'y', 'x'] list   \n",
       "1          .tif nominal              RF nominal   ['z', 'y', 'x'] list   \n",
       "2         folder string                     NaN   ['x', 'y', 'z'] list   \n",
       "\n",
       "       transformations_measurement aligned_measurement equalized_measurement  \n",
       "0                              NaN                 NaN                   NaN  \n",
       "1  Hillbert Transform applied text                 NaN                   NaN  \n",
       "2                              NaN       False boolean          True boolean  "
      ]
     },
     "execution_count": 4,
     "metadata": {},
     "output_type": "execute_result"
    }
   ],
   "source": [
    "data = qrs.get_data_metadata(table_name)\n",
    "\n",
    "data.head()"
   ]
  }
 ],
 "metadata": {
  "kernelspec": {
   "display_name": "sql",
   "language": "python",
   "name": "python3"
  },
  "language_info": {
   "codemirror_mode": {
    "name": "ipython",
    "version": 3
   },
   "file_extension": ".py",
   "mimetype": "text/x-python",
   "name": "python",
   "nbconvert_exporter": "python",
   "pygments_lexer": "ipython3",
   "version": "3.13.2"
  }
 },
 "nbformat": 4,
 "nbformat_minor": 2
}
