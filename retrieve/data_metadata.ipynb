{
 "cells": [
  {
   "cell_type": "markdown",
   "metadata": {},
   "source": [
    "# Get a table and its metadata information linked"
   ]
  },
  {
   "cell_type": "markdown",
   "metadata": {},
   "source": [
    "## imports"
   ]
  },
  {
   "cell_type": "code",
   "execution_count": 1,
   "metadata": {},
   "outputs": [],
   "source": [
    "import psycopg2\n",
    "import numpy as np\n",
    "#import a folder in the parent directory\n",
    "import sys\n",
    "sys.path.append('../')\n",
    "import dbtools.dbtools as qrs\n",
    "from pathlib import Path\n",
    "import tifffile as tiff\n",
    "import os\n",
    "from tqdm import tqdm"
   ]
  },
  {
   "cell_type": "markdown",
   "metadata": {},
   "source": [
    "## Connection"
   ]
  },
  {
   "cell_type": "code",
   "execution_count": 2,
   "metadata": {},
   "outputs": [
    {
     "name": "stdout",
     "output_type": "stream",
     "text": [
      "Connected to the database\n"
     ]
    }
   ],
   "source": [
    "try:\n",
    "    # Connect to the PostgreSQL database\n",
    "    conn = qrs.connect()\n",
    "    print(\"Connected to the database\")\n",
    "\n",
    "except (Exception, psycopg2.DatabaseError) as error:\n",
    "    print(error)"
   ]
  },
  {
   "cell_type": "markdown",
   "metadata": {},
   "source": [
    "## Table info"
   ]
  },
  {
   "cell_type": "code",
   "execution_count": 3,
   "metadata": {},
   "outputs": [],
   "source": [
    "table_name = 'registrations'"
   ]
  },
  {
   "cell_type": "code",
   "execution_count": 4,
   "metadata": {},
   "outputs": [
    {
     "data": {
      "text/html": [
       "<div>\n",
       "<style scoped>\n",
       "    .dataframe tbody tr th:only-of-type {\n",
       "        vertical-align: middle;\n",
       "    }\n",
       "\n",
       "    .dataframe tbody tr th {\n",
       "        vertical-align: top;\n",
       "    }\n",
       "\n",
       "    .dataframe thead th {\n",
       "        text-align: right;\n",
       "    }\n",
       "</style>\n",
       "<table border=\"1\" class=\"dataframe\">\n",
       "  <thead>\n",
       "    <tr style=\"text-align: right;\">\n",
       "      <th></th>\n",
       "      <th>id_registration</th>\n",
       "      <th>reference_measurement_id_registration</th>\n",
       "      <th>registered_measurement_id_registration</th>\n",
       "      <th>registration_matrix_registration</th>\n",
       "      <th>type_registration</th>\n",
       "      <th>axes_registration</th>\n",
       "    </tr>\n",
       "  </thead>\n",
       "  <tbody>\n",
       "    <tr>\n",
       "      <th>0</th>\n",
       "      <td>26</td>\n",
       "      <td>94</td>\n",
       "      <td>107</td>\n",
       "      <td>[[0.9997319637593441, -0.023151687581795338, -...</td>\n",
       "      <td>Alberto 2024 registration method, UTvsXCTPrepr...</td>\n",
       "      <td>['x', 'y'] list</td>\n",
       "    </tr>\n",
       "    <tr>\n",
       "      <th>1</th>\n",
       "      <td>27</td>\n",
       "      <td>95</td>\n",
       "      <td>110</td>\n",
       "      <td>[[0.9597760200663129, -0.28076679167178553, -5...</td>\n",
       "      <td>Alberto 2024 registration method, UTvsXCTPrepr...</td>\n",
       "      <td>['x', 'y'] list</td>\n",
       "    </tr>\n",
       "    <tr>\n",
       "      <th>2</th>\n",
       "      <td>28</td>\n",
       "      <td>96</td>\n",
       "      <td>122</td>\n",
       "      <td>[[0.99980622563045, -0.0196853039243301, -741....</td>\n",
       "      <td>Alberto 2024 registration method, UTvsXCTPrepr...</td>\n",
       "      <td>['x', 'y'] list</td>\n",
       "    </tr>\n",
       "    <tr>\n",
       "      <th>3</th>\n",
       "      <td>29</td>\n",
       "      <td>97</td>\n",
       "      <td>121</td>\n",
       "      <td>[[0.9998035542391035, -0.019820517926008842, -...</td>\n",
       "      <td>Alberto 2024 registration method, UTvsXCTPrepr...</td>\n",
       "      <td>['x', 'y'] list</td>\n",
       "    </tr>\n",
       "    <tr>\n",
       "      <th>4</th>\n",
       "      <td>30</td>\n",
       "      <td>98</td>\n",
       "      <td>116</td>\n",
       "      <td>[[0.99999983645449, 0.0005719186939974105, -70...</td>\n",
       "      <td>Alberto 2024 registration method, UTvsXCTPrepr...</td>\n",
       "      <td>['x', 'y'] list</td>\n",
       "    </tr>\n",
       "    <tr>\n",
       "      <th>5</th>\n",
       "      <td>31</td>\n",
       "      <td>99</td>\n",
       "      <td>118</td>\n",
       "      <td>[[0.9997074109227703, -0.024188686324224284, -...</td>\n",
       "      <td>Alberto 2024 registration method, UTvsXCTPrepr...</td>\n",
       "      <td>['x', 'y'] list</td>\n",
       "    </tr>\n",
       "    <tr>\n",
       "      <th>6</th>\n",
       "      <td>32</td>\n",
       "      <td>100</td>\n",
       "      <td>120</td>\n",
       "      <td>[[0.999931963989553, -0.011664792839800363, -7...</td>\n",
       "      <td>Alberto 2024 registration method, UTvsXCTPrepr...</td>\n",
       "      <td>['x', 'y'] list</td>\n",
       "    </tr>\n",
       "  </tbody>\n",
       "</table>\n",
       "</div>"
      ],
      "text/plain": [
       "   id_registration  reference_measurement_id_registration  \\\n",
       "0               26                                     94   \n",
       "1               27                                     95   \n",
       "2               28                                     96   \n",
       "3               29                                     97   \n",
       "4               30                                     98   \n",
       "5               31                                     99   \n",
       "6               32                                    100   \n",
       "\n",
       "   registered_measurement_id_registration  \\\n",
       "0                                     107   \n",
       "1                                     110   \n",
       "2                                     122   \n",
       "3                                     121   \n",
       "4                                     116   \n",
       "5                                     118   \n",
       "6                                     120   \n",
       "\n",
       "                    registration_matrix_registration  \\\n",
       "0  [[0.9997319637593441, -0.023151687581795338, -...   \n",
       "1  [[0.9597760200663129, -0.28076679167178553, -5...   \n",
       "2  [[0.99980622563045, -0.0196853039243301, -741....   \n",
       "3  [[0.9998035542391035, -0.019820517926008842, -...   \n",
       "4  [[0.99999983645449, 0.0005719186939974105, -70...   \n",
       "5  [[0.9997074109227703, -0.024188686324224284, -...   \n",
       "6  [[0.999931963989553, -0.011664792839800363, -7...   \n",
       "\n",
       "                                   type_registration axes_registration  \n",
       "0  Alberto 2024 registration method, UTvsXCTPrepr...   ['x', 'y'] list  \n",
       "1  Alberto 2024 registration method, UTvsXCTPrepr...   ['x', 'y'] list  \n",
       "2  Alberto 2024 registration method, UTvsXCTPrepr...   ['x', 'y'] list  \n",
       "3  Alberto 2024 registration method, UTvsXCTPrepr...   ['x', 'y'] list  \n",
       "4  Alberto 2024 registration method, UTvsXCTPrepr...   ['x', 'y'] list  \n",
       "5  Alberto 2024 registration method, UTvsXCTPrepr...   ['x', 'y'] list  \n",
       "6  Alberto 2024 registration method, UTvsXCTPrepr...   ['x', 'y'] list  "
      ]
     },
     "execution_count": 4,
     "metadata": {},
     "output_type": "execute_result"
    }
   ],
   "source": [
    "data = qrs.get_data_metadata(table_name)\n",
    "\n",
    "data"
   ]
  }
 ],
 "metadata": {
  "kernelspec": {
   "display_name": "sql",
   "language": "python",
   "name": "python3"
  },
  "language_info": {
   "codemirror_mode": {
    "name": "ipython",
    "version": 3
   },
   "file_extension": ".py",
   "mimetype": "text/x-python",
   "name": "python",
   "nbconvert_exporter": "python",
   "pygments_lexer": "ipython3",
   "version": "3.13.2"
  }
 },
 "nbformat": 4,
 "nbformat_minor": 2
}
