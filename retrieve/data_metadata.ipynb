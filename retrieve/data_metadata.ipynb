{
 "cells": [
  {
   "cell_type": "markdown",
   "metadata": {},
   "source": [
    "# Get a table and its metadata information linked"
   ]
  },
  {
   "cell_type": "markdown",
   "metadata": {},
   "source": [
    "## imports"
   ]
  },
  {
   "cell_type": "code",
   "execution_count": null,
   "metadata": {},
   "outputs": [],
   "source": [
    "import psycopg2\n",
    "import numpy as np\n",
    "#import a folder in the parent directory\n",
    "import sys\n",
    "sys.path.append('../')\n",
    "import dbtools.dbtools as qrs\n",
    "from pathlib import Path\n",
    "import tifffile as tiff\n",
    "import os\n",
    "from tqdm import tqdm"
   ]
  },
  {
   "cell_type": "markdown",
   "metadata": {},
   "source": [
    "## Connection"
   ]
  },
  {
   "cell_type": "code",
   "execution_count": 2,
   "metadata": {},
   "outputs": [
    {
     "name": "stdout",
     "output_type": "stream",
     "text": [
      "Connected to the database\n"
     ]
    }
   ],
   "source": [
    "try:\n",
    "    # Connect to the PostgreSQL database\n",
    "    conn = qrs.connect()\n",
    "    print(\"Connected to the database\")\n",
    "\n",
    "except (Exception, psycopg2.DatabaseError) as error:\n",
    "    print(error)"
   ]
  },
  {
   "cell_type": "markdown",
   "metadata": {},
   "source": [
    "## Table info"
   ]
  },
  {
   "cell_type": "code",
   "execution_count": 3,
   "metadata": {},
   "outputs": [],
   "source": [
    "table_name = 'samples'"
   ]
  },
  {
   "cell_type": "code",
   "execution_count": 4,
   "metadata": {},
   "outputs": [
    {
     "data": {
      "text/html": [
       "<div>\n",
       "<style scoped>\n",
       "    .dataframe tbody tr th:only-of-type {\n",
       "        vertical-align: middle;\n",
       "    }\n",
       "\n",
       "    .dataframe tbody tr th {\n",
       "        vertical-align: top;\n",
       "    }\n",
       "\n",
       "    .dataframe thead th {\n",
       "        text-align: right;\n",
       "    }\n",
       "</style>\n",
       "<table border=\"1\" class=\"dataframe\">\n",
       "  <thead>\n",
       "    <tr style=\"text-align: right;\">\n",
       "      <th></th>\n",
       "      <th>id_sample</th>\n",
       "      <th>name_sample</th>\n",
       "      <th>panel_id_sample</th>\n",
       "      <th>geometry_type_sample</th>\n",
       "      <th>height_sample</th>\n",
       "      <th>width_sample</th>\n",
       "      <th>thickness_sample</th>\n",
       "      <th>keyhole_sample</th>\n",
       "    </tr>\n",
       "  </thead>\n",
       "  <tbody>\n",
       "    <tr>\n",
       "      <th>0</th>\n",
       "      <td>1</td>\n",
       "      <td>JI_4</td>\n",
       "      <td>1</td>\n",
       "      <td>parallel nominal</td>\n",
       "      <td>150 mm</td>\n",
       "      <td>40 mm</td>\n",
       "      <td>5 mm</td>\n",
       "      <td>True Boolean</td>\n",
       "    </tr>\n",
       "    <tr>\n",
       "      <th>1</th>\n",
       "      <td>2</td>\n",
       "      <td>JI_5</td>\n",
       "      <td>1</td>\n",
       "      <td>parallel nominal</td>\n",
       "      <td>150 mm</td>\n",
       "      <td>40 mm</td>\n",
       "      <td>5 mm</td>\n",
       "      <td>True Boolean</td>\n",
       "    </tr>\n",
       "    <tr>\n",
       "      <th>2</th>\n",
       "      <td>3</td>\n",
       "      <td>JI_7</td>\n",
       "      <td>1</td>\n",
       "      <td>parallel nominal</td>\n",
       "      <td>150 mm</td>\n",
       "      <td>40 mm</td>\n",
       "      <td>5 mm</td>\n",
       "      <td>True Boolean</td>\n",
       "    </tr>\n",
       "    <tr>\n",
       "      <th>3</th>\n",
       "      <td>4</td>\n",
       "      <td>JI_8</td>\n",
       "      <td>1</td>\n",
       "      <td>parallel nominal</td>\n",
       "      <td>150 mm</td>\n",
       "      <td>40 mm</td>\n",
       "      <td>5 mm</td>\n",
       "      <td>True Boolean</td>\n",
       "    </tr>\n",
       "    <tr>\n",
       "      <th>4</th>\n",
       "      <td>5</td>\n",
       "      <td>JI_9</td>\n",
       "      <td>1</td>\n",
       "      <td>parallel nominal</td>\n",
       "      <td>150 mm</td>\n",
       "      <td>40 mm</td>\n",
       "      <td>5 mm</td>\n",
       "      <td>True Boolean</td>\n",
       "    </tr>\n",
       "    <tr>\n",
       "      <th>5</th>\n",
       "      <td>6</td>\n",
       "      <td>JI_10</td>\n",
       "      <td>1</td>\n",
       "      <td>parallel nominal</td>\n",
       "      <td>150 mm</td>\n",
       "      <td>40 mm</td>\n",
       "      <td>5 mm</td>\n",
       "      <td>True Boolean</td>\n",
       "    </tr>\n",
       "    <tr>\n",
       "      <th>6</th>\n",
       "      <td>7</td>\n",
       "      <td>JI_11</td>\n",
       "      <td>1</td>\n",
       "      <td>parallel nominal</td>\n",
       "      <td>150 mm</td>\n",
       "      <td>40 mm</td>\n",
       "      <td>5 mm</td>\n",
       "      <td>True Boolean</td>\n",
       "    </tr>\n",
       "    <tr>\n",
       "      <th>7</th>\n",
       "      <td>8</td>\n",
       "      <td>JI_12</td>\n",
       "      <td>1</td>\n",
       "      <td>parallel nominal</td>\n",
       "      <td>150 mm</td>\n",
       "      <td>40 mm</td>\n",
       "      <td>5 mm</td>\n",
       "      <td>True Boolean</td>\n",
       "    </tr>\n",
       "  </tbody>\n",
       "</table>\n",
       "</div>"
      ],
      "text/plain": [
       "   id_sample name_sample  panel_id_sample geometry_type_sample height_sample  \\\n",
       "0          1        JI_4                1     parallel nominal        150 mm   \n",
       "1          2        JI_5                1     parallel nominal        150 mm   \n",
       "2          3        JI_7                1     parallel nominal        150 mm   \n",
       "3          4        JI_8                1     parallel nominal        150 mm   \n",
       "4          5        JI_9                1     parallel nominal        150 mm   \n",
       "5          6       JI_10                1     parallel nominal        150 mm   \n",
       "6          7       JI_11                1     parallel nominal        150 mm   \n",
       "7          8       JI_12                1     parallel nominal        150 mm   \n",
       "\n",
       "  width_sample thickness_sample keyhole_sample  \n",
       "0        40 mm             5 mm   True Boolean  \n",
       "1        40 mm             5 mm   True Boolean  \n",
       "2        40 mm             5 mm   True Boolean  \n",
       "3        40 mm             5 mm   True Boolean  \n",
       "4        40 mm             5 mm   True Boolean  \n",
       "5        40 mm             5 mm   True Boolean  \n",
       "6        40 mm             5 mm   True Boolean  \n",
       "7        40 mm             5 mm   True Boolean  "
      ]
     },
     "execution_count": 4,
     "metadata": {},
     "output_type": "execute_result"
    }
   ],
   "source": [
    "data = qrs.get_data_metadata(table_name)\n",
    "\n",
    "data"
   ]
  }
 ],
 "metadata": {
  "kernelspec": {
   "display_name": "Python 3",
   "language": "python",
   "name": "python3"
  },
  "language_info": {
   "codemirror_mode": {
    "name": "ipython",
    "version": 3
   },
   "file_extension": ".py",
   "mimetype": "text/x-python",
   "name": "python",
   "nbconvert_exporter": "python",
   "pygments_lexer": "ipython3",
   "version": "3.13.2"
  }
 },
 "nbformat": 4,
 "nbformat_minor": 2
}
