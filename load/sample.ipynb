{
 "cells": [
  {
   "cell_type": "markdown",
   "metadata": {},
   "source": [
    "# Sample Loading"
   ]
  },
  {
   "cell_type": "markdown",
   "metadata": {},
   "source": [
    "Notebook to load Sample data into the databse"
   ]
  },
  {
   "cell_type": "markdown",
   "metadata": {},
   "source": [
    "## Imports"
   ]
  },
  {
   "cell_type": "code",
   "execution_count": 96,
   "metadata": {},
   "outputs": [],
   "source": [
    "import psycopg2\n",
    "from tabulate import tabulate\n",
    "#import a folder in the parent directory\n",
    "import sys\n",
    "sys.path.append('../')\n",
    "import queries.queries as qrs"
   ]
  },
  {
   "cell_type": "markdown",
   "metadata": {},
   "source": [
    "## Connection"
   ]
  },
  {
   "cell_type": "code",
   "execution_count": null,
   "metadata": {},
   "outputs": [
    {
     "name": "stdout",
     "output_type": "stream",
     "text": [
      "Connected to the database\n"
     ]
    }
   ],
   "source": [
    "try:\n",
    "    # Connect to the PostgreSQL database\n",
    "    conn = qrs.connect()\n",
    "    print(\"Connected to the database\")\n",
    "\n",
    "except (Exception, psycopg2.DatabaseError) as error:\n",
    "    print(error)"
   ]
  },
  {
   "cell_type": "markdown",
   "metadata": {},
   "source": [
    "## Panel id search"
   ]
  },
  {
   "cell_type": "markdown",
   "metadata": {},
   "source": [
    "A panel is made of a material, so the panel table is linked to the material table.\n",
    "\n",
    "Here we have to check the material table and to set the meterial of the panel."
   ]
  },
  {
   "cell_type": "code",
   "execution_count": null,
   "metadata": {},
   "outputs": [
    {
     "data": {
      "text/html": [
       "<div>\n",
       "<style scoped>\n",
       "    .dataframe tbody tr th:only-of-type {\n",
       "        vertical-align: middle;\n",
       "    }\n",
       "\n",
       "    .dataframe tbody tr th {\n",
       "        vertical-align: top;\n",
       "    }\n",
       "\n",
       "    .dataframe thead th {\n",
       "        text-align: right;\n",
       "    }\n",
       "</style>\n",
       "<table border=\"1\" class=\"dataframe\">\n",
       "  <thead>\n",
       "    <tr style=\"text-align: right;\">\n",
       "      <th></th>\n",
       "      <th>id_panel</th>\n",
       "      <th>name_panel</th>\n",
       "      <th>material_id_panel</th>\n",
       "    </tr>\n",
       "  </thead>\n",
       "  <tbody>\n",
       "    <tr>\n",
       "      <th>0</th>\n",
       "      <td>1</td>\n",
       "      <td>Juan Ignacio</td>\n",
       "      <td>1</td>\n",
       "    </tr>\n",
       "  </tbody>\n",
       "</table>\n",
       "</div>"
      ],
      "text/plain": [
       "   id_panel    name_panel  material_id_panel\n",
       "0         1  Juan Ignacio                  1"
      ]
     },
     "execution_count": 98,
     "metadata": {},
     "output_type": "execute_result"
    }
   ],
   "source": [
    "parent_table_name = 'panels'\n",
    "\n",
    "parent_id_column = parent_table_name[:-1] + '_id'\n",
    "\n",
    "parent_data = qrs.get_data(parent_table_name)\n",
    "\n",
    "parent_data"
   ]
  },
  {
   "cell_type": "code",
   "execution_count": 99,
   "metadata": {},
   "outputs": [],
   "source": [
    "#we set the id\n",
    "parent_id = 1"
   ]
  },
  {
   "cell_type": "markdown",
   "metadata": {},
   "source": [
    "## Sample data"
   ]
  },
  {
   "cell_type": "markdown",
   "metadata": {},
   "source": [
    "We have to add the parameters of the sample.\n",
    "\n",
    "The name is a compulsory parameter, it has to be always filled.\n",
    "\n",
    "The panel_id(parent_id_column) parameter is chosen in the previous cells"
   ]
  },
  {
   "cell_type": "code",
   "execution_count": 100,
   "metadata": {},
   "outputs": [],
   "source": [
    "name = 'JI_12'\n",
    "\n",
    "main_parameters = {'name':name, parent_id_column:parent_id} \n"
   ]
  },
  {
   "cell_type": "markdown",
   "metadata": {},
   "source": [
    "Then metadata parameters are optional and can vary depending on the sample so its loading to the database is more dinamic.\n",
    "\n",
    "The metadata list can be empty.\n",
    "\n",
    "To load metadata parameters we have to fill a list with dictionaries, the dictionaries may have this parameters:\n",
    "\n",
    "1. key: The name of the parameter\n",
    "\n",
    "2. value: The value of the parameter\n",
    "\n",
    "3. type: The units of the parameter\n",
    "\n",
    "Here we include an example to save the height, which units are millimeters and the value is 200:\n",
    "\n",
    "metadata_parameteres.append({'key':'height', 'value':'200', 'type':'mm'})"
   ]
  },
  {
   "cell_type": "code",
   "execution_count": null,
   "metadata": {},
   "outputs": [],
   "source": [
    "#metadata\n",
    "\n",
    "metadata_parameters = []\n",
    "\n",
    "metadata_parameters.append({'key':'geometry_type', 'value':'parallel', 'type':'nominal'})\n",
    "\n",
    "metadata_parameters.append({'key':'height', 'value':150, 'type':'mm'})\n",
    "\n",
    "metadata_parameters.append({'key':'width', 'value':40, 'type':'mm'})\n",
    "\n",
    "metadata_parameters.append({'key':'thickness', 'value':5, 'type':'mm'})\n",
    "\n",
    "metadata_parameters.append({'key':'keyholes', 'value':'True', 'type':'Boolean'})"
   ]
  },
  {
   "cell_type": "markdown",
   "metadata": {},
   "source": [
    "## Load into the table"
   ]
  },
  {
   "cell_type": "code",
   "execution_count": 102,
   "metadata": {},
   "outputs": [
    {
     "name": "stdout",
     "output_type": "stream",
     "text": [
      "Parameters to be inserted: \n",
      "    -- name: JI_12\n",
      "    -- panel_id: 1\n"
     ]
    }
   ],
   "source": [
    "print('Parameters to be inserted: ')\n",
    "for key, value in main_parameters.items():\n",
    "    print(f\"    -- {key}: {value}\")"
   ]
  },
  {
   "cell_type": "code",
   "execution_count": 103,
   "metadata": {},
   "outputs": [
    {
     "name": "stdout",
     "output_type": "stream",
     "text": [
      "INSERT INTO samples (name, panel_id) VALUES ('JI_12', '1')\n"
     ]
    }
   ],
   "source": [
    "table_name = 'samples'\n",
    "\n",
    "# Extract column names and values from the attributes dictionary\n",
    "columns = ', '.join(main_parameters.keys())\n",
    "values = ', '.join([f\"'{v}'\" for v in main_parameters.values()])\n",
    "\n",
    "# Construct the SQL INSERT statement\n",
    "sql = f\"INSERT INTO {table_name} ({columns}) VALUES ({values})\"\n",
    "\n",
    "print(sql)\n",
    "\n",
    "# Create a cursor object using the cursor() method\n",
    "cursor = conn.cursor()\n",
    "\n",
    "# Execute the SQL statement\n",
    "cursor.execute(sql)\n",
    "\n",
    "cursor.execute('COMMIT')\n",
    "\n",
    "cursor.close()"
   ]
  },
  {
   "cell_type": "markdown",
   "metadata": {},
   "source": [
    "## Make sure insert was correct"
   ]
  },
  {
   "cell_type": "code",
   "execution_count": null,
   "metadata": {},
   "outputs": [
    {
     "data": {
      "text/html": [
       "<div>\n",
       "<style scoped>\n",
       "    .dataframe tbody tr th:only-of-type {\n",
       "        vertical-align: middle;\n",
       "    }\n",
       "\n",
       "    .dataframe tbody tr th {\n",
       "        vertical-align: top;\n",
       "    }\n",
       "\n",
       "    .dataframe thead th {\n",
       "        text-align: right;\n",
       "    }\n",
       "</style>\n",
       "<table border=\"1\" class=\"dataframe\">\n",
       "  <thead>\n",
       "    <tr style=\"text-align: right;\">\n",
       "      <th></th>\n",
       "      <th>id_sample</th>\n",
       "      <th>name_sample</th>\n",
       "      <th>geometry_type_sample</th>\n",
       "      <th>height_sample</th>\n",
       "      <th>width_sample</th>\n",
       "      <th>thickness_sample</th>\n",
       "      <th>id_panel</th>\n",
       "      <th>name_panel</th>\n",
       "      <th>material_id_panel</th>\n",
       "    </tr>\n",
       "  </thead>\n",
       "  <tbody>\n",
       "    <tr>\n",
       "      <th>0</th>\n",
       "      <td>1</td>\n",
       "      <td>JI_4</td>\n",
       "      <td>parallel nominal</td>\n",
       "      <td>150 mm</td>\n",
       "      <td>40 mm</td>\n",
       "      <td>5 mm</td>\n",
       "      <td>1</td>\n",
       "      <td>Juan Ignacio</td>\n",
       "      <td>1</td>\n",
       "    </tr>\n",
       "    <tr>\n",
       "      <th>1</th>\n",
       "      <td>2</td>\n",
       "      <td>JI_5</td>\n",
       "      <td>parallel nominal</td>\n",
       "      <td>150 mm</td>\n",
       "      <td>40 mm</td>\n",
       "      <td>5 mm</td>\n",
       "      <td>1</td>\n",
       "      <td>Juan Ignacio</td>\n",
       "      <td>1</td>\n",
       "    </tr>\n",
       "    <tr>\n",
       "      <th>2</th>\n",
       "      <td>3</td>\n",
       "      <td>JI_7</td>\n",
       "      <td>parallel nominal</td>\n",
       "      <td>150 mm</td>\n",
       "      <td>40 mm</td>\n",
       "      <td>5 mm</td>\n",
       "      <td>1</td>\n",
       "      <td>Juan Ignacio</td>\n",
       "      <td>1</td>\n",
       "    </tr>\n",
       "    <tr>\n",
       "      <th>3</th>\n",
       "      <td>4</td>\n",
       "      <td>JI_8</td>\n",
       "      <td>parallel nominal</td>\n",
       "      <td>150 mm</td>\n",
       "      <td>40 mm</td>\n",
       "      <td>5 mm</td>\n",
       "      <td>1</td>\n",
       "      <td>Juan Ignacio</td>\n",
       "      <td>1</td>\n",
       "    </tr>\n",
       "    <tr>\n",
       "      <th>4</th>\n",
       "      <td>5</td>\n",
       "      <td>JI_9</td>\n",
       "      <td>parallel nominal</td>\n",
       "      <td>150 mm</td>\n",
       "      <td>40 mm</td>\n",
       "      <td>5 mm</td>\n",
       "      <td>1</td>\n",
       "      <td>Juan Ignacio</td>\n",
       "      <td>1</td>\n",
       "    </tr>\n",
       "    <tr>\n",
       "      <th>5</th>\n",
       "      <td>6</td>\n",
       "      <td>JI_10</td>\n",
       "      <td>parallel nominal</td>\n",
       "      <td>150 mm</td>\n",
       "      <td>40 mm</td>\n",
       "      <td>5 mm</td>\n",
       "      <td>1</td>\n",
       "      <td>Juan Ignacio</td>\n",
       "      <td>1</td>\n",
       "    </tr>\n",
       "    <tr>\n",
       "      <th>6</th>\n",
       "      <td>7</td>\n",
       "      <td>JI_11</td>\n",
       "      <td>parallel nominal</td>\n",
       "      <td>150 mm</td>\n",
       "      <td>40 mm</td>\n",
       "      <td>5 mm</td>\n",
       "      <td>1</td>\n",
       "      <td>Juan Ignacio</td>\n",
       "      <td>1</td>\n",
       "    </tr>\n",
       "    <tr>\n",
       "      <th>7</th>\n",
       "      <td>8</td>\n",
       "      <td>JI_12</td>\n",
       "      <td>NaN</td>\n",
       "      <td>NaN</td>\n",
       "      <td>NaN</td>\n",
       "      <td>NaN</td>\n",
       "      <td>1</td>\n",
       "      <td>Juan Ignacio</td>\n",
       "      <td>1</td>\n",
       "    </tr>\n",
       "  </tbody>\n",
       "</table>\n",
       "</div>"
      ],
      "text/plain": [
       "   id_sample name_sample geometry_type_sample height_sample width_sample  \\\n",
       "0          1        JI_4     parallel nominal        150 mm        40 mm   \n",
       "1          2        JI_5     parallel nominal        150 mm        40 mm   \n",
       "2          3        JI_7     parallel nominal        150 mm        40 mm   \n",
       "3          4        JI_8     parallel nominal        150 mm        40 mm   \n",
       "4          5        JI_9     parallel nominal        150 mm        40 mm   \n",
       "5          6       JI_10     parallel nominal        150 mm        40 mm   \n",
       "6          7       JI_11     parallel nominal        150 mm        40 mm   \n",
       "7          8       JI_12                  NaN           NaN          NaN   \n",
       "\n",
       "  thickness_sample  id_panel    name_panel  material_id_panel  \n",
       "0             5 mm         1  Juan Ignacio                  1  \n",
       "1             5 mm         1  Juan Ignacio                  1  \n",
       "2             5 mm         1  Juan Ignacio                  1  \n",
       "3             5 mm         1  Juan Ignacio                  1  \n",
       "4             5 mm         1  Juan Ignacio                  1  \n",
       "5             5 mm         1  Juan Ignacio                  1  \n",
       "6             5 mm         1  Juan Ignacio                  1  \n",
       "7              NaN         1  Juan Ignacio                  1  "
      ]
     },
     "execution_count": 104,
     "metadata": {},
     "output_type": "execute_result"
    }
   ],
   "source": [
    "data = qrs.data_parent(table_name,parent_table_name,parent_id_column)\n",
    "\n",
    "data"
   ]
  },
  {
   "cell_type": "markdown",
   "metadata": {},
   "source": [
    "Now we store the id of the inserted row, to insert its related metadata"
   ]
  },
  {
   "cell_type": "code",
   "execution_count": 105,
   "metadata": {},
   "outputs": [
    {
     "name": "stdout",
     "output_type": "stream",
     "text": [
      "Row ID: 8\n"
     ]
    }
   ],
   "source": [
    "row_id = data['id_' + table_name[:-1]].values[-1]\n",
    "\n",
    "print(f\"Row ID: {row_id}\")"
   ]
  },
  {
   "cell_type": "markdown",
   "metadata": {},
   "source": [
    "## Load into the metadata table"
   ]
  },
  {
   "cell_type": "code",
   "execution_count": 106,
   "metadata": {},
   "outputs": [
    {
     "name": "stdout",
     "output_type": "stream",
     "text": [
      "INSERT INTO sample_metadata (key, value, type, sample_id) VALUES ('geometry_type', 'parallel', 'nominal', '8')\n",
      "INSERT INTO sample_metadata (key, value, type, sample_id) VALUES ('height', '150', 'mm', '8')\n",
      "INSERT INTO sample_metadata (key, value, type, sample_id) VALUES ('width', '40', 'mm', '8')\n",
      "INSERT INTO sample_metadata (key, value, type, sample_id) VALUES ('thickness', '5', 'mm', '8')\n"
     ]
    }
   ],
   "source": [
    "metadata_table_name =  table_name[:-1] + '_metadata'\n",
    "\n",
    "for attributes in metadata_parameters:\n",
    "\n",
    "    attributes[table_name[:-1] + '_id'] = row_id\n",
    "\n",
    "    # Extract column names and values from the attributes dictionary\n",
    "    columns = ', '.join(attributes.keys())\n",
    "    values = ', '.join([f\"'{v}'\" for v in attributes.values()])\n",
    "\n",
    "    # Construct the SQL INSERT statement\n",
    "    sql = f\"INSERT INTO {metadata_table_name} ({columns}) VALUES ({values})\"\n",
    "\n",
    "    print(sql)\n",
    "\n",
    "    # Create a cursor object using the cursor() method\n",
    "    cursor = conn.cursor()\n",
    "\n",
    "    # Execute the SQL statement\n",
    "    cursor.execute(sql)\n",
    "\n",
    "    cursor.execute('COMMIT')\n",
    "\n",
    "    cursor.close()"
   ]
  },
  {
   "cell_type": "markdown",
   "metadata": {},
   "source": [
    "## Make sure insert was correct"
   ]
  },
  {
   "cell_type": "code",
   "execution_count": null,
   "metadata": {},
   "outputs": [
    {
     "data": {
      "text/html": [
       "<div>\n",
       "<style scoped>\n",
       "    .dataframe tbody tr th:only-of-type {\n",
       "        vertical-align: middle;\n",
       "    }\n",
       "\n",
       "    .dataframe tbody tr th {\n",
       "        vertical-align: top;\n",
       "    }\n",
       "\n",
       "    .dataframe thead th {\n",
       "        text-align: right;\n",
       "    }\n",
       "</style>\n",
       "<table border=\"1\" class=\"dataframe\">\n",
       "  <thead>\n",
       "    <tr style=\"text-align: right;\">\n",
       "      <th></th>\n",
       "      <th>id_sample</th>\n",
       "      <th>name_sample</th>\n",
       "      <th>panel_id_sample</th>\n",
       "      <th>geometry_type_sample</th>\n",
       "      <th>height_sample</th>\n",
       "      <th>width_sample</th>\n",
       "      <th>thickness_sample</th>\n",
       "    </tr>\n",
       "  </thead>\n",
       "  <tbody>\n",
       "    <tr>\n",
       "      <th>0</th>\n",
       "      <td>1</td>\n",
       "      <td>JI_4</td>\n",
       "      <td>1</td>\n",
       "      <td>parallel nominal</td>\n",
       "      <td>150 mm</td>\n",
       "      <td>40 mm</td>\n",
       "      <td>5 mm</td>\n",
       "    </tr>\n",
       "    <tr>\n",
       "      <th>1</th>\n",
       "      <td>2</td>\n",
       "      <td>JI_5</td>\n",
       "      <td>1</td>\n",
       "      <td>parallel nominal</td>\n",
       "      <td>150 mm</td>\n",
       "      <td>40 mm</td>\n",
       "      <td>5 mm</td>\n",
       "    </tr>\n",
       "    <tr>\n",
       "      <th>2</th>\n",
       "      <td>3</td>\n",
       "      <td>JI_7</td>\n",
       "      <td>1</td>\n",
       "      <td>parallel nominal</td>\n",
       "      <td>150 mm</td>\n",
       "      <td>40 mm</td>\n",
       "      <td>5 mm</td>\n",
       "    </tr>\n",
       "    <tr>\n",
       "      <th>3</th>\n",
       "      <td>4</td>\n",
       "      <td>JI_8</td>\n",
       "      <td>1</td>\n",
       "      <td>parallel nominal</td>\n",
       "      <td>150 mm</td>\n",
       "      <td>40 mm</td>\n",
       "      <td>5 mm</td>\n",
       "    </tr>\n",
       "    <tr>\n",
       "      <th>4</th>\n",
       "      <td>5</td>\n",
       "      <td>JI_9</td>\n",
       "      <td>1</td>\n",
       "      <td>parallel nominal</td>\n",
       "      <td>150 mm</td>\n",
       "      <td>40 mm</td>\n",
       "      <td>5 mm</td>\n",
       "    </tr>\n",
       "    <tr>\n",
       "      <th>5</th>\n",
       "      <td>6</td>\n",
       "      <td>JI_10</td>\n",
       "      <td>1</td>\n",
       "      <td>parallel nominal</td>\n",
       "      <td>150 mm</td>\n",
       "      <td>40 mm</td>\n",
       "      <td>5 mm</td>\n",
       "    </tr>\n",
       "    <tr>\n",
       "      <th>6</th>\n",
       "      <td>7</td>\n",
       "      <td>JI_11</td>\n",
       "      <td>1</td>\n",
       "      <td>parallel nominal</td>\n",
       "      <td>150 mm</td>\n",
       "      <td>40 mm</td>\n",
       "      <td>5 mm</td>\n",
       "    </tr>\n",
       "    <tr>\n",
       "      <th>7</th>\n",
       "      <td>8</td>\n",
       "      <td>JI_12</td>\n",
       "      <td>1</td>\n",
       "      <td>parallel nominal</td>\n",
       "      <td>150 mm</td>\n",
       "      <td>40 mm</td>\n",
       "      <td>5 mm</td>\n",
       "    </tr>\n",
       "  </tbody>\n",
       "</table>\n",
       "</div>"
      ],
      "text/plain": [
       "   id_sample name_sample  panel_id_sample geometry_type_sample height_sample  \\\n",
       "0          1        JI_4                1     parallel nominal        150 mm   \n",
       "1          2        JI_5                1     parallel nominal        150 mm   \n",
       "2          3        JI_7                1     parallel nominal        150 mm   \n",
       "3          4        JI_8                1     parallel nominal        150 mm   \n",
       "4          5        JI_9                1     parallel nominal        150 mm   \n",
       "5          6       JI_10                1     parallel nominal        150 mm   \n",
       "6          7       JI_11                1     parallel nominal        150 mm   \n",
       "7          8       JI_12                1     parallel nominal        150 mm   \n",
       "\n",
       "  width_sample thickness_sample  \n",
       "0        40 mm             5 mm  \n",
       "1        40 mm             5 mm  \n",
       "2        40 mm             5 mm  \n",
       "3        40 mm             5 mm  \n",
       "4        40 mm             5 mm  \n",
       "5        40 mm             5 mm  \n",
       "6        40 mm             5 mm  \n",
       "7        40 mm             5 mm  "
      ]
     },
     "execution_count": 107,
     "metadata": {},
     "output_type": "execute_result"
    }
   ],
   "source": [
    "data = qrs.get_data_metadata(table_name)\n",
    "\n",
    "data"
   ]
  },
  {
   "cell_type": "code",
   "execution_count": 108,
   "metadata": {},
   "outputs": [],
   "source": [
    "conn.close()"
   ]
  }
 ],
 "metadata": {
  "kernelspec": {
   "display_name": "Python 3",
   "language": "python",
   "name": "python3"
  },
  "language_info": {
   "codemirror_mode": {
    "name": "ipython",
    "version": 3
   },
   "file_extension": ".py",
   "mimetype": "text/x-python",
   "name": "python",
   "nbconvert_exporter": "python",
   "pygments_lexer": "ipython3",
   "version": "3.13.2"
  }
 },
 "nbformat": 4,
 "nbformat_minor": 2
}
