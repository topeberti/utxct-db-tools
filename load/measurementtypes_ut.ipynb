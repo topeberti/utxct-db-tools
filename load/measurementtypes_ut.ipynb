{
 "cells": [
  {
   "cell_type": "markdown",
   "metadata": {},
   "source": [
    "# Measurements type Loading"
   ]
  },
  {
   "cell_type": "markdown",
   "metadata": {},
   "source": [
    "Notebook to load Measurements type data into the databse"
   ]
  },
  {
   "cell_type": "markdown",
   "metadata": {},
   "source": [
    "## Imports"
   ]
  },
  {
   "cell_type": "code",
   "execution_count": 1,
   "metadata": {},
   "outputs": [],
   "source": [
    "import psycopg2\n",
    "from tabulate import tabulate\n",
    "#import a folder in the parent directory\n",
    "import sys\n",
    "sys.path.append('../')\n",
    "import queries.queries as qrs"
   ]
  },
  {
   "cell_type": "markdown",
   "metadata": {},
   "source": [
    "## Connection"
   ]
  },
  {
   "cell_type": "code",
   "execution_count": null,
   "metadata": {},
   "outputs": [
    {
     "name": "stdout",
     "output_type": "stream",
     "text": [
      "Connected to the database\n"
     ]
    }
   ],
   "source": [
    "try:\n",
    "    # Connect to the PostgreSQL database\n",
    "    conn = qrs.connect()\n",
    "    print(\"Connected to the database\")\n",
    "\n",
    "except (Exception, psycopg2.DatabaseError) as error:\n",
    "    print(error)"
   ]
  },
  {
   "cell_type": "markdown",
   "metadata": {},
   "source": [
    "## Measurement type data"
   ]
  },
  {
   "cell_type": "markdown",
   "metadata": {},
   "source": [
    "We have to add the parameters of the sample.\n",
    "\n",
    "The name is a compulsory parameter, it has to be always filled.\n",
    "\n",
    "The description is not compulsory but is recommended."
   ]
  },
  {
   "cell_type": "code",
   "execution_count": 3,
   "metadata": {},
   "outputs": [],
   "source": [
    "name = 'UT_2025_1'\n",
    "\n",
    "description = 'UT measurements, 2025 metodology. Measuring at the highest z resolution, and with the focal zone in the frontwall.'\n",
    "\n",
    "main_parameters = {'name': name, 'description': description}"
   ]
  },
  {
   "cell_type": "markdown",
   "metadata": {},
   "source": [
    "Then metadata parameters are optional and can vary depending on the measurement type so its loading to the database is more dinamic.\n",
    "\n",
    "The metadata list can be empty.\n",
    "\n",
    "To load metadata parameters we have to fill a list with dictionaries, the dictionaries may have this parameters:\n",
    "\n",
    "1. key: The name of the parameter\n",
    "\n",
    "2. value: The value of the parameter\n",
    "\n",
    "3. type: The units of the parameter\n",
    "\n",
    "Here we include an example to save the technique, Ultrasound Pulse Echo which type is nominal\n",
    "\n",
    "metadata_parameters.append({'key':'technique', 'value':'Ultrasound Pulse Echo', 'type':'nominal' })\n"
   ]
  },
  {
   "cell_type": "code",
   "execution_count": null,
   "metadata": {},
   "outputs": [],
   "source": [
    "# metadata\n",
    "\n",
    "#for each parameter of the measurement a metadata has to be created\n",
    "\n",
    "metadata_parameters = []\n",
    "\n",
    "#technique\n",
    "metadata_parameters.append({'key':'technique', 'value':'Ultrasound Pulse Echo', 'type':'nominal' })\n",
    "\n",
    "#Nominal Frecuency\n",
    "metadata_parameters.append({'key':'Nominal Frequency', 'value':'5', 'type':'Mhz'})\n",
    "\n",
    "#transducer diameter\n",
    "metadata_parameters.append({'key':'transducer diameter', 'value':'9.529', 'type':'mm'})\n",
    "\n",
    "#Z Resolution\n",
    "metadata_parameters.append({'key':'Z Resolution', 'value':'0.05940588', 'type':'mm'})\n",
    "\n",
    "#Z range\n",
    "metadata_parameters.append({'key':'Z range', 'value':'10', 'type':'mm'})\n",
    "\n",
    "#X Resolution\n",
    "metadata_parameters.append({'key':'X Resolution', 'value':'1', 'type':'mm'})\n",
    "\n",
    "#Y Resolution\n",
    "metadata_parameters.append({'key':'Y Resolution', 'value':'1', 'type':'mm'})\n",
    "\n",
    "#sample transducer distance\n",
    "metadata_parameters.append({'key':'sample transducer distance', 'value':'77', 'type':'mm'})\n",
    "\n",
    "#gain\n",
    "metadata_parameters.append({'key':'gain', 'value':'11', 'type':'dB'})\n",
    "\n",
    "#sound velocity in water\n",
    "metadata_parameters.append({'key':'sound velocity in water', 'value':'1500', 'type':'m/s'})\n",
    "\n",
    "#sound velocity in sample\n",
    "metadata_parameters.append({'key':'sound velocity in sample', 'value':'2970', 'type':'m/s'})\n",
    "\n",
    "#transducer movement speed\n",
    "metadata_parameters.append({'key':'transducer movement speed', 'value':'20', 'type':'mm/s'})"
   ]
  },
  {
   "cell_type": "markdown",
   "metadata": {},
   "source": [
    "## Load into the table"
   ]
  },
  {
   "cell_type": "code",
   "execution_count": 5,
   "metadata": {},
   "outputs": [
    {
     "name": "stdout",
     "output_type": "stream",
     "text": [
      "Parameters to be inserted: \n",
      "    -- name: UT_2025_1\n",
      "    -- description: UT measurements, 2025 metodology. Measuring at the highest z resolution, and with the focal zone in the frontwall.\n"
     ]
    }
   ],
   "source": [
    "print('Parameters to be inserted: ')\n",
    "for key, value in main_parameters.items():\n",
    "    print(f\"    -- {key}: {value}\")"
   ]
  },
  {
   "cell_type": "code",
   "execution_count": 6,
   "metadata": {},
   "outputs": [
    {
     "name": "stdout",
     "output_type": "stream",
     "text": [
      "INSERT INTO measurementtypes (name, description) VALUES ('UT_2025_1', 'UT measurements, 2025 metodology. Measuring at the highest z resolution, and with the focal zone in the frontwall.')\n"
     ]
    }
   ],
   "source": [
    "table_name = 'measurementtypes'\n",
    "\n",
    "# Extract column names and values from the attributes dictionary\n",
    "columns = ', '.join(main_parameters.keys())\n",
    "values = ', '.join([f\"'{v}'\" for v in main_parameters.values()])\n",
    "\n",
    "# Construct the SQL INSERT statement\n",
    "sql = f\"INSERT INTO {table_name} ({columns}) VALUES ({values})\"\n",
    "\n",
    "print(sql)\n",
    "\n",
    "# Create a cursor object using the cursor() method\n",
    "cursor = conn.cursor()\n",
    "\n",
    "# Execute the SQL statement\n",
    "cursor.execute(sql)\n",
    "\n",
    "cursor.execute('COMMIT')\n",
    "\n",
    "cursor.close()"
   ]
  },
  {
   "cell_type": "markdown",
   "metadata": {},
   "source": [
    "## Make sure insert was correct"
   ]
  },
  {
   "cell_type": "code",
   "execution_count": null,
   "metadata": {},
   "outputs": [
    {
     "data": {
      "text/html": [
       "<div>\n",
       "<style scoped>\n",
       "    .dataframe tbody tr th:only-of-type {\n",
       "        vertical-align: middle;\n",
       "    }\n",
       "\n",
       "    .dataframe tbody tr th {\n",
       "        vertical-align: top;\n",
       "    }\n",
       "\n",
       "    .dataframe thead th {\n",
       "        text-align: right;\n",
       "    }\n",
       "</style>\n",
       "<table border=\"1\" class=\"dataframe\">\n",
       "  <thead>\n",
       "    <tr style=\"text-align: right;\">\n",
       "      <th></th>\n",
       "      <th>id_measurementtype</th>\n",
       "      <th>name_measurementtype</th>\n",
       "      <th>description_measurementtype</th>\n",
       "    </tr>\n",
       "  </thead>\n",
       "  <tbody>\n",
       "    <tr>\n",
       "      <th>0</th>\n",
       "      <td>1</td>\n",
       "      <td>UT_2025</td>\n",
       "      <td>UT measurements, 2025 metodology. The ideal co...</td>\n",
       "    </tr>\n",
       "    <tr>\n",
       "      <th>1</th>\n",
       "      <td>2</td>\n",
       "      <td>XCT_2024</td>\n",
       "      <td>First XCT measurements, 2024 metodology.</td>\n",
       "    </tr>\n",
       "    <tr>\n",
       "      <th>2</th>\n",
       "      <td>3</td>\n",
       "      <td>UT_2024</td>\n",
       "      <td>UT measurements, 2024 metodology. Used for the...</td>\n",
       "    </tr>\n",
       "    <tr>\n",
       "      <th>3</th>\n",
       "      <td>4</td>\n",
       "      <td>UT_2025_1</td>\n",
       "      <td>UT measurements, 2025 metodology. Measuring at...</td>\n",
       "    </tr>\n",
       "  </tbody>\n",
       "</table>\n",
       "</div>"
      ],
      "text/plain": [
       "   id_measurementtype name_measurementtype  \\\n",
       "0                   1              UT_2025   \n",
       "1                   2             XCT_2024   \n",
       "2                   3              UT_2024   \n",
       "3                   4            UT_2025_1   \n",
       "\n",
       "                         description_measurementtype  \n",
       "0  UT measurements, 2025 metodology. The ideal co...  \n",
       "1           First XCT measurements, 2024 metodology.  \n",
       "2  UT measurements, 2024 metodology. Used for the...  \n",
       "3  UT measurements, 2025 metodology. Measuring at...  "
      ]
     },
     "execution_count": 7,
     "metadata": {},
     "output_type": "execute_result"
    }
   ],
   "source": [
    "data = qrs.get_data(table_name)\n",
    "\n",
    "data"
   ]
  },
  {
   "cell_type": "markdown",
   "metadata": {},
   "source": [
    "Now we store the id of the inserted row, to insert its related metadata"
   ]
  },
  {
   "cell_type": "code",
   "execution_count": 8,
   "metadata": {},
   "outputs": [
    {
     "name": "stdout",
     "output_type": "stream",
     "text": [
      "Row ID: 4\n"
     ]
    }
   ],
   "source": [
    "row_id = data['id_' + table_name[:-1]].values[-1]\n",
    "\n",
    "print(f\"Row ID: {row_id}\")"
   ]
  },
  {
   "cell_type": "markdown",
   "metadata": {},
   "source": [
    "## Load into the metadata table"
   ]
  },
  {
   "cell_type": "code",
   "execution_count": 9,
   "metadata": {},
   "outputs": [
    {
     "name": "stdout",
     "output_type": "stream",
     "text": [
      "INSERT INTO measurementtype_metadata (key, value, type, measurementtype_id) VALUES ('technique', 'Ultrasound Pulse Echo', 'nominal', '4')\n",
      "INSERT INTO measurementtype_metadata (key, value, type, measurementtype_id) VALUES ('Nominal Frecuency', '5', 'Mhz', '4')\n",
      "INSERT INTO measurementtype_metadata (key, value, type, measurementtype_id) VALUES ('transducer diameter', '9.529', 'mm', '4')\n",
      "INSERT INTO measurementtype_metadata (key, value, type, measurementtype_id) VALUES ('Z Resolution', '0.05940588', 'mm', '4')\n",
      "INSERT INTO measurementtype_metadata (key, value, type, measurementtype_id) VALUES ('Z range', '10', 'mm', '4')\n",
      "INSERT INTO measurementtype_metadata (key, value, type, measurementtype_id) VALUES ('X Resolution', '1', 'mm', '4')\n",
      "INSERT INTO measurementtype_metadata (key, value, type, measurementtype_id) VALUES ('Y Resolution', '1', 'mm', '4')\n",
      "INSERT INTO measurementtype_metadata (key, value, type, measurementtype_id) VALUES ('sample transducer distance', '77', 'mm', '4')\n",
      "INSERT INTO measurementtype_metadata (key, value, type, measurementtype_id) VALUES ('gain', '11', 'dB', '4')\n",
      "INSERT INTO measurementtype_metadata (key, value, type, measurementtype_id) VALUES ('sound velocity in water', '1500', 'm/s', '4')\n",
      "INSERT INTO measurementtype_metadata (key, value, type, measurementtype_id) VALUES ('sound velocity in sample', '2970', 'm/s', '4')\n",
      "INSERT INTO measurementtype_metadata (key, value, type, measurementtype_id) VALUES ('transducer movement speed', '20', 'mm/s', '4')\n"
     ]
    }
   ],
   "source": [
    "metadata_table_name =  table_name[:-1] + '_metadata'\n",
    "\n",
    "for attributes in metadata_parameters:\n",
    "\n",
    "    attributes[table_name[:-1] + '_id'] = row_id\n",
    "\n",
    "    # Extract column names and values from the attributes dictionary\n",
    "    columns = ', '.join(attributes.keys())\n",
    "    values = ', '.join([f\"'{v}'\" for v in attributes.values()])\n",
    "\n",
    "    # Construct the SQL INSERT statement\n",
    "    sql = f\"INSERT INTO {metadata_table_name} ({columns}) VALUES ({values})\"\n",
    "\n",
    "    print(sql)\n",
    "\n",
    "    # Create a cursor object using the cursor() method\n",
    "    cursor = conn.cursor()\n",
    "\n",
    "    # Execute the SQL statement\n",
    "    cursor.execute(sql)\n",
    "\n",
    "    cursor.execute('COMMIT')\n",
    "\n",
    "    cursor.close()"
   ]
  },
  {
   "cell_type": "markdown",
   "metadata": {},
   "source": [
    "## Make sure insert was correct"
   ]
  },
  {
   "cell_type": "code",
   "execution_count": null,
   "metadata": {},
   "outputs": [
    {
     "data": {
      "text/html": [
       "<div>\n",
       "<style scoped>\n",
       "    .dataframe tbody tr th:only-of-type {\n",
       "        vertical-align: middle;\n",
       "    }\n",
       "\n",
       "    .dataframe tbody tr th {\n",
       "        vertical-align: top;\n",
       "    }\n",
       "\n",
       "    .dataframe thead th {\n",
       "        text-align: right;\n",
       "    }\n",
       "</style>\n",
       "<table border=\"1\" class=\"dataframe\">\n",
       "  <thead>\n",
       "    <tr style=\"text-align: right;\">\n",
       "      <th></th>\n",
       "      <th>id_measurementtype</th>\n",
       "      <th>name_measurementtype</th>\n",
       "      <th>description_measurementtype</th>\n",
       "      <th>technique_measurementtype</th>\n",
       "      <th>Nominal Frecuency_measurementtype</th>\n",
       "      <th>Z Resolution_measurementtype</th>\n",
       "      <th>X Resolution_measurementtype</th>\n",
       "      <th>Y Resolution_measurementtype</th>\n",
       "      <th>sample transducer distance_measurementtype</th>\n",
       "      <th>transducer z position_measurementtype</th>\n",
       "      <th>...</th>\n",
       "      <th>resolution_measurementtype</th>\n",
       "      <th>frames_measurementtype</th>\n",
       "      <th>exposure time_measurementtype</th>\n",
       "      <th>projections_measurementtype</th>\n",
       "      <th>target_measurementtype</th>\n",
       "      <th>filter_measurementtype</th>\n",
       "      <th>binning_measurementtype</th>\n",
       "      <th>equipment_measurementtype</th>\n",
       "      <th>Z range_measurementtype</th>\n",
       "      <th>transducer diameter_measurementtype</th>\n",
       "    </tr>\n",
       "  </thead>\n",
       "  <tbody>\n",
       "    <tr>\n",
       "      <th>0</th>\n",
       "      <td>1</td>\n",
       "      <td>UT_2025</td>\n",
       "      <td>UT measurements, 2025 metodology. The ideal co...</td>\n",
       "      <td>Ultrasound Pulse Echo nominal</td>\n",
       "      <td>5 Mhz</td>\n",
       "      <td>0.02232141 mm</td>\n",
       "      <td>1 mm</td>\n",
       "      <td>1 mm</td>\n",
       "      <td>77 mm</td>\n",
       "      <td>120 mm</td>\n",
       "      <td>...</td>\n",
       "      <td>NaN</td>\n",
       "      <td>NaN</td>\n",
       "      <td>NaN</td>\n",
       "      <td>NaN</td>\n",
       "      <td>NaN</td>\n",
       "      <td>NaN</td>\n",
       "      <td>NaN</td>\n",
       "      <td>NaN</td>\n",
       "      <td>NaN</td>\n",
       "      <td>NaN</td>\n",
       "    </tr>\n",
       "    <tr>\n",
       "      <th>1</th>\n",
       "      <td>2</td>\n",
       "      <td>XCT_2024</td>\n",
       "      <td>First XCT measurements, 2024 metodology.</td>\n",
       "      <td>X Ray Computed Tomography nominal</td>\n",
       "      <td>NaN</td>\n",
       "      <td>NaN</td>\n",
       "      <td>NaN</td>\n",
       "      <td>NaN</td>\n",
       "      <td>NaN</td>\n",
       "      <td>NaN</td>\n",
       "      <td>...</td>\n",
       "      <td>20 um</td>\n",
       "      <td>5 cardinal</td>\n",
       "      <td>0.2 s</td>\n",
       "      <td>3300 cardinal</td>\n",
       "      <td>W nominal</td>\n",
       "      <td>LE1 nominal</td>\n",
       "      <td>1 cardinal</td>\n",
       "      <td>Versa nominal</td>\n",
       "      <td>NaN</td>\n",
       "      <td>NaN</td>\n",
       "    </tr>\n",
       "    <tr>\n",
       "      <th>2</th>\n",
       "      <td>3</td>\n",
       "      <td>UT_2024</td>\n",
       "      <td>UT measurements, 2024 metodology. Used for the...</td>\n",
       "      <td>Ultrasound Pulse Echo nominal</td>\n",
       "      <td>5 Mhz</td>\n",
       "      <td>0.05940588 mm</td>\n",
       "      <td>1 mm</td>\n",
       "      <td>1 mm</td>\n",
       "      <td>70 mm</td>\n",
       "      <td>126 mm</td>\n",
       "      <td>...</td>\n",
       "      <td>NaN</td>\n",
       "      <td>NaN</td>\n",
       "      <td>NaN</td>\n",
       "      <td>NaN</td>\n",
       "      <td>NaN</td>\n",
       "      <td>NaN</td>\n",
       "      <td>NaN</td>\n",
       "      <td>NaN</td>\n",
       "      <td>30 mm</td>\n",
       "      <td>NaN</td>\n",
       "    </tr>\n",
       "    <tr>\n",
       "      <th>3</th>\n",
       "      <td>4</td>\n",
       "      <td>UT_2025_1</td>\n",
       "      <td>UT measurements, 2025 metodology. Measuring at...</td>\n",
       "      <td>Ultrasound Pulse Echo nominal</td>\n",
       "      <td>5 Mhz</td>\n",
       "      <td>0.05940588 mm</td>\n",
       "      <td>1 mm</td>\n",
       "      <td>1 mm</td>\n",
       "      <td>77 mm</td>\n",
       "      <td>NaN</td>\n",
       "      <td>...</td>\n",
       "      <td>NaN</td>\n",
       "      <td>NaN</td>\n",
       "      <td>NaN</td>\n",
       "      <td>NaN</td>\n",
       "      <td>NaN</td>\n",
       "      <td>NaN</td>\n",
       "      <td>NaN</td>\n",
       "      <td>NaN</td>\n",
       "      <td>10 mm</td>\n",
       "      <td>9.529 mm</td>\n",
       "    </tr>\n",
       "  </tbody>\n",
       "</table>\n",
       "<p>4 rows × 26 columns</p>\n",
       "</div>"
      ],
      "text/plain": [
       "   id_measurementtype name_measurementtype  \\\n",
       "0                   1              UT_2025   \n",
       "1                   2             XCT_2024   \n",
       "2                   3              UT_2024   \n",
       "3                   4            UT_2025_1   \n",
       "\n",
       "                         description_measurementtype  \\\n",
       "0  UT measurements, 2025 metodology. The ideal co...   \n",
       "1           First XCT measurements, 2024 metodology.   \n",
       "2  UT measurements, 2024 metodology. Used for the...   \n",
       "3  UT measurements, 2025 metodology. Measuring at...   \n",
       "\n",
       "           technique_measurementtype Nominal Frecuency_measurementtype  \\\n",
       "0      Ultrasound Pulse Echo nominal                             5 Mhz   \n",
       "1  X Ray Computed Tomography nominal                               NaN   \n",
       "2      Ultrasound Pulse Echo nominal                             5 Mhz   \n",
       "3      Ultrasound Pulse Echo nominal                             5 Mhz   \n",
       "\n",
       "  Z Resolution_measurementtype X Resolution_measurementtype  \\\n",
       "0                0.02232141 mm                         1 mm   \n",
       "1                          NaN                          NaN   \n",
       "2                0.05940588 mm                         1 mm   \n",
       "3                0.05940588 mm                         1 mm   \n",
       "\n",
       "  Y Resolution_measurementtype sample transducer distance_measurementtype  \\\n",
       "0                         1 mm                                      77 mm   \n",
       "1                          NaN                                        NaN   \n",
       "2                         1 mm                                      70 mm   \n",
       "3                         1 mm                                      77 mm   \n",
       "\n",
       "  transducer z position_measurementtype  ... resolution_measurementtype  \\\n",
       "0                                120 mm  ...                        NaN   \n",
       "1                                   NaN  ...                      20 um   \n",
       "2                                126 mm  ...                        NaN   \n",
       "3                                   NaN  ...                        NaN   \n",
       "\n",
       "  frames_measurementtype exposure time_measurementtype  \\\n",
       "0                    NaN                           NaN   \n",
       "1             5 cardinal                         0.2 s   \n",
       "2                    NaN                           NaN   \n",
       "3                    NaN                           NaN   \n",
       "\n",
       "  projections_measurementtype target_measurementtype filter_measurementtype  \\\n",
       "0                         NaN                    NaN                    NaN   \n",
       "1               3300 cardinal              W nominal            LE1 nominal   \n",
       "2                         NaN                    NaN                    NaN   \n",
       "3                         NaN                    NaN                    NaN   \n",
       "\n",
       "  binning_measurementtype equipment_measurementtype Z range_measurementtype  \\\n",
       "0                     NaN                       NaN                     NaN   \n",
       "1              1 cardinal             Versa nominal                     NaN   \n",
       "2                     NaN                       NaN                   30 mm   \n",
       "3                     NaN                       NaN                   10 mm   \n",
       "\n",
       "  transducer diameter_measurementtype  \n",
       "0                                 NaN  \n",
       "1                                 NaN  \n",
       "2                                 NaN  \n",
       "3                            9.529 mm  \n",
       "\n",
       "[4 rows x 26 columns]"
      ]
     },
     "execution_count": 10,
     "metadata": {},
     "output_type": "execute_result"
    }
   ],
   "source": [
    "data = qrs.get_data_metadata(table_name)\n",
    "\n",
    "data"
   ]
  },
  {
   "cell_type": "code",
   "execution_count": 11,
   "metadata": {},
   "outputs": [],
   "source": [
    "conn.close()"
   ]
  }
 ],
 "metadata": {
  "kernelspec": {
   "display_name": "Python 3",
   "language": "python",
   "name": "python3"
  },
  "language_info": {
   "codemirror_mode": {
    "name": "ipython",
    "version": 3
   },
   "file_extension": ".py",
   "mimetype": "text/x-python",
   "name": "python",
   "nbconvert_exporter": "python",
   "pygments_lexer": "ipython3",
   "version": "3.13.2"
  }
 },
 "nbformat": 4,
 "nbformat_minor": 2
}
