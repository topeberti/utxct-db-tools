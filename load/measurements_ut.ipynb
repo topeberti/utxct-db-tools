{
 "cells": [
  {
   "cell_type": "markdown",
   "metadata": {},
   "source": [
    "# Measurement files UT Loading"
   ]
  },
  {
   "cell_type": "markdown",
   "metadata": {},
   "source": [
    "Notebook to load Measurement files ut data into the databse"
   ]
  },
  {
   "cell_type": "markdown",
   "metadata": {},
   "source": [
    "## Imports"
   ]
  },
  {
   "cell_type": "code",
   "execution_count": null,
   "metadata": {},
   "outputs": [],
   "source": [
    "import psycopg2\n",
    "import numpy as np\n",
    "#import a folder in the parent directory\n",
    "import sys\n",
    "sys.path.append('../')\n",
    "import queries.queries as qrs\n",
    "from pathlib import Path\n",
    "import tifffile as tiff"
   ]
  },
  {
   "cell_type": "markdown",
   "metadata": {},
   "source": [
    "## Connection"
   ]
  },
  {
   "cell_type": "code",
   "execution_count": null,
   "metadata": {},
   "outputs": [],
   "source": [
    "try:\n",
    "    # Connect to the PostgreSQL database\n",
    "    conn = qrs.connect()\n",
    "    print(\"Connected to the database\")\n",
    "\n",
    "except (Exception, psycopg2.DatabaseError) as error:\n",
    "    print(error)"
   ]
  },
  {
   "cell_type": "markdown",
   "metadata": {},
   "source": [
    "## File loading"
   ]
  },
  {
   "cell_type": "markdown",
   "metadata": {},
   "source": [
    "Here we have to load the file of the measurement to be saved in the database.\n",
    "\n",
    "The parent file path has to be explained in depth: Measurements include more than one sample, but then the files are cropped so each sample can be treated individually. Parent file represents the file from where the one being saved is extracted from.\n",
    "\n",
    "If the file being saved is not extracted from any other, set paren_file_path to None"
   ]
  },
  {
   "cell_type": "code",
   "execution_count": null,
   "metadata": {},
   "outputs": [],
   "source": [
    "parent_file_path =Path(r'\\\\192.168.10.106\\imdea\\DataDriven_UT_AlbertoVicente\\03_UT_data\\Probetas JI\\medidas\\2025 metodology\\4+5+7+8+10+11+12\\JI_4_5_7_8_10_11_12_77mmdistance_11db_10mmrange_20mms_ascan492x190x448.tif')\n",
    "\n",
    "file_path = Path(r'\\\\192.168.10.106\\imdea\\DataDriven_UT_AlbertoVicente\\03_UT_data\\Probetas JI\\medidas\\2025 metodology\\4+5+7+8+10+11+12\\JI_4_5_7_8_10_11_12_77mmdistance_11db_10mmrange_20mms_ascan492x190x448.tif')\n",
    "\n",
    "file = tiff.imread(file_path)"
   ]
  },
  {
   "cell_type": "markdown",
   "metadata": {},
   "source": [
    "# Measurement type data"
   ]
  },
  {
   "cell_type": "markdown",
   "metadata": {},
   "source": [
    "We have to set the measurment type id, in this case is the ultrasound 2024 JI methodology so the id is 1.\n",
    "\n",
    "In case you are not sure of the mesaurement type id, you can check it in the measurement_type table in the next cell"
   ]
  },
  {
   "cell_type": "code",
   "execution_count": null,
   "metadata": {},
   "outputs": [],
   "source": [
    "parent_table_name = 'measurementtypes'\n",
    "\n",
    "parent_id_column = parent_table_name[:-1] + '_id'\n",
    "\n",
    "parent_data = qrs.get_data(parent_table_name)\n",
    "\n",
    "parent_data"
   ]
  },
  {
   "cell_type": "code",
   "execution_count": null,
   "metadata": {},
   "outputs": [],
   "source": [
    "#we set the id\n",
    "parent_id = 4"
   ]
  },
  {
   "cell_type": "markdown",
   "metadata": {},
   "source": [
    "## Measurement data"
   ]
  },
  {
   "cell_type": "markdown",
   "metadata": {},
   "source": [
    "Now we have to set the attributes and metadata of the measurements:\n",
    "\n",
    "1. Main attributes\n",
    "\n",
    "    1. Sample_names: Its a list with the names of all the samples present in the file. If the names are not written as in the database it wont work so be precise.\n",
    "\n",
    "    2. file_path: The file location\n",
    "\n",
    "    3. Parent_file_id: In this variable save the path to the parent file. A parent file is the file where the file we want to save was precomputed from, for example the amplitude file is computed from the rf file. This will be automatically extracted later.\n",
    "\n",
    "2. Metadata\n",
    "\n",
    "    1. Dimensions: Dimensions are automatically computed from the loaded file\n",
    "\n",
    "    2. Dtype: The precision type of the file\n",
    "\n",
    "    3. File_type: The file extension\n",
    "\n",
    "    4. Signal_type: The signal type can be RF, amplitude, I/Q or whatever signal processing result\n",
    "    "
   ]
  },
  {
   "cell_type": "code",
   "execution_count": null,
   "metadata": {},
   "outputs": [],
   "source": [
    "sample_names = ['JI_4']\n",
    "\n",
    "main_parameters = {'file_path':file_path,parent_id_column:parent_id}\n",
    "\n",
    "# metadata\n",
    "\n",
    "#for each parameter of the measurement a metadata has to be created\n",
    "\n",
    "metadata_parameters = []\n",
    "\n",
    "#dimensions\n",
    "metadata_parameters.append({'key':'height', 'value':str(file.shape[0]), 'type':'cardinal'})\n",
    "\n",
    "metadata_parameters.append({'key':'width', 'value':str(file.shape[1]), 'type':'cardinal'})\n",
    "\n",
    "metadata_parameters.append({'key':'depth', 'value':str(file.shape[2]), 'type':'cardinal'})\n",
    "\n",
    "#dtype\n",
    "\n",
    "metadata_parameters.append({'key':'dtype', 'value':str(file.dtype), 'type':'nominal'})\n",
    "\n",
    "#file type\n",
    "\n",
    "metadata_parameters.append({'key':'file_type', 'value':'tif', 'type':'nominal'})\n",
    "\n",
    "#signal_type\n",
    "metadata_parameters.append({'key':'signal_type', 'value':'RF', 'type':'nominal'})\n"
   ]
  },
  {
   "cell_type": "markdown",
   "metadata": {},
   "source": [
    "## Parent file ID"
   ]
  },
  {
   "cell_type": "markdown",
   "metadata": {},
   "source": [
    "A measurement file can be extracted from another one, for exmaple in UT we measure in the same inspection samples 1,2,3 and 4. An then we crop them individually from the initial file so we have a separate file for each of the samples.\n",
    "\n",
    "This relationship let us keep track of this process.\n",
    "\n",
    "However if the file is the initial one, there is no need to fill this paremeter"
   ]
  },
  {
   "cell_type": "code",
   "execution_count": null,
   "metadata": {},
   "outputs": [],
   "source": [
    "if parent_file_path is not None:\n",
    "\n",
    "    parent_file_id_table_name = 'measurements'\n",
    "\n",
    "    parent_file_data = qrs.get_data_metadata(parent_file_id_table_name)\n",
    "\n",
    "    parent_file_id = parent_file_data[parent_file_data['file_path_measurement'] == str(parent_file_path)]['id_measurement']\n",
    "\n",
    "    main_parameters['parent_measurement_id'] = parent_file_id.values[0]\n",
    "\n",
    "    print('Parent measurement id: ', parent_file_id.values[0])"
   ]
  },
  {
   "cell_type": "markdown",
   "metadata": {},
   "source": [
    "## Load into the table"
   ]
  },
  {
   "cell_type": "code",
   "execution_count": null,
   "metadata": {},
   "outputs": [],
   "source": [
    "print('Parameters to be inserted: ')\n",
    "for key, value in main_parameters.items():\n",
    "    print(f\"-    {key}: {value}\")"
   ]
  },
  {
   "cell_type": "code",
   "execution_count": null,
   "metadata": {},
   "outputs": [],
   "source": [
    "table_name = 'measurements'\n",
    "\n",
    "# Extract column names and values from the attributes dictionary\n",
    "columns = ', '.join(main_parameters.keys())\n",
    "values = ', '.join([f\"'{v}'\" for v in main_parameters.values()])\n",
    "\n",
    "# Construct the SQL INSERT statement\n",
    "sql = f\"INSERT INTO {table_name} ({columns}) VALUES ({values})\"\n",
    "\n",
    "print(sql)\n",
    "\n",
    "# Create a cursor object using the cursor() method\n",
    "cursor = conn.cursor()\n",
    "\n",
    "# Execute the SQL statement\n",
    "cursor.execute(sql)\n",
    "\n",
    "cursor.execute('COMMIT')\n",
    "\n",
    "cursor.close()"
   ]
  },
  {
   "cell_type": "markdown",
   "metadata": {},
   "source": [
    "## Make sure insert was correct"
   ]
  },
  {
   "cell_type": "code",
   "execution_count": null,
   "metadata": {},
   "outputs": [],
   "source": [
    "data = qrs.data_parent(table_name,parent_table_name,parent_id_column)\n",
    "\n",
    "data"
   ]
  },
  {
   "cell_type": "markdown",
   "metadata": {},
   "source": [
    "Now we store the id of the inserted row, to insert its related metadata"
   ]
  },
  {
   "cell_type": "code",
   "execution_count": null,
   "metadata": {},
   "outputs": [],
   "source": [
    "row_id = data['id_measurement'].values[-1]\n",
    "\n",
    "print(f\"Row ID: {row_id}\")"
   ]
  },
  {
   "cell_type": "markdown",
   "metadata": {},
   "source": [
    "## Load into the metadata table"
   ]
  },
  {
   "cell_type": "code",
   "execution_count": null,
   "metadata": {},
   "outputs": [],
   "source": [
    "metadata_table_name =  table_name[:-1] + '_metadata'\n",
    "\n",
    "for attributes in metadata_parameters:\n",
    "\n",
    "    attributes[table_name[:-1] + '_id'] = row_id\n",
    "\n",
    "    # Extract column names and values from the attributes dictionary\n",
    "    columns = ', '.join(attributes.keys())\n",
    "    values = ', '.join([f\"'{v}'\" for v in attributes.values()])\n",
    "\n",
    "    # Construct the SQL INSERT statement\n",
    "    sql = f\"INSERT INTO {metadata_table_name} ({columns}) VALUES ({values})\"\n",
    "\n",
    "    print(sql)\n",
    "\n",
    "    # Create a cursor object using the cursor() method\n",
    "    cursor = conn.cursor()\n",
    "\n",
    "    # Execute the SQL statement\n",
    "    cursor.execute(sql)\n",
    "\n",
    "    cursor.execute('COMMIT')\n",
    "\n",
    "    cursor.close()"
   ]
  },
  {
   "cell_type": "markdown",
   "metadata": {},
   "source": [
    "## Make sure insert was correct"
   ]
  },
  {
   "cell_type": "code",
   "execution_count": null,
   "metadata": {},
   "outputs": [],
   "source": [
    "data = qrs.data_parent(table_name,parent_table_name,parent_id_column)\n",
    "\n",
    "data"
   ]
  },
  {
   "cell_type": "markdown",
   "metadata": {},
   "source": [
    "## Load in the sample measurement table"
   ]
  },
  {
   "cell_type": "markdown",
   "metadata": {},
   "source": [
    "In a measurement from 1 to n samples can be present.\n",
    "\n",
    "We save them in the sample_measurements table."
   ]
  },
  {
   "cell_type": "markdown",
   "metadata": {},
   "source": [
    "We have to locate the samples that are present in this measurement to load them in a table that relates them.\n",
    "\n",
    "We need the ids of the samples so we filter the samples table to get the ids of the samples in the samples names list"
   ]
  },
  {
   "cell_type": "code",
   "execution_count": null,
   "metadata": {},
   "outputs": [],
   "source": [
    "samples_data = qrs.get_data_metadata('samples',host,database, user, password)\n",
    "\n",
    "#get the ids of the samples in sample_names\n",
    "samples_data = samples_data[samples_data['name_sample'].isin(sample_names)]\n",
    "\n",
    "sample_ids = samples_data['id_sample'].values.tolist()\n",
    "\n",
    "print('sample_ids', sample_ids)"
   ]
  },
  {
   "cell_type": "code",
   "execution_count": null,
   "metadata": {},
   "outputs": [],
   "source": [
    "relational_table_name = 'sample_measurements'\n",
    "\n",
    "for sample_id in sample_ids:\n",
    "\n",
    "    relational_parameters = {'sample_id': sample_id, 'measurement_id': row_id}\n",
    "\n",
    "    # Extract column names and values from the attributes dictionary\n",
    "    columns = ', '.join(relational_parameters.keys())\n",
    "    values = ', '.join([f\"'{v}'\" for v in relational_parameters.values()])\n",
    "\n",
    "    # Construct the SQL INSERT statement\n",
    "    sql = f\"INSERT INTO {relational_table_name} ({columns}) VALUES ({values})\"\n",
    "\n",
    "    print(sql)\n",
    "\n",
    "    # Create a cursor object using the cursor() method\n",
    "    cursor = conn.cursor()\n",
    "\n",
    "    # Execute the SQL statement\n",
    "    cursor.execute(sql)\n",
    "\n",
    "    cursor.execute('COMMIT')\n",
    "\n",
    "    cursor.close()"
   ]
  },
  {
   "cell_type": "markdown",
   "metadata": {},
   "source": [
    "## Make sure insert was correct"
   ]
  },
  {
   "cell_type": "code",
   "execution_count": null,
   "metadata": {},
   "outputs": [],
   "source": [
    "data = qrs.relation_metadata(table_name,'samples',relational_table_name)\n",
    "\n",
    "data"
   ]
  }
 ],
 "metadata": {
  "kernelspec": {
   "display_name": "Python 3",
   "language": "python",
   "name": "python3"
  },
  "language_info": {
   "codemirror_mode": {
    "name": "ipython",
    "version": 3
   },
   "file_extension": ".py",
   "mimetype": "text/x-python",
   "name": "python",
   "nbconvert_exporter": "python",
   "pygments_lexer": "ipython3",
   "version": "3.13.2"
  }
 },
 "nbformat": 4,
 "nbformat_minor": 2
}
