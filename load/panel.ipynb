{
 "cells": [
  {
   "cell_type": "markdown",
   "metadata": {},
   "source": [
    "# Panel Loading"
   ]
  },
  {
   "cell_type": "markdown",
   "metadata": {},
   "source": [
    "Notebook to load panel data into the databse"
   ]
  },
  {
   "cell_type": "markdown",
   "metadata": {},
   "source": [
    "## Imports"
   ]
  },
  {
   "cell_type": "code",
   "execution_count": null,
   "metadata": {},
   "outputs": [],
   "source": [
    "import psycopg2\n",
    "from tabulate import tabulate\n",
    "#import a folder in the parent directory\n",
    "import sys\n",
    "sys.path.append('../')\n",
    "import dbtools.dbtools as qrs\n",
    "import dbtools.load as load"
   ]
  },
  {
   "cell_type": "markdown",
   "metadata": {},
   "source": [
    "## Connection"
   ]
  },
  {
   "cell_type": "code",
   "execution_count": null,
   "metadata": {},
   "outputs": [],
   "source": [
    "try:\n",
    "    # Connect to the PostgreSQL database\n",
    "    conn = qrs.connect()\n",
    "    print(\"Connected to the database\")\n",
    "\n",
    "except (Exception, psycopg2.DatabaseError) as error:\n",
    "    print(error)"
   ]
  },
  {
   "cell_type": "markdown",
   "metadata": {},
   "source": [
    "## Material id search"
   ]
  },
  {
   "cell_type": "code",
   "execution_count": null,
   "metadata": {},
   "outputs": [],
   "source": [
    "parent_table_name = 'materials'\n",
    "\n",
    "parent_id_column = parent_table_name[:-1] + '_id'\n",
    "\n",
    "parent_data = qrs.get_data(parent_table_name)\n",
    "\n",
    "parent_data"
   ]
  },
  {
   "cell_type": "code",
   "execution_count": null,
   "metadata": {},
   "outputs": [],
   "source": [
    "#we set the id\n",
    "material_id = 25"
   ]
  },
  {
   "cell_type": "markdown",
   "metadata": {},
   "source": [
    "## Fabrication id search"
   ]
  },
  {
   "cell_type": "code",
   "execution_count": null,
   "metadata": {},
   "outputs": [],
   "source": [
    "parent_table_name = 'fabrications'\n",
    "\n",
    "parent_id_column = parent_table_name[:-1] + '_id'\n",
    "\n",
    "parent_data = qrs.get_data(parent_table_name)\n",
    "\n",
    "parent_data"
   ]
  },
  {
   "cell_type": "code",
   "execution_count": null,
   "metadata": {},
   "outputs": [],
   "source": [
    "#we set the id\n",
    "fabrication_id = 25"
   ]
  },
  {
   "cell_type": "markdown",
   "metadata": {},
   "source": [
    "## Panel data"
   ]
  },
  {
   "cell_type": "markdown",
   "metadata": {},
   "source": [
    "Compulsory information:\n",
    "- name: Name to identify the panel\n",
    "- material_id\n",
    "- fabrication_id\n",
    "- height: In mm\n",
    "- width: In mm\n",
    "- thickness: In mm\n",
    "\n",
    "Suggested metadata:\n",
    "- layer_layout: An ordered list from frontwall to backwall of the orientation of the fibers in each layer.\n",
    "- geometry: The geometry of the panel, ie Parallel faces, Curved, etc…\n",
    "- description"
   ]
  },
  {
   "cell_type": "code",
   "execution_count": null,
   "metadata": {},
   "outputs": [],
   "source": [
    "table_name = 'panels'\n",
    "\n",
    "name = 'Panel00251'\n",
    "\n",
    "height = 200\n",
    "width = 200\n",
    "thickness = 5\n",
    "\n",
    "# Define layer_layout (new parameter in load_panel function)\n",
    "layer_layout = [0, 45, 90, -45]  # Example layout angles\n",
    "\n",
    "description = 'Nachos panel 1'\n",
    "\n",
    "# Define additional metadata\n",
    "additional_metadata = [\n",
    "    {'key': 'geometry', 'value': 'parallel faces', 'type': 'nominal'}\n",
    "]\n",
    "\n",
    "# Load panel with layer_layout and additional metadata\n",
    "load.load_panel(conn, name, material_id, fabrication_id, height, width, thickness, layer_layout, description, additional_metadata)"
   ]
  },
  {
   "cell_type": "markdown",
   "metadata": {},
   "source": [
    "## Make sure insert was correct"
   ]
  },
  {
   "cell_type": "code",
   "execution_count": null,
   "metadata": {},
   "outputs": [],
   "source": [
    "data = qrs.get_data_metadata(table_name)\n",
    "\n",
    "data"
   ]
  },
  {
   "cell_type": "code",
   "execution_count": null,
   "metadata": {},
   "outputs": [],
   "source": [
    "conn.close()"
   ]
  }
 ],
 "metadata": {
  "kernelspec": {
   "display_name": "sql",
   "language": "python",
   "name": "python3"
  },
  "language_info": {
   "codemirror_mode": {
    "name": "ipython",
    "version": 3
   },
   "file_extension": ".py",
   "mimetype": "text/x-python",
   "name": "python",
   "nbconvert_exporter": "python",
   "pygments_lexer": "ipython3",
   "version": "3.13.2"
  }
 },
 "nbformat": 4,
 "nbformat_minor": 2
}
