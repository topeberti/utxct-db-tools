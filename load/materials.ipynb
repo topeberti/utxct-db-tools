{
 "cells": [
  {
   "cell_type": "markdown",
   "metadata": {},
   "source": [
    "# Material Loading"
   ]
  },
  {
   "cell_type": "markdown",
   "metadata": {},
   "source": [
    "## Imports"
   ]
  },
  {
   "cell_type": "code",
   "execution_count": 6,
   "metadata": {},
   "outputs": [],
   "source": [
    "import psycopg2\n",
    "from tabulate import tabulate\n",
    "#import a folder in the parent directory\n",
    "import sys\n",
    "sys.path.append('../')\n",
    "import dbtools.dbtools as qrs\n",
    "import dbtools.load as load"
   ]
  },
  {
   "cell_type": "markdown",
   "metadata": {},
   "source": [
    "## Connection"
   ]
  },
  {
   "cell_type": "code",
   "execution_count": 7,
   "metadata": {},
   "outputs": [
    {
     "name": "stdout",
     "output_type": "stream",
     "text": [
      "Connected to the database\n"
     ]
    }
   ],
   "source": [
    "try:\n",
    "    # Connect to the PostgreSQL database\n",
    "    conn = qrs.connect()\n",
    "    print(\"Connected to the database\")\n",
    "\n",
    "except (Exception, psycopg2.DatabaseError) as error:\n",
    "    print(error)"
   ]
  },
  {
   "cell_type": "markdown",
   "metadata": {},
   "source": [
    "## Fabrication data"
   ]
  },
  {
   "cell_type": "markdown",
   "metadata": {},
   "source": [
    "Compulsory information:\n",
    "- name\n",
    "- layer_thickness: In mm\n",
    "\n",
    "Suggested metadata:\n",
    "- layer_thicnkess: In mm\n",
    "- fiber_type: nominal\n",
    "- resin_type: nominal\n",
    "- prepreg_name: Comercial prepreg name, nominal\n",
    "- prepreg_type: Extended prepreg properties, text."
   ]
  },
  {
   "cell_type": "code",
   "execution_count": null,
   "metadata": {},
   "outputs": [
    {
     "name": "stdout",
     "output_type": "stream",
     "text": [
      "Material 'Prueba 6' loaded with ID: 19\n"
     ]
    },
    {
     "data": {
      "text/plain": [
       "19"
      ]
     },
     "execution_count": 8,
     "metadata": {},
     "output_type": "execute_result"
    }
   ],
   "source": [
    "name = 'Prueba 6'\n",
    "\n",
    "layer_thickness = 0.1\n",
    "\n",
    "# Define additional metadata\n",
    "additional_metadata = [\n",
    "    {'key': 'fiber_type', 'value': 'Hexcel105', 'type': 'nominal'},\n",
    "    {'key': 'resin_type', 'value': 'Hexcel8552', 'type': 'nominal'},\n",
    "    {'key': 'prepreg_name', 'value': 'Hexcel8552-105', 'type': 'nominal'},\n",
    "    {'key': 'prepreg_type', 'value': 'Hexcel8552-105, 0.1mm, 300gsm', 'type': 'text'}\n",
    "]\n",
    "\n",
    "# Load material with additional metadata (layer_layout was moved to panel function)\n",
    "load.load_material(conn, name, layer_thickness, additional_metadata)"
   ]
  },
  {
   "cell_type": "markdown",
   "metadata": {},
   "source": [
    "## Make sure insert was correct"
   ]
  },
  {
   "cell_type": "code",
   "execution_count": 9,
   "metadata": {},
   "outputs": [
    {
     "data": {
      "text/html": [
       "<div>\n",
       "<style scoped>\n",
       "    .dataframe tbody tr th:only-of-type {\n",
       "        vertical-align: middle;\n",
       "    }\n",
       "\n",
       "    .dataframe tbody tr th {\n",
       "        vertical-align: top;\n",
       "    }\n",
       "\n",
       "    .dataframe thead th {\n",
       "        text-align: right;\n",
       "    }\n",
       "</style>\n",
       "<table border=\"1\" class=\"dataframe\">\n",
       "  <thead>\n",
       "    <tr style=\"text-align: right;\">\n",
       "      <th></th>\n",
       "      <th>id_material</th>\n",
       "      <th>name_material</th>\n",
       "      <th>layer_thickness_material</th>\n",
       "      <th>density_material</th>\n",
       "      <th>color_material</th>\n",
       "      <th>temperature_resistance_material</th>\n",
       "    </tr>\n",
       "  </thead>\n",
       "  <tbody>\n",
       "    <tr>\n",
       "      <th>0</th>\n",
       "      <td>15</td>\n",
       "      <td>Fibra IM7 Resina M56</td>\n",
       "      <td>0.25 float</td>\n",
       "      <td>NaN</td>\n",
       "      <td>NaN</td>\n",
       "      <td>NaN</td>\n",
       "    </tr>\n",
       "    <tr>\n",
       "      <th>1</th>\n",
       "      <td>16</td>\n",
       "      <td>Material Hexcel 0.508 CPT</td>\n",
       "      <td>0.508 float</td>\n",
       "      <td>NaN</td>\n",
       "      <td>NaN</td>\n",
       "      <td>NaN</td>\n",
       "    </tr>\n",
       "    <tr>\n",
       "      <th>2</th>\n",
       "      <td>19</td>\n",
       "      <td>Prueba 6</td>\n",
       "      <td>0.1 float</td>\n",
       "      <td>1.5 g/cm3</td>\n",
       "      <td>blue string</td>\n",
       "      <td>250 celsius</td>\n",
       "    </tr>\n",
       "  </tbody>\n",
       "</table>\n",
       "</div>"
      ],
      "text/plain": [
       "   id_material              name_material layer_thickness_material  \\\n",
       "0           15       Fibra IM7 Resina M56               0.25 float   \n",
       "1           16  Material Hexcel 0.508 CPT              0.508 float   \n",
       "2           19                   Prueba 6                0.1 float   \n",
       "\n",
       "  density_material color_material temperature_resistance_material  \n",
       "0              NaN            NaN                             NaN  \n",
       "1              NaN            NaN                             NaN  \n",
       "2        1.5 g/cm3    blue string                     250 celsius  "
      ]
     },
     "execution_count": 9,
     "metadata": {},
     "output_type": "execute_result"
    }
   ],
   "source": [
    "data = qrs.get_data_metadata('materials')\n",
    "\n",
    "data"
   ]
  },
  {
   "cell_type": "code",
   "execution_count": 10,
   "metadata": {},
   "outputs": [],
   "source": [
    "conn.close()"
   ]
  }
 ],
 "metadata": {
  "kernelspec": {
   "display_name": "sql",
   "language": "python",
   "name": "python3"
  },
  "language_info": {
   "codemirror_mode": {
    "name": "ipython",
    "version": 3
   },
   "file_extension": ".py",
   "mimetype": "text/x-python",
   "name": "python",
   "nbconvert_exporter": "python",
   "pygments_lexer": "ipython3",
   "version": "3.13.2"
  }
 },
 "nbformat": 4,
 "nbformat_minor": 2
}
