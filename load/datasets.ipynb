{
 "cells": [
  {
   "cell_type": "markdown",
   "id": "28a67809",
   "metadata": {},
   "source": [
    "# Dataset Loading"
   ]
  },
  {
   "cell_type": "markdown",
   "id": "373b1660",
   "metadata": {},
   "source": [
    "Notebook to load dataset data into the database. This notebook demonstrates how to create dataset entries with their associated metadata and measurement relationships."
   ]
  },
  {
   "cell_type": "markdown",
   "id": "e60afb71",
   "metadata": {},
   "source": [
    "## Imports"
   ]
  },
  {
   "cell_type": "code",
   "execution_count": 78,
   "id": "64a52866",
   "metadata": {},
   "outputs": [],
   "source": [
    "import psycopg2\n",
    "import pandas as pd\n",
    "import numpy as np\n",
    "from tabulate import tabulate\n",
    "from pathlib import Path\n",
    "# Import a folder in the parent directory\n",
    "import sys\n",
    "sys.path.append('../')\n",
    "import dbtools.dbtools as qrs\n",
    "import dbtools.load as load"
   ]
  },
  {
   "cell_type": "markdown",
   "id": "bde30b42",
   "metadata": {},
   "source": [
    "## Connection"
   ]
  },
  {
   "cell_type": "code",
   "execution_count": 79,
   "id": "5b005509",
   "metadata": {},
   "outputs": [
    {
     "name": "stdout",
     "output_type": "stream",
     "text": [
      "Connected to the database\n"
     ]
    }
   ],
   "source": [
    "try:\n",
    "    # Connect to the PostgreSQL database\n",
    "    conn = qrs.connect()\n",
    "    print(\"Connected to the database\")\n",
    "\n",
    "except (Exception, psycopg2.DatabaseError) as error:\n",
    "    print(error)"
   ]
  },
  {
   "cell_type": "markdown",
   "id": "f33d95e7",
   "metadata": {},
   "source": [
    "## Dataset Data"
   ]
  },
  {
   "cell_type": "markdown",
   "id": "2f3f8c1d",
   "metadata": {},
   "source": [
    "The `load_dataset` function creates a new dataset entry in the database with associated metadata and measurement relationships.\n",
    "\n",
    "Parameters:\n",
    "- `file_path`: The path to the dataset file\n",
    "- `rows`: Number of rows in the dataset\n",
    "- `patch_size`: Patch size of the dataset\n",
    "- `targets`: List of targets for the dataset\n",
    "- `reconstruction_shape`: Shape to see the dataset as an image\n",
    "- `registration_ids`: List of the ids of the registrations used to create this dataset\n",
    "- `description`: Optional dataset description\n",
    "- `additional_metadata`: Optional list of dictionaries with metadata\n",
    "\n",
    "Each metadata dictionary should contain:\n",
    "- `key`: The name of the metadata field\n",
    "- `value`: The value of the metadata\n",
    "- `type`: The type or unit of the metadata"
   ]
  },
  {
   "cell_type": "markdown",
   "id": "b61a7a8b",
   "metadata": {},
   "source": [
    "## Dataset with Additional Metadata"
   ]
  },
  {
   "cell_type": "code",
   "execution_count": 86,
   "id": "5884f7cc",
   "metadata": {},
   "outputs": [
    {
     "name": "stdout",
     "output_type": "stream",
     "text": [
      "Dataset from '\\\\192.168.10.106\\imdea\\DataDriven_UT_AlbertoVicente\\04_ML_data\\Juan Ignacio\\10mm range\\JI_12\\MonoElement\\patch_vs_volfrac_3.csv' loaded with ID: 179\n",
      "Dataset with additional metadata loaded with ID: 179\n",
      "Dataset from '\\\\192.168.10.106\\imdea\\DataDriven_UT_AlbertoVicente\\04_ML_data\\Juan Ignacio\\10mm range\\JI_12\\MonoElement\\patch_vs_volfrac_5.csv' loaded with ID: 180\n",
      "Dataset with additional metadata loaded with ID: 180\n",
      "Dataset from '\\\\192.168.10.106\\imdea\\DataDriven_UT_AlbertoVicente\\04_ML_data\\Juan Ignacio\\10mm range\\JI_12\\MonoElement\\patch_vs_volfrac_7.csv' loaded with ID: 181\n",
      "Dataset with additional metadata loaded with ID: 181\n",
      "Dataset from '\\\\192.168.10.106\\imdea\\DataDriven_UT_AlbertoVicente\\04_ML_data\\Juan Ignacio\\10mm range\\JI_12\\MonoElement\\patch_vs_volfrac_9.csv' loaded with ID: 182\n",
      "Dataset with additional metadata loaded with ID: 182\n"
     ]
    }
   ],
   "source": [
    "patch_sizes = ['3', '5', '7', '9']\n",
    "\n",
    "for patch_size in patch_sizes:\n",
    "\n",
    "    # Define another dataset file path (replace with an actual file path in your system)\n",
    "    dataset_file_path = Path(r'\\\\192.168.10.106\\imdea\\DataDriven_UT_AlbertoVicente\\04_ML_data\\Juan Ignacio\\10mm range\\JI_12\\MonoElement\\patch_vs_volfrac_'+patch_size+'.csv')\n",
    "\n",
    "    df2 = pd.read_csv(dataset_file_path)\n",
    "\n",
    "    # Count the number of rows\n",
    "    rows = len(df2)\n",
    "\n",
    "    # Select different measurements to associate with this dataset\n",
    "    registration_ids = [54]\n",
    "\n",
    "    datasettype_id = 4  # Assuming dataset type ID is 1, replace with actual ID if needed\n",
    "\n",
    "    # Define different dataset parameters\n",
    "    targets = [\"volfrac\", \"areafrac\"]\n",
    "    reconstruction_shape = (-1, -1)\n",
    "\n",
    "    # Load the dataset with additional metadata\n",
    "    dataset_id = load.load_dataset(\n",
    "        conn, \n",
    "        datasettype_id,\n",
    "        str(dataset_file_path),\n",
    "        rows, \n",
    "        patch_size, \n",
    "        targets, \n",
    "        reconstruction_shape, \n",
    "        registration_ids\n",
    "    )\n",
    "\n",
    "    print(f\"Dataset with additional metadata loaded with ID: {dataset_id}\")"
   ]
  },
  {
   "cell_type": "markdown",
   "id": "48b0f8e1",
   "metadata": {},
   "source": [
    "## Verify Insertion"
   ]
  },
  {
   "cell_type": "code",
   "execution_count": null,
   "id": "f3e55e24",
   "metadata": {},
   "outputs": [],
   "source": [
    "# Get dataset data from the database\n",
    "dataset_data = qrs.get_data_metadata('datasets')\n",
    "\n",
    "# Display the dataset data\n",
    "print(\"Dataset basic information:\")\n",
    "print(tabulate(dataset_data[['id_dataset', 'file_path_dataset', 'description_dataset']].tail(), \n",
    "               headers='keys', tablefmt='pretty'))\n",
    "\n",
    "# Get relationship data\n",
    "relationship_data = qrs.relation_metadata('datasets', 'registrations', 'dataset_registrations')\n",
    "\n",
    "# Display relationships\n",
    "print(\"\\nDataset-registrations relationships:\")\n",
    "print(tabulate(relationship_data.tail(), headers='keys', tablefmt='pretty'))"
   ]
  },
  {
   "cell_type": "code",
   "execution_count": null,
   "id": "edfcc993",
   "metadata": {},
   "outputs": [],
   "source": [
    "# Close the database connection\n",
    "conn.close()"
   ]
  }
 ],
 "metadata": {
  "kernelspec": {
   "display_name": "sql",
   "language": "python",
   "name": "python3"
  },
  "language_info": {
   "codemirror_mode": {
    "name": "ipython",
    "version": 3
   },
   "file_extension": ".py",
   "mimetype": "text/x-python",
   "name": "python",
   "nbconvert_exporter": "python",
   "pygments_lexer": "ipython3",
   "version": "3.13.2"
  }
 },
 "nbformat": 4,
 "nbformat_minor": 5
}
