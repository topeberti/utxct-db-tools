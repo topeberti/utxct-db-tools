{
 "cells": [
  {
   "cell_type": "markdown",
   "metadata": {},
   "source": [
    "# Datsets UT Loading"
   ]
  },
  {
   "cell_type": "markdown",
   "metadata": {},
   "source": [
    "Notebook to load Datsets ut data into the databse"
   ]
  },
  {
   "cell_type": "markdown",
   "metadata": {},
   "source": [
    "## Imports"
   ]
  },
  {
   "cell_type": "code",
   "execution_count": null,
   "metadata": {},
   "outputs": [],
   "source": [
    "import psycopg2\n",
    "import numpy as np\n",
    "#import a folder in the parent directory\n",
    "import sys\n",
    "sys.path.append('../')\n",
    "import queries.queries as qrs\n",
    "from pathlib import Path\n",
    "import tifffile as tiff\n",
    "import pandas as pd\n",
    "import os"
   ]
  },
  {
   "cell_type": "markdown",
   "metadata": {},
   "source": [
    "## Connection"
   ]
  },
  {
   "cell_type": "code",
   "execution_count": null,
   "metadata": {},
   "outputs": [
    {
     "name": "stdout",
     "output_type": "stream",
     "text": [
      "Connected to the database\n"
     ]
    }
   ],
   "source": [
    "try:\n",
    "    # Connect to the PostgreSQL database\n",
    "    conn = qrs.connect()\n",
    "    print(\"Connected to the database\")\n",
    "\n",
    "except (Exception, psycopg2.DatabaseError) as error:\n",
    "    print(error)"
   ]
  },
  {
   "cell_type": "markdown",
   "metadata": {},
   "source": [
    "## File loading"
   ]
  },
  {
   "cell_type": "markdown",
   "metadata": {},
   "source": [
    "We load the dataset to check the path is correct and to extract some info"
   ]
  },
  {
   "cell_type": "code",
   "execution_count": 36,
   "metadata": {},
   "outputs": [
    {
     "data": {
      "text/html": [
       "<div>\n",
       "<style scoped>\n",
       "    .dataframe tbody tr th:only-of-type {\n",
       "        vertical-align: middle;\n",
       "    }\n",
       "\n",
       "    .dataframe tbody tr th {\n",
       "        vertical-align: top;\n",
       "    }\n",
       "\n",
       "    .dataframe thead th {\n",
       "        text-align: right;\n",
       "    }\n",
       "</style>\n",
       "<table border=\"1\" class=\"dataframe\">\n",
       "  <thead>\n",
       "    <tr style=\"text-align: right;\">\n",
       "      <th></th>\n",
       "      <th>ut_rf_0</th>\n",
       "      <th>ut_rf_1</th>\n",
       "      <th>ut_rf_2</th>\n",
       "      <th>ut_rf_3</th>\n",
       "      <th>ut_rf_4</th>\n",
       "      <th>ut_rf_5</th>\n",
       "      <th>ut_rf_6</th>\n",
       "      <th>ut_rf_7</th>\n",
       "      <th>ut_rf_8</th>\n",
       "      <th>ut_rf_9</th>\n",
       "      <th>...</th>\n",
       "      <th>ut_rf_4537</th>\n",
       "      <th>ut_rf_4538</th>\n",
       "      <th>ut_rf_4539</th>\n",
       "      <th>ut_rf_4540</th>\n",
       "      <th>ut_rf_4541</th>\n",
       "      <th>ut_rf_4542</th>\n",
       "      <th>ut_rf_4543</th>\n",
       "      <th>ut_rf_4544</th>\n",
       "      <th>volfrac</th>\n",
       "      <th>areafrac</th>\n",
       "    </tr>\n",
       "  </thead>\n",
       "  <tbody>\n",
       "    <tr>\n",
       "      <th>0</th>\n",
       "      <td>129.0</td>\n",
       "      <td>128.0</td>\n",
       "      <td>128.0</td>\n",
       "      <td>129.0</td>\n",
       "      <td>128.0</td>\n",
       "      <td>129.0</td>\n",
       "      <td>129.0</td>\n",
       "      <td>128.0</td>\n",
       "      <td>129.0</td>\n",
       "      <td>128.0</td>\n",
       "      <td>...</td>\n",
       "      <td>129.0</td>\n",
       "      <td>129.0</td>\n",
       "      <td>128.0</td>\n",
       "      <td>129.0</td>\n",
       "      <td>128.0</td>\n",
       "      <td>128.0</td>\n",
       "      <td>129.0</td>\n",
       "      <td>128.0</td>\n",
       "      <td>0.000644</td>\n",
       "      <td>0.068681</td>\n",
       "    </tr>\n",
       "    <tr>\n",
       "      <th>1</th>\n",
       "      <td>129.0</td>\n",
       "      <td>128.0</td>\n",
       "      <td>128.0</td>\n",
       "      <td>129.0</td>\n",
       "      <td>129.0</td>\n",
       "      <td>128.0</td>\n",
       "      <td>128.0</td>\n",
       "      <td>129.0</td>\n",
       "      <td>128.0</td>\n",
       "      <td>129.0</td>\n",
       "      <td>...</td>\n",
       "      <td>128.0</td>\n",
       "      <td>128.0</td>\n",
       "      <td>129.0</td>\n",
       "      <td>128.0</td>\n",
       "      <td>129.0</td>\n",
       "      <td>129.0</td>\n",
       "      <td>128.0</td>\n",
       "      <td>129.0</td>\n",
       "      <td>0.000468</td>\n",
       "      <td>0.050764</td>\n",
       "    </tr>\n",
       "    <tr>\n",
       "      <th>2</th>\n",
       "      <td>128.0</td>\n",
       "      <td>129.0</td>\n",
       "      <td>129.0</td>\n",
       "      <td>128.0</td>\n",
       "      <td>129.0</td>\n",
       "      <td>128.0</td>\n",
       "      <td>129.0</td>\n",
       "      <td>128.0</td>\n",
       "      <td>129.0</td>\n",
       "      <td>128.0</td>\n",
       "      <td>...</td>\n",
       "      <td>129.0</td>\n",
       "      <td>128.0</td>\n",
       "      <td>129.0</td>\n",
       "      <td>129.0</td>\n",
       "      <td>128.0</td>\n",
       "      <td>128.0</td>\n",
       "      <td>129.0</td>\n",
       "      <td>129.0</td>\n",
       "      <td>0.001459</td>\n",
       "      <td>0.107014</td>\n",
       "    </tr>\n",
       "    <tr>\n",
       "      <th>3</th>\n",
       "      <td>128.0</td>\n",
       "      <td>129.0</td>\n",
       "      <td>128.0</td>\n",
       "      <td>129.0</td>\n",
       "      <td>129.0</td>\n",
       "      <td>128.0</td>\n",
       "      <td>129.0</td>\n",
       "      <td>128.0</td>\n",
       "      <td>128.0</td>\n",
       "      <td>129.0</td>\n",
       "      <td>...</td>\n",
       "      <td>128.0</td>\n",
       "      <td>129.0</td>\n",
       "      <td>128.0</td>\n",
       "      <td>129.0</td>\n",
       "      <td>128.0</td>\n",
       "      <td>128.0</td>\n",
       "      <td>129.0</td>\n",
       "      <td>128.0</td>\n",
       "      <td>0.001350</td>\n",
       "      <td>0.094167</td>\n",
       "    </tr>\n",
       "    <tr>\n",
       "      <th>4</th>\n",
       "      <td>128.0</td>\n",
       "      <td>129.0</td>\n",
       "      <td>129.0</td>\n",
       "      <td>128.0</td>\n",
       "      <td>128.0</td>\n",
       "      <td>129.0</td>\n",
       "      <td>129.0</td>\n",
       "      <td>128.0</td>\n",
       "      <td>129.0</td>\n",
       "      <td>128.0</td>\n",
       "      <td>...</td>\n",
       "      <td>128.0</td>\n",
       "      <td>129.0</td>\n",
       "      <td>128.0</td>\n",
       "      <td>129.0</td>\n",
       "      <td>128.0</td>\n",
       "      <td>129.0</td>\n",
       "      <td>128.0</td>\n",
       "      <td>128.0</td>\n",
       "      <td>0.001306</td>\n",
       "      <td>0.091042</td>\n",
       "    </tr>\n",
       "  </tbody>\n",
       "</table>\n",
       "<p>5 rows × 4547 columns</p>\n",
       "</div>"
      ],
      "text/plain": [
       "   ut_rf_0  ut_rf_1  ut_rf_2  ut_rf_3  ut_rf_4  ut_rf_5  ut_rf_6  ut_rf_7  \\\n",
       "0    129.0    128.0    128.0    129.0    128.0    129.0    129.0    128.0   \n",
       "1    129.0    128.0    128.0    129.0    129.0    128.0    128.0    129.0   \n",
       "2    128.0    129.0    129.0    128.0    129.0    128.0    129.0    128.0   \n",
       "3    128.0    129.0    128.0    129.0    129.0    128.0    129.0    128.0   \n",
       "4    128.0    129.0    129.0    128.0    128.0    129.0    129.0    128.0   \n",
       "\n",
       "   ut_rf_8  ut_rf_9  ...  ut_rf_4537  ut_rf_4538  ut_rf_4539  ut_rf_4540  \\\n",
       "0    129.0    128.0  ...       129.0       129.0       128.0       129.0   \n",
       "1    128.0    129.0  ...       128.0       128.0       129.0       128.0   \n",
       "2    129.0    128.0  ...       129.0       128.0       129.0       129.0   \n",
       "3    128.0    129.0  ...       128.0       129.0       128.0       129.0   \n",
       "4    129.0    128.0  ...       128.0       129.0       128.0       129.0   \n",
       "\n",
       "   ut_rf_4541  ut_rf_4542  ut_rf_4543  ut_rf_4544   volfrac  areafrac  \n",
       "0       128.0       128.0       129.0       128.0  0.000644  0.068681  \n",
       "1       129.0       129.0       128.0       129.0  0.000468  0.050764  \n",
       "2       128.0       128.0       129.0       129.0  0.001459  0.107014  \n",
       "3       128.0       128.0       129.0       128.0  0.001350  0.094167  \n",
       "4       128.0       129.0       128.0       128.0  0.001306  0.091042  \n",
       "\n",
       "[5 rows x 4547 columns]"
      ]
     },
     "execution_count": 36,
     "metadata": {},
     "output_type": "execute_result"
    }
   ],
   "source": [
    "file_path = Path(r'\\\\192.168.10.106\\imdea\\DataDriven_UT_AlbertoVicente\\04_ML_data\\Juan Ignacio\\JI_4\\MonoElement\\patch_vs_volfrac_3.csv')\n",
    "\n",
    "df = pd.read_csv(file_path)\n",
    "\n",
    "df.head(5)"
   ]
  },
  {
   "cell_type": "markdown",
   "metadata": {},
   "source": [
    "## Datset data"
   ]
  },
  {
   "cell_type": "markdown",
   "metadata": {},
   "source": [
    "Now we have to set the attributes and metadata of the Datsets:\n",
    "\n",
    "1. Main attributes\n",
    "\n",
    "    1. file_paths: Its a list with the paths of all the present files in the dataset. If the paths are not written as in the database it wont work so be precise.\n",
    "\n",
    "    2. file_path: The dataset location\n",
    "\n",
    "2. Metadata\n",
    "\n",
    "    1. rows: Number of instances in the dataset\n",
    "\n",
    "    2. shape: Shape to reconstruct the images from the dataset.\n",
    "\n",
    "    3. patch_size: Size of the patch\n",
    "\n",
    "    4. target: Target of the dataset, may be Volfrac, Areafrac, or any xct extracted feature. Multiple targets can be in the same dataset.\n",
    "    "
   ]
  },
  {
   "cell_type": "code",
   "execution_count": 37,
   "metadata": {},
   "outputs": [],
   "source": [
    "file_paths = [Path(r'\\\\192.168.10.106\\imdea\\DataDriven_UT_AlbertoVicente\\02_XCT_data\\Juan Ignacio\\probetas\\4\\frontal_90right.tif'),Path(r'\\\\192.168.10.106\\imdea\\DataDriven_UT_AlbertoVicente\\03_UT_data\\Probetas JI\\probetas\\4\\4.tif')]\n",
    "\n",
    "main_parameters = {'file_path':file_path}\n",
    "\n",
    "description = 'Monoelement RF vs volfrac and areafrac. First functional group of datasets from 2024'\n",
    "\n",
    "main_parameters['description'] = description\n",
    "\n",
    "# metadata\n",
    "\n",
    "#for each parameter of the Datset a metadata has to be created\n",
    "\n",
    "metadata_parameters = []\n",
    "\n",
    "#rows\n",
    "metadata_parameters.append({'key':'rows', 'value':len(df), 'type':'cardinal'})\n",
    "\n",
    "#shape\n",
    "# metadata_parameters.append({'key':'shape', 'value':, 'type':'cardinal'})\n",
    "\n",
    "#patch_size\n",
    "metadata_parameters.append({'key':'patch_size', 'value':3, 'type':'pixels'})\n",
    "\n",
    "#target\n",
    "metadata_parameters.append({'key':'target', 'value':'volfrac', 'type':'nominal'})\n",
    "\n",
    "#target\n",
    "metadata_parameters.append({'key':'target2', 'value':'areafrac', 'type':'nominal'})"
   ]
  },
  {
   "cell_type": "markdown",
   "metadata": {},
   "source": [
    "## Load into the table"
   ]
  },
  {
   "cell_type": "code",
   "execution_count": 38,
   "metadata": {},
   "outputs": [
    {
     "name": "stdout",
     "output_type": "stream",
     "text": [
      "Parameters to be inserted: \n",
      "-    file_path: \\\\192.168.10.106\\imdea\\DataDriven_UT_AlbertoVicente\\04_ML_data\\Juan Ignacio\\JI_4\\MonoElement\\patch_vs_volfrac_3.csv\n",
      "-    description: Monoelement RF vs volfrac and areafrac. First functional group of datasets from 2024\n"
     ]
    }
   ],
   "source": [
    "print('Parameters to be inserted: ')\n",
    "for key, value in main_parameters.items():\n",
    "    print(f\"-    {key}: {value}\")"
   ]
  },
  {
   "cell_type": "code",
   "execution_count": 39,
   "metadata": {},
   "outputs": [
    {
     "name": "stdout",
     "output_type": "stream",
     "text": [
      "INSERT INTO datasets (file_path, description) VALUES ('\\\\192.168.10.106\\imdea\\DataDriven_UT_AlbertoVicente\\04_ML_data\\Juan Ignacio\\JI_4\\MonoElement\\patch_vs_volfrac_3.csv', 'Monoelement RF vs volfrac and areafrac. First functional group of datasets from 2024')\n"
     ]
    }
   ],
   "source": [
    "table_name = 'datasets'\n",
    "\n",
    "# Extract column names and values from the attributes dictionary\n",
    "columns = ', '.join(main_parameters.keys())\n",
    "values = ', '.join([f\"'{v}'\" for v in main_parameters.values()])\n",
    "\n",
    "# Construct the SQL INSERT statement\n",
    "sql = f\"INSERT INTO {table_name} ({columns}) VALUES ({values})\"\n",
    "\n",
    "print(sql)\n",
    "\n",
    "# Create a cursor object using the cursor() method\n",
    "cursor = conn.cursor()\n",
    "\n",
    "# Execute the SQL statement\n",
    "cursor.execute(sql)\n",
    "\n",
    "cursor.execute('COMMIT')\n",
    "\n",
    "cursor.close()"
   ]
  },
  {
   "cell_type": "markdown",
   "metadata": {},
   "source": [
    "## Make sure insert was correct"
   ]
  },
  {
   "cell_type": "code",
   "execution_count": null,
   "metadata": {},
   "outputs": [
    {
     "data": {
      "text/html": [
       "<div>\n",
       "<style scoped>\n",
       "    .dataframe tbody tr th:only-of-type {\n",
       "        vertical-align: middle;\n",
       "    }\n",
       "\n",
       "    .dataframe tbody tr th {\n",
       "        vertical-align: top;\n",
       "    }\n",
       "\n",
       "    .dataframe thead th {\n",
       "        text-align: right;\n",
       "    }\n",
       "</style>\n",
       "<table border=\"1\" class=\"dataframe\">\n",
       "  <thead>\n",
       "    <tr style=\"text-align: right;\">\n",
       "      <th></th>\n",
       "      <th>id_dataset</th>\n",
       "      <th>file_path_dataset</th>\n",
       "      <th>description_dataset</th>\n",
       "    </tr>\n",
       "  </thead>\n",
       "  <tbody>\n",
       "    <tr>\n",
       "      <th>0</th>\n",
       "      <td>1</td>\n",
       "      <td>\\\\192.168.10.106\\imdea\\DataDriven_UT_AlbertoVi...</td>\n",
       "      <td>Monoelement RF vs volfrac and areafrac. First ...</td>\n",
       "    </tr>\n",
       "  </tbody>\n",
       "</table>\n",
       "</div>"
      ],
      "text/plain": [
       "   id_dataset                                  file_path_dataset  \\\n",
       "0           1  \\\\192.168.10.106\\imdea\\DataDriven_UT_AlbertoVi...   \n",
       "\n",
       "                                 description_dataset  \n",
       "0  Monoelement RF vs volfrac and areafrac. First ...  "
      ]
     },
     "execution_count": 40,
     "metadata": {},
     "output_type": "execute_result"
    }
   ],
   "source": [
    "data = qrs.get_data_metadata(table_name)\n",
    "\n",
    "data"
   ]
  },
  {
   "cell_type": "code",
   "execution_count": 41,
   "metadata": {},
   "outputs": [
    {
     "name": "stdout",
     "output_type": "stream",
     "text": [
      "Row ID: 1\n"
     ]
    }
   ],
   "source": [
    "row_id = data['id_dataset'].values[-1]\n",
    "\n",
    "print(f\"Row ID: {row_id}\")"
   ]
  },
  {
   "cell_type": "markdown",
   "metadata": {},
   "source": [
    "## Load into the metadata table"
   ]
  },
  {
   "cell_type": "code",
   "execution_count": null,
   "metadata": {},
   "outputs": [
    {
     "name": "stdout",
     "output_type": "stream",
     "text": [
      "INSERT INTO dataset_metadata (key, value, type, dataset_id) VALUES ('rows', '2686', 'cardinal', '1')\n",
      "INSERT INTO dataset_metadata (key, value, type, dataset_id) VALUES ('patch_size', '3', 'pixels', '1')\n",
      "INSERT INTO dataset_metadata (key, value, type, dataset_id) VALUES ('target', 'volfrac', 'nominal', '1')\n",
      "INSERT INTO dataset_metadata (key, value, type, dataset_id) VALUES ('target2', 'areafrac', 'nominal', '1')\n"
     ]
    }
   ],
   "source": [
    "metadata_table_name =  table_name[:-1] + '_metadata'\n",
    "\n",
    "for attributes in metadata_parameters:\n",
    "\n",
    "    attributes[table_name[:-1] + '_id'] = row_id\n",
    "\n",
    "    # Extract column names and values from the attributes dictionary\n",
    "    columns = ', '.join(attributes.keys())\n",
    "    values = ', '.join([f\"'{v}'\" for v in attributes.values()])\n",
    "\n",
    "    # Construct the SQL INSERT statement\n",
    "    sql = f\"INSERT INTO {metadata_table_name} ({columns}) VALUES ({values})\"\n",
    "\n",
    "    print(sql)\n",
    "\n",
    "    # Create a cursor object using the cursor() method\n",
    "    cursor = conn.cursor()\n",
    "\n",
    "    # Execute the SQL statement\n",
    "    cursor.execute(sql)\n",
    "\n",
    "    cursor.execute('COMMIT')\n",
    "\n",
    "    cursor.close()"
   ]
  },
  {
   "cell_type": "markdown",
   "metadata": {},
   "source": [
    "## Make sure insert was correct"
   ]
  },
  {
   "cell_type": "code",
   "execution_count": null,
   "metadata": {},
   "outputs": [
    {
     "data": {
      "text/html": [
       "<div>\n",
       "<style scoped>\n",
       "    .dataframe tbody tr th:only-of-type {\n",
       "        vertical-align: middle;\n",
       "    }\n",
       "\n",
       "    .dataframe tbody tr th {\n",
       "        vertical-align: top;\n",
       "    }\n",
       "\n",
       "    .dataframe thead th {\n",
       "        text-align: right;\n",
       "    }\n",
       "</style>\n",
       "<table border=\"1\" class=\"dataframe\">\n",
       "  <thead>\n",
       "    <tr style=\"text-align: right;\">\n",
       "      <th></th>\n",
       "      <th>id_dataset</th>\n",
       "      <th>file_path_dataset</th>\n",
       "      <th>description_dataset</th>\n",
       "      <th>rows_dataset</th>\n",
       "      <th>patch_size_dataset</th>\n",
       "      <th>target_dataset</th>\n",
       "      <th>target2_dataset</th>\n",
       "    </tr>\n",
       "  </thead>\n",
       "  <tbody>\n",
       "    <tr>\n",
       "      <th>0</th>\n",
       "      <td>1</td>\n",
       "      <td>\\\\192.168.10.106\\imdea\\DataDriven_UT_AlbertoVi...</td>\n",
       "      <td>Monoelement RF vs volfrac and areafrac. First ...</td>\n",
       "      <td>2686 cardinal</td>\n",
       "      <td>3 pixels</td>\n",
       "      <td>volfrac nominal</td>\n",
       "      <td>areafrac nominal</td>\n",
       "    </tr>\n",
       "  </tbody>\n",
       "</table>\n",
       "</div>"
      ],
      "text/plain": [
       "   id_dataset                                  file_path_dataset  \\\n",
       "0           1  \\\\192.168.10.106\\imdea\\DataDriven_UT_AlbertoVi...   \n",
       "\n",
       "                                 description_dataset   rows_dataset  \\\n",
       "0  Monoelement RF vs volfrac and areafrac. First ...  2686 cardinal   \n",
       "\n",
       "  patch_size_dataset   target_dataset   target2_dataset  \n",
       "0           3 pixels  volfrac nominal  areafrac nominal  "
      ]
     },
     "execution_count": 43,
     "metadata": {},
     "output_type": "execute_result"
    }
   ],
   "source": [
    "data = qrs.get_data_metadata(table_name)\n",
    "\n",
    "data"
   ]
  },
  {
   "cell_type": "markdown",
   "metadata": {},
   "source": [
    "## Load in the dataset measurement table"
   ]
  },
  {
   "cell_type": "markdown",
   "metadata": {},
   "source": [
    "In a dataset from 1 to n samples can be present.\n",
    "\n",
    "We save them in the dataset_measurements table."
   ]
  },
  {
   "cell_type": "markdown",
   "metadata": {},
   "source": [
    "We have to locate the measurement that contains the samples present in this dataset to link it."
   ]
  },
  {
   "cell_type": "code",
   "execution_count": null,
   "metadata": {},
   "outputs": [],
   "source": [
    "measurement_data = qrs.get_data_metadata('measurements')\n",
    "\n",
    "measurement_ids = []\n",
    "\n",
    "for path in file_paths:\n",
    "\n",
    "    measurement_ids.append(measurement_data[measurement_data['file_path_measurement'] == str(path)]['id_measurement'].values[0])\n",
    "\n",
    "assert len(measurement_ids) == len(file_paths), 'The number of measurements is not the same as the number of file paths'"
   ]
  },
  {
   "cell_type": "code",
   "execution_count": 45,
   "metadata": {},
   "outputs": [
    {
     "name": "stdout",
     "output_type": "stream",
     "text": [
      "INSERT INTO dataset_measurements (dataset_id, measurement_id) VALUES ('1', '41')\n",
      "INSERT INTO dataset_measurements (dataset_id, measurement_id) VALUES ('1', '3')\n"
     ]
    }
   ],
   "source": [
    "relational_table_name = 'dataset_measurements'\n",
    "\n",
    "for measurement_id in measurement_ids:\n",
    "\n",
    "    relational_parameters = {'dataset_id': row_id, 'measurement_id': measurement_id}\n",
    "\n",
    "    # Extract column names and values from the attributes dictionary\n",
    "    columns = ', '.join(relational_parameters.keys())\n",
    "    values = ', '.join([f\"'{v}'\" for v in relational_parameters.values()])\n",
    "\n",
    "    # Construct the SQL INSERT statement\n",
    "    sql = f\"INSERT INTO {relational_table_name} ({columns}) VALUES ({values})\"\n",
    "\n",
    "    print(sql)\n",
    "\n",
    "    # Create a cursor object using the cursor() method\n",
    "    cursor = conn.cursor()\n",
    "\n",
    "    # Execute the SQL statement\n",
    "    cursor.execute(sql)\n",
    "\n",
    "    cursor.execute('COMMIT')\n",
    "\n",
    "    cursor.close()"
   ]
  },
  {
   "cell_type": "markdown",
   "metadata": {},
   "source": [
    "## Make sure insert was correct"
   ]
  },
  {
   "cell_type": "code",
   "execution_count": null,
   "metadata": {},
   "outputs": [
    {
     "data": {
      "text/html": [
       "<div>\n",
       "<style scoped>\n",
       "    .dataframe tbody tr th:only-of-type {\n",
       "        vertical-align: middle;\n",
       "    }\n",
       "\n",
       "    .dataframe tbody tr th {\n",
       "        vertical-align: top;\n",
       "    }\n",
       "\n",
       "    .dataframe thead th {\n",
       "        text-align: right;\n",
       "    }\n",
       "</style>\n",
       "<table border=\"1\" class=\"dataframe\">\n",
       "  <thead>\n",
       "    <tr style=\"text-align: right;\">\n",
       "      <th></th>\n",
       "      <th>id_dataset</th>\n",
       "      <th>file_path_dataset</th>\n",
       "      <th>description_dataset</th>\n",
       "      <th>rows_dataset</th>\n",
       "      <th>patch_size_dataset</th>\n",
       "      <th>target_dataset</th>\n",
       "      <th>target2_dataset</th>\n",
       "      <th>id_measurement</th>\n",
       "      <th>file_path_measurement</th>\n",
       "      <th>parent_measurement_id_measurement</th>\n",
       "      <th>measurementtype_id_measurement</th>\n",
       "      <th>height_measurement</th>\n",
       "      <th>width_measurement</th>\n",
       "      <th>depth_measurement</th>\n",
       "      <th>dtype_measurement</th>\n",
       "      <th>file_type_measurement</th>\n",
       "      <th>signal_type_measurement</th>\n",
       "      <th>aligned_measurement</th>\n",
       "    </tr>\n",
       "  </thead>\n",
       "  <tbody>\n",
       "    <tr>\n",
       "      <th>0</th>\n",
       "      <td>1</td>\n",
       "      <td>\\\\192.168.10.106\\imdea\\DataDriven_UT_AlbertoVi...</td>\n",
       "      <td>Monoelement RF vs volfrac and areafrac. First ...</td>\n",
       "      <td>2686 cardinal</td>\n",
       "      <td>3 pixels</td>\n",
       "      <td>volfrac nominal</td>\n",
       "      <td>areafrac nominal</td>\n",
       "      <td>41</td>\n",
       "      <td>\\\\192.168.10.106\\imdea\\DataDriven_UT_AlbertoVi...</td>\n",
       "      <td>26.0</td>\n",
       "      <td>2</td>\n",
       "      <td>225 cardinal</td>\n",
       "      <td>3279 cardinal</td>\n",
       "      <td>1542 cardinal</td>\n",
       "      <td>uint8 nominal</td>\n",
       "      <td>folder nominal</td>\n",
       "      <td>NaN</td>\n",
       "      <td>True boolean</td>\n",
       "    </tr>\n",
       "    <tr>\n",
       "      <th>1</th>\n",
       "      <td>1</td>\n",
       "      <td>\\\\192.168.10.106\\imdea\\DataDriven_UT_AlbertoVi...</td>\n",
       "      <td>Monoelement RF vs volfrac and areafrac. First ...</td>\n",
       "      <td>2686 cardinal</td>\n",
       "      <td>3 pixels</td>\n",
       "      <td>volfrac nominal</td>\n",
       "      <td>areafrac nominal</td>\n",
       "      <td>3</td>\n",
       "      <td>\\\\192.168.10.106\\imdea\\DataDriven_UT_AlbertoVi...</td>\n",
       "      <td>1.0</td>\n",
       "      <td>3</td>\n",
       "      <td>505 cardinal</td>\n",
       "      <td>120 cardinal</td>\n",
       "      <td>45 cardinal</td>\n",
       "      <td>uint8 nominal</td>\n",
       "      <td>tif nominal</td>\n",
       "      <td>RF nominal</td>\n",
       "      <td>NaN</td>\n",
       "    </tr>\n",
       "  </tbody>\n",
       "</table>\n",
       "</div>"
      ],
      "text/plain": [
       "   id_dataset                                  file_path_dataset  \\\n",
       "0           1  \\\\192.168.10.106\\imdea\\DataDriven_UT_AlbertoVi...   \n",
       "1           1  \\\\192.168.10.106\\imdea\\DataDriven_UT_AlbertoVi...   \n",
       "\n",
       "                                 description_dataset   rows_dataset  \\\n",
       "0  Monoelement RF vs volfrac and areafrac. First ...  2686 cardinal   \n",
       "1  Monoelement RF vs volfrac and areafrac. First ...  2686 cardinal   \n",
       "\n",
       "  patch_size_dataset   target_dataset   target2_dataset  id_measurement  \\\n",
       "0           3 pixels  volfrac nominal  areafrac nominal              41   \n",
       "1           3 pixels  volfrac nominal  areafrac nominal               3   \n",
       "\n",
       "                               file_path_measurement  \\\n",
       "0  \\\\192.168.10.106\\imdea\\DataDriven_UT_AlbertoVi...   \n",
       "1  \\\\192.168.10.106\\imdea\\DataDriven_UT_AlbertoVi...   \n",
       "\n",
       "   parent_measurement_id_measurement  measurementtype_id_measurement  \\\n",
       "0                               26.0                               2   \n",
       "1                                1.0                               3   \n",
       "\n",
       "  height_measurement width_measurement depth_measurement dtype_measurement  \\\n",
       "0       225 cardinal     3279 cardinal     1542 cardinal     uint8 nominal   \n",
       "1       505 cardinal      120 cardinal       45 cardinal     uint8 nominal   \n",
       "\n",
       "  file_type_measurement signal_type_measurement aligned_measurement  \n",
       "0        folder nominal                     NaN        True boolean  \n",
       "1           tif nominal              RF nominal                 NaN  "
      ]
     },
     "execution_count": 46,
     "metadata": {},
     "output_type": "execute_result"
    }
   ],
   "source": [
    "data = qrs.relation_metadata(table_name,'measurements',relational_table_name)\n",
    "\n",
    "data"
   ]
  }
 ],
 "metadata": {
  "kernelspec": {
   "display_name": "Python 3",
   "language": "python",
   "name": "python3"
  },
  "language_info": {
   "codemirror_mode": {
    "name": "ipython",
    "version": 3
   },
   "file_extension": ".py",
   "mimetype": "text/x-python",
   "name": "python",
   "nbconvert_exporter": "python",
   "pygments_lexer": "ipython3",
   "version": "3.13.2"
  }
 },
 "nbformat": 4,
 "nbformat_minor": 2
}
