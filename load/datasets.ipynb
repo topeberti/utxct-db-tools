{
 "cells": [
  {
   "cell_type": "markdown",
   "id": "28a67809",
   "metadata": {},
   "source": [
    "# Dataset Loading"
   ]
  },
  {
   "cell_type": "markdown",
   "id": "373b1660",
   "metadata": {},
   "source": [
    "Notebook to load dataset data into the database. This notebook demonstrates how to create dataset entries with their associated metadata and measurement relationships."
   ]
  },
  {
   "cell_type": "markdown",
   "id": "e60afb71",
   "metadata": {},
   "source": [
    "## Imports"
   ]
  },
  {
   "cell_type": "code",
   "execution_count": 7,
   "id": "64a52866",
   "metadata": {},
   "outputs": [],
   "source": [
    "import psycopg2\n",
    "import pandas as pd\n",
    "import numpy as np\n",
    "from tabulate import tabulate\n",
    "from pathlib import Path\n",
    "# Import a folder in the parent directory\n",
    "import sys\n",
    "sys.path.append('../')\n",
    "import dbtools.dbtools as qrs\n",
    "import dbtools.load as load"
   ]
  },
  {
   "cell_type": "markdown",
   "id": "bde30b42",
   "metadata": {},
   "source": [
    "## Connection"
   ]
  },
  {
   "cell_type": "code",
   "execution_count": 8,
   "id": "5b005509",
   "metadata": {},
   "outputs": [
    {
     "name": "stdout",
     "output_type": "stream",
     "text": [
      "Connected to the database\n"
     ]
    }
   ],
   "source": [
    "try:\n",
    "    # Connect to the PostgreSQL database\n",
    "    conn = qrs.connect()\n",
    "    print(\"Connected to the database\")\n",
    "\n",
    "except (Exception, psycopg2.DatabaseError) as error:\n",
    "    print(error)"
   ]
  },
  {
   "cell_type": "markdown",
   "id": "f33d95e7",
   "metadata": {},
   "source": [
    "## Dataset Data"
   ]
  },
  {
   "cell_type": "markdown",
   "id": "2f3f8c1d",
   "metadata": {},
   "source": [
    "The `load_dataset` function creates a new dataset entry in the database with associated metadata and measurement relationships.\n",
    "\n",
    "Parameters:\n",
    "- `file_path`: The path to the dataset file\n",
    "- `rows`: Number of rows in the dataset\n",
    "- `patch_size`: Patch size of the dataset\n",
    "- `targets`: List of targets for the dataset\n",
    "- `reconstruction_shape`: Shape to see the dataset as an image\n",
    "- `measurement_file_paths`: List of measurement file paths associated with this dataset\n",
    "- `description`: Optional dataset description\n",
    "- `additional_metadata`: Optional list of dictionaries with metadata\n",
    "\n",
    "Each metadata dictionary should contain:\n",
    "- `key`: The name of the metadata field\n",
    "- `value`: The value of the metadata\n",
    "- `type`: The type or unit of the metadata"
   ]
  },
  {
   "cell_type": "markdown",
   "id": "4f8dad4c",
   "metadata": {},
   "source": [
    "## Get Existing Measurements"
   ]
  },
  {
   "cell_type": "markdown",
   "id": "b61a7a8b",
   "metadata": {},
   "source": [
    "## Dataset with Additional Metadata"
   ]
  },
  {
   "cell_type": "code",
   "execution_count": 9,
   "id": "5884f7cc",
   "metadata": {},
   "outputs": [
    {
     "name": "stdout",
     "output_type": "stream",
     "text": [
      "Dataset from '\\\\192.168.10.106\\imdea\\DataDriven_UT_AlbertoVicente\\04_ML_data\\Juan Ignacio\\JI_4\\MonoElement\\patch_vs_volfrac_3.csv' loaded with ID: 67\n",
      "Dataset with additional metadata loaded with ID: 67\n",
      "Dataset with additional metadata loaded with ID: 67\n"
     ]
    }
   ],
   "source": [
    "# Define another dataset file path (replace with an actual file path in your system)\n",
    "dataset_file_path = Path(r'\\\\192.168.10.106\\imdea\\DataDriven_UT_AlbertoVicente\\04_ML_data\\Juan Ignacio\\JI_4\\MonoElement\\patch_vs_volfrac_3.csv')\n",
    "\n",
    "df2 = pd.read_csv(dataset_file_path)\n",
    "\n",
    "# Count the number of rows\n",
    "rows = len(df2)\n",
    "\n",
    "# Select different measurements to associate with this dataset\n",
    "measurement_file_paths = ['\\\\\\\\192.168.10.106\\\\imdea\\\\DataDriven_UT_AlbertoVicente\\\\03_UT_data\\\\Probetas JI\\\\probetas\\\\4\\\\4.tif']\n",
    "\n",
    "# Define different dataset parameters\n",
    "patch_size = \"32x32\"\n",
    "targets = [\"density\", \"thickness\"]\n",
    "reconstruction_shape = (512, 512)\n",
    "description = \"Advanced dataset with additional metadata\"\n",
    "\n",
    "# Define additional metadata\n",
    "additional_metadata = [\n",
    "    {'key': 'preprocessing', 'value': 'normalized', 'type': 'string'},\n",
    "    {'key': 'feature_extraction', 'value': 'wavelet transform', 'type': 'string'},\n",
    "    {'key': 'augmentation', 'value': 'True', 'type': 'boolean'},\n",
    "    {'key': 'train_test_split', 'value': '0.8', 'type': 'ratio'},\n",
    "    {'key': 'author', 'value': 'Data Science Team', 'type': 'string'}\n",
    "]\n",
    "\n",
    "# Load the dataset with additional metadata\n",
    "dataset_id = load.load_dataset(\n",
    "    conn, \n",
    "    str(dataset_file_path),\n",
    "    rows, \n",
    "    patch_size, \n",
    "    targets, \n",
    "    reconstruction_shape, \n",
    "    measurement_file_paths,\n",
    "    description,\n",
    "    additional_metadata\n",
    ")\n",
    "\n",
    "print(f\"Dataset with additional metadata loaded with ID: {dataset_id}\")"
   ]
  },
  {
   "cell_type": "markdown",
   "id": "48b0f8e1",
   "metadata": {},
   "source": [
    "## Verify Insertion"
   ]
  },
  {
   "cell_type": "code",
   "execution_count": 10,
   "id": "f3e55e24",
   "metadata": {},
   "outputs": [
    {
     "name": "stdout",
     "output_type": "stream",
     "text": [
      "Dataset basic information:\n",
      "+----+------------+----------------------------------------------------------------------------------------------------------------------+--------------------------------------------------------------------------------------+\n",
      "|    | id_dataset |                                                  file_path_dataset                                                   |                                 description_dataset                                  |\n",
      "+----+------------+----------------------------------------------------------------------------------------------------------------------+--------------------------------------------------------------------------------------+\n",
      "| 51 |     61     | \\\\192.168.10.106\\imdea\\DataDriven_UT_AlbertoVicente\\04_ML_data\\Juan Ignacio\\JI_8\\MonoElement\\patch_vs_volfrac_9.csv  | Monoelement RF vs volfrac and areafrac. First functional group of datasets from 2024 |\n",
      "| 52 |     62     | \\\\192.168.10.106\\imdea\\DataDriven_UT_AlbertoVicente\\04_ML_data\\Juan Ignacio\\JI_10\\MonoElement\\patch_vs_volfrac_9.csv | Monoelement RF vs volfrac and areafrac. First functional group of datasets from 2024 |\n",
      "| 53 |     63     | \\\\192.168.10.106\\imdea\\DataDriven_UT_AlbertoVicente\\04_ML_data\\Juan Ignacio\\JI_11\\MonoElement\\patch_vs_volfrac_9.csv | Monoelement RF vs volfrac and areafrac. First functional group of datasets from 2024 |\n",
      "| 54 |     64     | \\\\192.168.10.106\\imdea\\DataDriven_UT_AlbertoVicente\\04_ML_data\\Juan Ignacio\\JI_12\\MonoElement\\patch_vs_volfrac_9.csv | Monoelement RF vs volfrac and areafrac. First functional group of datasets from 2024 |\n",
      "| 55 |     67     | \\\\192.168.10.106\\imdea\\DataDriven_UT_AlbertoVicente\\04_ML_data\\Juan Ignacio\\JI_4\\MonoElement\\patch_vs_volfrac_3.csv  |                      Advanced dataset with additional metadata                       |\n",
      "+----+------------+----------------------------------------------------------------------------------------------------------------------+--------------------------------------------------------------------------------------+\n",
      "\n",
      "Dataset-Measurement relationships:\n",
      "+---+------------+---------------------------------------------------------------------------------------------------------------------+-------------------------------------------+--------------------+-------------------+---------------+------------------------------+-----------------------+----------------------------+----------------------+--------------------------+--------------------------+----------------+---------------------------------------------------------------------------------------------+--------------------------------+--------------------+-------------------+-------------------+-------------------+-----------------------+-------------------------+------------------------+\n",
      "|   | id_dataset |                                                  file_path_dataset                                                  |            description_dataset            | patch_size_dataset |  target_dataset   | rows_dataset  | reconstruction_shape_dataset | preprocessing_dataset | feature_extraction_dataset | augmentation_dataset | train_test_split_dataset |      author_dataset      | id_measurement |                                    file_path_measurement                                    | measurementtype_id_measurement | height_measurement | width_measurement | depth_measurement | dtype_measurement | file_type_measurement | signal_type_measurement | axes_order_measurement |\n",
      "+---+------------+---------------------------------------------------------------------------------------------------------------------+-------------------------------------------+--------------------+-------------------+---------------+------------------------------+-----------------------+----------------------------+----------------------+--------------------------+--------------------------+----------------+---------------------------------------------------------------------------------------------+--------------------------------+--------------------+-------------------+-------------------+-------------------+-----------------------+-------------------------+------------------------+\n",
      "| 0 |     67     | \\\\192.168.10.106\\imdea\\DataDriven_UT_AlbertoVicente\\04_ML_data\\Juan Ignacio\\JI_4\\MonoElement\\patch_vs_volfrac_3.csv | Advanced dataset with additional metadata |    32x32 pixels    | thickness nominal | 2686 cardinal |   (512, 512) pixels tuple    |   normalized string   |  wavelet transform string  |     True boolean     |        0.8 ratio         | Data Science Team string |       98       | \\\\192.168.10.106\\imdea\\DataDriven_UT_AlbertoVicente\\03_UT_data\\Probetas JI\\probetas\\4\\4.tif |               4                |    505 cardinal    |   120 cardinal    |    45 cardinal    |   uint8 nominal   |     .tif nominal      |       RF nominal        |  ['z', 'y', 'x'] list  |\n",
      "+---+------------+---------------------------------------------------------------------------------------------------------------------+-------------------------------------------+--------------------+-------------------+---------------+------------------------------+-----------------------+----------------------------+----------------------+--------------------------+--------------------------+----------------+---------------------------------------------------------------------------------------------+--------------------------------+--------------------+-------------------+-------------------+-------------------+-----------------------+-------------------------+------------------------+\n",
      "\n",
      "Dataset-Measurement relationships:\n",
      "+---+------------+---------------------------------------------------------------------------------------------------------------------+-------------------------------------------+--------------------+-------------------+---------------+------------------------------+-----------------------+----------------------------+----------------------+--------------------------+--------------------------+----------------+---------------------------------------------------------------------------------------------+--------------------------------+--------------------+-------------------+-------------------+-------------------+-----------------------+-------------------------+------------------------+\n",
      "|   | id_dataset |                                                  file_path_dataset                                                  |            description_dataset            | patch_size_dataset |  target_dataset   | rows_dataset  | reconstruction_shape_dataset | preprocessing_dataset | feature_extraction_dataset | augmentation_dataset | train_test_split_dataset |      author_dataset      | id_measurement |                                    file_path_measurement                                    | measurementtype_id_measurement | height_measurement | width_measurement | depth_measurement | dtype_measurement | file_type_measurement | signal_type_measurement | axes_order_measurement |\n",
      "+---+------------+---------------------------------------------------------------------------------------------------------------------+-------------------------------------------+--------------------+-------------------+---------------+------------------------------+-----------------------+----------------------------+----------------------+--------------------------+--------------------------+----------------+---------------------------------------------------------------------------------------------+--------------------------------+--------------------+-------------------+-------------------+-------------------+-----------------------+-------------------------+------------------------+\n",
      "| 0 |     67     | \\\\192.168.10.106\\imdea\\DataDriven_UT_AlbertoVicente\\04_ML_data\\Juan Ignacio\\JI_4\\MonoElement\\patch_vs_volfrac_3.csv | Advanced dataset with additional metadata |    32x32 pixels    | thickness nominal | 2686 cardinal |   (512, 512) pixels tuple    |   normalized string   |  wavelet transform string  |     True boolean     |        0.8 ratio         | Data Science Team string |       98       | \\\\192.168.10.106\\imdea\\DataDriven_UT_AlbertoVicente\\03_UT_data\\Probetas JI\\probetas\\4\\4.tif |               4                |    505 cardinal    |   120 cardinal    |    45 cardinal    |   uint8 nominal   |     .tif nominal      |       RF nominal        |  ['z', 'y', 'x'] list  |\n",
      "+---+------------+---------------------------------------------------------------------------------------------------------------------+-------------------------------------------+--------------------+-------------------+---------------+------------------------------+-----------------------+----------------------------+----------------------+--------------------------+--------------------------+----------------+---------------------------------------------------------------------------------------------+--------------------------------+--------------------+-------------------+-------------------+-------------------+-----------------------+-------------------------+------------------------+\n"
     ]
    }
   ],
   "source": [
    "# Get dataset data from the database\n",
    "dataset_data = qrs.get_data_metadata('datasets')\n",
    "\n",
    "# Display the dataset data\n",
    "print(\"Dataset basic information:\")\n",
    "print(tabulate(dataset_data[['id_dataset', 'file_path_dataset', 'description_dataset']].tail(), \n",
    "               headers='keys', tablefmt='pretty'))\n",
    "\n",
    "# Get relationship data\n",
    "relationship_data = qrs.relation_metadata('datasets', 'measurements', 'dataset_measurements')\n",
    "\n",
    "# Display relationships\n",
    "print(\"\\nDataset-Measurement relationships:\")\n",
    "print(tabulate(relationship_data.tail(), headers='keys', tablefmt='pretty'))"
   ]
  },
  {
   "cell_type": "code",
   "execution_count": 11,
   "id": "edfcc993",
   "metadata": {},
   "outputs": [],
   "source": [
    "# Close the database connection\n",
    "conn.close()"
   ]
  }
 ],
 "metadata": {
  "kernelspec": {
   "display_name": "sql",
   "language": "python",
   "name": "python3"
  },
  "language_info": {
   "codemirror_mode": {
    "name": "ipython",
    "version": 3
   },
   "file_extension": ".py",
   "mimetype": "text/x-python",
   "name": "python",
   "nbconvert_exporter": "python",
   "pygments_lexer": "ipython3",
   "version": "3.13.2"
  }
 },
 "nbformat": 4,
 "nbformat_minor": 5
}
