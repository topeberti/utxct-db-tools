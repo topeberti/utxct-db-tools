{
 "cells": [
  {
   "cell_type": "markdown",
   "id": "7ed34731",
   "metadata": {},
   "source": [
    "# Datasettype Loading"
   ]
  },
  {
   "cell_type": "markdown",
   "id": "edd2fab9",
   "metadata": {},
   "source": [
    "## Imports"
   ]
  },
  {
   "cell_type": "code",
   "execution_count": null,
   "id": "27c92dc0",
   "metadata": {},
   "outputs": [],
   "source": [
    "import psycopg2\n",
    "from tabulate import tabulate\n",
    "#import a folder in the parent directory\n",
    "import sys\n",
    "sys.path.append('../')\n",
    "import dbtools.dbtools as qrs\n",
    "import dbtools.load as load\n",
    "import pandas as pd\n",
    "from pathlib import Path"
   ]
  },
  {
   "cell_type": "markdown",
   "id": "abad7d65",
   "metadata": {},
   "source": [
    "## Connection"
   ]
  },
  {
   "cell_type": "code",
   "execution_count": null,
   "id": "c4f8728b",
   "metadata": {},
   "outputs": [],
   "source": [
    "try:\n",
    "    # Connect to the PostgreSQL database\n",
    "    conn = qrs.connect()\n",
    "    print(\"Connected to the database\")\n",
    "\n",
    "except (Exception, psycopg2.DatabaseError) as error:\n",
    "    print(error)"
   ]
  },
  {
   "cell_type": "markdown",
   "id": "e042c674",
   "metadata": {},
   "source": [
    "## Datasettype"
   ]
  },
  {
   "cell_type": "code",
   "execution_count": null,
   "id": "e584ccba",
   "metadata": {},
   "outputs": [],
   "source": [
    "datasettpypes_table = qrs.get_data('datasettypes')\n",
    "\n",
    "datasettpypes_table"
   ]
  },
  {
   "cell_type": "code",
   "execution_count": null,
   "id": "30d44501",
   "metadata": {},
   "outputs": [],
   "source": [
    "datasettype = 5"
   ]
  },
  {
   "cell_type": "markdown",
   "id": "9b785464",
   "metadata": {},
   "source": [
    "## Dataset"
   ]
  },
  {
   "cell_type": "code",
   "execution_count": 16,
   "id": "07f3c7e5",
   "metadata": {},
   "outputs": [
    {
     "name": "stdout",
     "output_type": "stream",
     "text": [
      "Dataset from '\\\\192.168.10.106\\imdea\\DataDriven_UT_AlbertoVicente\\04_ML_data\\Juan Ignacio\\JI_4\\MonoElement\\patch_vs_volfrac_9.csv' loaded with ID: 293\n",
      "Dataset from '\\\\192.168.10.106\\imdea\\DataDriven_UT_AlbertoVicente\\04_ML_data\\Juan Ignacio\\JI_5\\MonoElement\\patch_vs_volfrac_9.csv' loaded with ID: 294\n",
      "Dataset from '\\\\192.168.10.106\\imdea\\DataDriven_UT_AlbertoVicente\\04_ML_data\\Juan Ignacio\\JI_7\\MonoElement\\patch_vs_volfrac_9.csv' loaded with ID: 295\n",
      "Dataset from '\\\\192.168.10.106\\imdea\\DataDriven_UT_AlbertoVicente\\04_ML_data\\Juan Ignacio\\JI_8\\MonoElement\\patch_vs_volfrac_9.csv' loaded with ID: 296\n",
      "Dataset from '\\\\192.168.10.106\\imdea\\DataDriven_UT_AlbertoVicente\\04_ML_data\\Juan Ignacio\\JI_10\\MonoElement\\patch_vs_volfrac_9.csv' loaded with ID: 297\n",
      "Dataset from '\\\\192.168.10.106\\imdea\\DataDriven_UT_AlbertoVicente\\04_ML_data\\Juan Ignacio\\JI_11\\MonoElement\\patch_vs_volfrac_9.csv' loaded with ID: 298\n",
      "Dataset from '\\\\192.168.10.106\\imdea\\DataDriven_UT_AlbertoVicente\\04_ML_data\\Juan Ignacio\\JI_12\\MonoElement\\patch_vs_volfrac_9.csv' loaded with ID: 299\n"
     ]
    }
   ],
   "source": [
    "dataset_paths = [str(Path(path)) for path in [\n",
    "    r'\\\\192.168.10.106\\imdea\\DataDriven_UT_AlbertoVicente\\04_ML_data\\Juan Ignacio\\JI_4\\MonoElement\\patch_vs_volfrac_9.csv',\n",
    "    r'\\\\192.168.10.106\\imdea\\DataDriven_UT_AlbertoVicente\\04_ML_data\\Juan Ignacio\\JI_5\\MonoElement\\patch_vs_volfrac_9.csv',\n",
    "    r'\\\\192.168.10.106\\imdea\\DataDriven_UT_AlbertoVicente\\04_ML_data\\Juan Ignacio\\JI_7\\MonoElement\\patch_vs_volfrac_9.csv',\n",
    "    r'\\\\192.168.10.106\\imdea\\DataDriven_UT_AlbertoVicente\\04_ML_data\\Juan Ignacio\\JI_8\\MonoElement\\patch_vs_volfrac_9.csv',\n",
    "    r'\\\\192.168.10.106\\imdea\\DataDriven_UT_AlbertoVicente\\04_ML_data\\Juan Ignacio\\JI_10\\MonoElement\\patch_vs_volfrac_9.csv',\n",
    "    r'\\\\192.168.10.106\\imdea\\DataDriven_UT_AlbertoVicente\\04_ML_data\\Juan Ignacio\\JI_11\\MonoElement\\patch_vs_volfrac_9.csv',\n",
    "    r'\\\\192.168.10.106\\imdea\\DataDriven_UT_AlbertoVicente\\04_ML_data\\Juan Ignacio\\JI_12\\MonoElement\\patch_vs_volfrac_9.csv'\n",
    "]]\n",
    "\n",
    "patch_size = '9'\n",
    "\n",
    "registration_id = [75]\n",
    "\n",
    "targets = ['Volfrac']\n",
    "\n",
    "reconstruction_shape = (-1,-1)\n",
    "\n",
    "for dataset_path in dataset_paths:\n",
    "    dataset = pd.read_csv(dataset_path)\n",
    "    rows = len(dataset)\n",
    "    load.load_dataset(conn=conn,datasettype_id=datasettype,file_path=dataset_path,rows=rows,patch_size=patch_size,targets=targets,reconstruction_shape=reconstruction_shape,registration_ids=registration_id)\n"
   ]
  },
  {
   "cell_type": "markdown",
   "id": "40075065",
   "metadata": {},
   "source": [
    "## Make sure insert was correct"
   ]
  },
  {
   "cell_type": "code",
   "execution_count": null,
   "id": "f5351e11",
   "metadata": {},
   "outputs": [],
   "source": [
    "data = qrs.get_data('datasettypes')\n",
    "\n",
    "data"
   ]
  },
  {
   "cell_type": "code",
   "execution_count": null,
   "id": "fa54407a",
   "metadata": {},
   "outputs": [],
   "source": [
    "conn.close()"
   ]
  }
 ],
 "metadata": {
  "kernelspec": {
   "display_name": "sql",
   "language": "python",
   "name": "python3"
  },
  "language_info": {
   "codemirror_mode": {
    "name": "ipython",
    "version": 3
   },
   "file_extension": ".py",
   "mimetype": "text/x-python",
   "name": "python",
   "nbconvert_exporter": "python",
   "pygments_lexer": "ipython3",
   "version": "3.13.2"
  }
 },
 "nbformat": 4,
 "nbformat_minor": 5
}
