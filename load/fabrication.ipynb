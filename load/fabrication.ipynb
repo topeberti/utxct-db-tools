{
 "cells": [
  {
   "cell_type": "markdown",
   "id": "db3fef68",
   "metadata": {},
   "source": [
    "# Fabrication Method Loading"
   ]
  },
  {
   "cell_type": "markdown",
   "id": "529ccde9",
   "metadata": {},
   "source": [
    "Notebook to load fabrication method data into the database. This notebook demonstrates how to create fabrication methods with their associated metadata."
   ]
  },
  {
   "cell_type": "markdown",
   "id": "905164b9",
   "metadata": {},
   "source": [
    "## Imports"
   ]
  },
  {
   "cell_type": "code",
   "execution_count": null,
   "id": "835d8a82",
   "metadata": {},
   "outputs": [],
   "source": [
    "import psycopg2\n",
    "from tabulate import tabulate\n",
    "#import a folder in the parent directory\n",
    "import sys\n",
    "sys.path.append('../')\n",
    "import dbtools.dbtools as qrs\n",
    "import dbtools.load as load"
   ]
  },
  {
   "cell_type": "markdown",
   "id": "59125920",
   "metadata": {},
   "source": [
    "## Connection"
   ]
  },
  {
   "cell_type": "code",
   "execution_count": null,
   "id": "4fde06fa",
   "metadata": {},
   "outputs": [],
   "source": [
    "try:\n",
    "    # Connect to the PostgreSQL database\n",
    "    conn = qrs.connect()\n",
    "    print(\"Connected to the database\")\n",
    "\n",
    "except (Exception, psycopg2.DatabaseError) as error:\n",
    "    print(error)"
   ]
  },
  {
   "cell_type": "markdown",
   "id": "8573564b",
   "metadata": {},
   "source": [
    "## Fabrication Method Data"
   ]
  },
  {
   "cell_type": "markdown",
   "id": "d363fc1a",
   "metadata": {},
   "source": [
    "Compulsory information:\n",
    "- name\n",
    "\n",
    "Suggested metadata:\n",
    "- hand_lay_up: bool\n",
    "- vacuum_bag: bool\n",
    "- autoclave: bool\n",
    "- pressure: bar\n",
    "- temperature_ramp: Text explaining the temperature ramp, ie: 10 °C/min to 180 °C – 2 h dwell – 2.5 °C/min cooling text\n"
   ]
  },
  {
   "cell_type": "markdown",
   "id": "a5bf11ff",
   "metadata": {},
   "source": [
    "## Example with Heat Ramp and Pressure Ramp"
   ]
  },
  {
   "cell_type": "code",
   "execution_count": null,
   "id": "4d85c74c",
   "metadata": {},
   "outputs": [],
   "source": [
    "# Define another fabrication method\n",
    "name = 'Nacho simple cycle 1'\n",
    "\n",
    "# Define additional metadata including ramps\n",
    "additional_metadata2 = [\n",
    "    {'key': 'hand_lay_up', 'value': True, 'type': 'bool'},\n",
    "    {'key': 'vacuum_bag', 'value': False, 'type': 'bool'},\n",
    "    {'key': 'autoclave', 'value': True, 'type': 'bool'},\n",
    "    {'key': 'pressure', 'value': 7.5, 'type': 'bar'},\n",
    "    {'key': 'temperature_ramp', 'value': '10 °C/min to 180 °C – 2 h dwell – 2.5 °C/min cooling', 'type': 'text'}\n",
    "]\n",
    "\n",
    "# Load the fabrication method with heat and pressure ramps\n",
    "fabrication_id2 = load.load_fabrication(conn, name, additional_metadata2)\n",
    "\n",
    "print(f\"Fabrication method '{name}' loaded with ID: {fabrication_id2}\")"
   ]
  },
  {
   "cell_type": "markdown",
   "id": "47a99a5f",
   "metadata": {},
   "source": [
    "## Verify Insertion"
   ]
  },
  {
   "cell_type": "code",
   "execution_count": null,
   "id": "940150f6",
   "metadata": {},
   "outputs": [],
   "source": [
    "# Get fabrication data from the database\n",
    "fabrication_data = qrs.get_data_metadata('fabrications')\n",
    "\n",
    "# Display the fabrication data\n",
    "fabrication_data"
   ]
  },
  {
   "cell_type": "code",
   "execution_count": null,
   "id": "d1394154",
   "metadata": {},
   "outputs": [],
   "source": [
    "# Close the database connection\n",
    "conn.close()"
   ]
  }
 ],
 "metadata": {
  "language_info": {
   "name": "python"
  }
 },
 "nbformat": 4,
 "nbformat_minor": 5
}
