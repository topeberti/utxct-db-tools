{
 "cells": [
  {
   "cell_type": "markdown",
   "id": "db3fef68",
   "metadata": {},
   "source": [
    "# Fabrication Method Loading"
   ]
  },
  {
   "cell_type": "markdown",
   "id": "529ccde9",
   "metadata": {},
   "source": [
    "Notebook to load fabrication method data into the database. This notebook demonstrates how to create fabrication methods with their associated metadata."
   ]
  },
  {
   "cell_type": "markdown",
   "id": "905164b9",
   "metadata": {},
   "source": [
    "## Imports"
   ]
  },
  {
   "cell_type": "code",
   "execution_count": null,
   "id": "835d8a82",
   "metadata": {},
   "outputs": [],
   "source": [
    "import psycopg2\n",
    "from tabulate import tabulate\n",
    "#import a folder in the parent directory\n",
    "import sys\n",
    "sys.path.append('../')\n",
    "import dbtools.dbtools as qrs\n",
    "import dbtools.load as load"
   ]
  },
  {
   "cell_type": "markdown",
   "id": "59125920",
   "metadata": {},
   "source": [
    "## Connection"
   ]
  },
  {
   "cell_type": "code",
   "execution_count": null,
   "id": "4fde06fa",
   "metadata": {},
   "outputs": [],
   "source": [
    "try:\n",
    "    # Connect to the PostgreSQL database\n",
    "    conn = qrs.connect()\n",
    "    print(\"Connected to the database\")\n",
    "\n",
    "except (Exception, psycopg2.DatabaseError) as error:\n",
    "    print(error)"
   ]
  },
  {
   "cell_type": "markdown",
   "id": "8573564b",
   "metadata": {},
   "source": [
    "## Fabrication Method Data"
   ]
  },
  {
   "cell_type": "markdown",
   "id": "d363fc1a",
   "metadata": {},
   "source": [
    "The `load_fabrication` function creates a new fabrication method in the database with associated metadata.\n",
    "\n",
    "Parameters:\n",
    "- `name`: Fabrication method name/identifier\n",
    "- `additional_metadata`: Optional list of dictionaries with metadata\n",
    "\n",
    "Each metadata dictionary should contain:\n",
    "- `key`: The name of the metadata field\n",
    "- `value`: The value of the metadata\n",
    "- `type`: The type or unit of the metadata\n",
    "\n",
    "Examples of fabrication method metadata might include:\n",
    "- Temperature ranges\n",
    "- Pressure settings\n",
    "- Process durations\n",
    "- Equipment specifications"
   ]
  },
  {
   "cell_type": "markdown",
   "id": "a5bf11ff",
   "metadata": {},
   "source": [
    "## Example with Heat Ramp and Pressure Ramp"
   ]
  },
  {
   "cell_type": "code",
   "execution_count": null,
   "id": "4d85c74c",
   "metadata": {},
   "outputs": [],
   "source": [
    "# Define another fabrication method\n",
    "name2 = 'Autoclave Curing Process'\n",
    "\n",
    "# Define heat ramp as a list of floats\n",
    "heat_ramp = [25.0, 60.0, 90.0, 120.0, 150.0, 180.0, 180.0, 150.0, 100.0, 50.0, 25.0]\n",
    "\n",
    "# Define pressure ramp as a list of floats\n",
    "pressure_ramp = [1.0, 2.0, 3.0, 4.0, 5.0, 6.0, 6.0, 5.0, 4.0, 2.0, 1.0]\n",
    "\n",
    "# Define additional metadata including ramps\n",
    "additional_metadata2 = [\n",
    "    {'key': 'heat_ramp', 'value': str(heat_ramp), 'type': 'list'},\n",
    "    {'key': 'pressure_ramp', 'value': str(pressure_ramp), 'type': 'list'},\n",
    "    {'key': 'total_cycle_time', 'value': 240, 'type': 'minutes'},\n",
    "    {'key': 'atmosphere', 'value': 'nitrogen', 'type': 'string'}\n",
    "]\n",
    "\n",
    "# Load the fabrication method with heat and pressure ramps\n",
    "fabrication_id2 = load.load_fabrication(conn, name2, additional_metadata2)\n",
    "\n",
    "print(f\"Fabrication method '{name2}' loaded with ID: {fabrication_id2}\")"
   ]
  },
  {
   "cell_type": "markdown",
   "id": "47a99a5f",
   "metadata": {},
   "source": [
    "## Verify Insertion"
   ]
  },
  {
   "cell_type": "code",
   "execution_count": null,
   "id": "940150f6",
   "metadata": {},
   "outputs": [],
   "source": [
    "# Get fabrication data from the database\n",
    "fabrication_data = qrs.get_data_metadata('fabrications')\n",
    "\n",
    "# Display the fabrication data\n",
    "fabrication_data"
   ]
  },
  {
   "cell_type": "code",
   "execution_count": null,
   "id": "d1394154",
   "metadata": {},
   "outputs": [],
   "source": [
    "# Close the database connection\n",
    "conn.close()"
   ]
  }
 ],
 "metadata": {
  "language_info": {
   "name": "python"
  }
 },
 "nbformat": 4,
 "nbformat_minor": 5
}
