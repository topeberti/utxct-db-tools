{
 "cells": [
  {
   "cell_type": "markdown",
   "id": "ca1735dd",
   "metadata": {},
   "source": [
    "# Registration Loading"
   ]
  },
  {
   "cell_type": "markdown",
   "id": "a9b79aa0",
   "metadata": {},
   "source": [
    "Notebook to load registration data into the database. This notebook demonstrates how to create registration entries with their associated metadata."
   ]
  },
  {
   "cell_type": "markdown",
   "id": "f530119e",
   "metadata": {},
   "source": [
    "## Imports"
   ]
  },
  {
   "cell_type": "code",
   "execution_count": null,
   "id": "5c706a5a",
   "metadata": {},
   "outputs": [],
   "source": [
    "import psycopg2\n",
    "import numpy as np\n",
    "from tabulate import tabulate\n",
    "# Import a folder in the parent directory\n",
    "import sys\n",
    "sys.path.append('../')\n",
    "import dbtools.dbtools as qrs\n",
    "import dbtools.load as load"
   ]
  },
  {
   "cell_type": "markdown",
   "id": "37e4211f",
   "metadata": {},
   "source": [
    "## Connection"
   ]
  },
  {
   "cell_type": "code",
   "execution_count": null,
   "id": "b8eb1aab",
   "metadata": {},
   "outputs": [],
   "source": [
    "try:\n",
    "    # Connect to the PostgreSQL database\n",
    "    conn = qrs.connect()\n",
    "    print(\"Connected to the database\")\n",
    "\n",
    "except (Exception, psycopg2.DatabaseError) as error:\n",
    "    print(error)"
   ]
  },
  {
   "cell_type": "markdown",
   "id": "13bcfafc",
   "metadata": {},
   "source": [
    "## Registration Data"
   ]
  },
  {
   "cell_type": "markdown",
   "id": "a9598de4",
   "metadata": {},
   "source": [
    "The `load_registration` function creates a new registration entry in the database with associated metadata.\n",
    "\n",
    "Parameters:\n",
    "- `transformation_matrix`: The 3x3 transformation matrix used for registration\n",
    "- `reference_file_path`: The file path of the reference measurement\n",
    "- `registered_file_path`: The file path of the registered measurement\n",
    "- `additional_metadata`: Optional list of dictionaries with metadata\n",
    "\n",
    "Each metadata dictionary should contain:\n",
    "- `key`: The name of the metadata field\n",
    "- `value`: The value of the metadata\n",
    "- `type`: The type or unit of the metadata\n",
    "\n",
    "The transformation matrix is a 3x3 matrix used to transform coordinates from the registered measurement space to the reference measurement space."
   ]
  },
  {
   "cell_type": "markdown",
   "id": "f607df68",
   "metadata": {},
   "source": [
    "## Get Existing Measurements"
   ]
  },
  {
   "cell_type": "code",
   "execution_count": null,
   "id": "af2a4d9a",
   "metadata": {},
   "outputs": [],
   "source": [
    "# Get measurement data from the database\n",
    "measurements = qrs.get_data('measurements')\n",
    "\n",
    "# Display the first few rows\n",
    "print(\"Available measurements:\")\n",
    "print(tabulate(measurements[['id_measurement', 'file_path_measurement']].head(5), \n",
    "               headers='keys', tablefmt='pretty'))"
   ]
  },
  {
   "cell_type": "markdown",
   "id": "5703ce63",
   "metadata": {},
   "source": [
    "## Registration with Additional Metadata"
   ]
  },
  {
   "cell_type": "code",
   "execution_count": null,
   "id": "33d2fd40",
   "metadata": {},
   "outputs": [],
   "source": [
    "# Define file paths for another set of measurements\n",
    "# Note: You should replace these with actual file paths from your measurements table\n",
    "reference_file_path2 = measurements['file_path_measurement'].iloc[2]\n",
    "registered_file_path2 = measurements['file_path_measurement'].iloc[3]\n",
    "\n",
    "# Define the transformation matrix with different values\n",
    "transformation_matrix2 = [\n",
    "    [0.9985, -0.0550, 10.5],\n",
    "    [0.0550, 0.9985, -5.2],\n",
    "    [0.0, 0.0, 1.0]\n",
    "]\n",
    "\n",
    "# Define additional metadata\n",
    "additional_metadata = [\n",
    "    {'key': 'registration_method', 'value': 'phase correlation', 'type': 'string'},\n",
    "    {'key': 'error_metric', 'value': 0.025, 'type': 'float'},\n",
    "    {'key': 'iterations', 'value': 500, 'type': 'integer'},\n",
    "    {'key': 'preprocessing', 'value': 'gaussian filter', 'type': 'string'}\n",
    "]\n",
    "\n",
    "# Load the registration with additional metadata\n",
    "registration_id2 = load.load_registration(\n",
    "    conn, \n",
    "    transformation_matrix2, \n",
    "    reference_file_path2, \n",
    "    registered_file_path2, \n",
    "    additional_metadata\n",
    ")\n",
    "\n",
    "print(f\"Registration with metadata loaded with ID: {registration_id2}\")"
   ]
  },
  {
   "cell_type": "markdown",
   "id": "ff761441",
   "metadata": {},
   "source": [
    "## Verify Insertion"
   ]
  },
  {
   "cell_type": "code",
   "execution_count": null,
   "id": "9d5f9038",
   "metadata": {},
   "outputs": [],
   "source": [
    "# Get registration data from the database\n",
    "registration_data = qrs.get_data_metadata('registrations')\n",
    "\n",
    "# Display the registration data\n",
    "registration_data"
   ]
  },
  {
   "cell_type": "code",
   "execution_count": null,
   "id": "287bd612",
   "metadata": {},
   "outputs": [],
   "source": [
    "# Close the database connection\n",
    "conn.close()"
   ]
  }
 ],
 "metadata": {
  "language_info": {
   "name": "python"
  }
 },
 "nbformat": 4,
 "nbformat_minor": 5
}
