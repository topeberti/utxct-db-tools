{
 "cells": [
  {
   "cell_type": "markdown",
   "metadata": {},
   "source": [
    "# Registration matrix loading"
   ]
  },
  {
   "cell_type": "markdown",
   "metadata": {},
   "source": [
    "Notebook to load registration matrixes ut data into the databse"
   ]
  },
  {
   "cell_type": "markdown",
   "metadata": {},
   "source": [
    "## Imports"
   ]
  },
  {
   "cell_type": "code",
   "execution_count": null,
   "metadata": {},
   "outputs": [],
   "source": [
    "import psycopg2\n",
    "import numpy as np\n",
    "#import a folder in the parent directory\n",
    "import sys\n",
    "sys.path.append('../')\n",
    "import dbtools.dbtools as qrs\n",
    "from pathlib import Path\n",
    "import tifffile as tiff"
   ]
  },
  {
   "cell_type": "markdown",
   "metadata": {},
   "source": [
    "## Connection"
   ]
  },
  {
   "cell_type": "code",
   "execution_count": null,
   "metadata": {},
   "outputs": [
    {
     "name": "stdout",
     "output_type": "stream",
     "text": [
      "Connected to the database\n"
     ]
    }
   ],
   "source": [
    "try:\n",
    "    # Connect to the PostgreSQL database\n",
    "    conn = qrs.connect()\n",
    "    print(\"Connected to the database\")\n",
    "\n",
    "except (Exception, psycopg2.DatabaseError) as error:\n",
    "    print(error)"
   ]
  },
  {
   "cell_type": "markdown",
   "metadata": {},
   "source": [
    "## Load measuements data"
   ]
  },
  {
   "cell_type": "markdown",
   "metadata": {},
   "source": [
    "We need this table to get the id of the registered measurement, so we load it now to not load it twice"
   ]
  },
  {
   "cell_type": "code",
   "execution_count": null,
   "metadata": {},
   "outputs": [
    {
     "data": {
      "text/html": [
       "<div>\n",
       "<style scoped>\n",
       "    .dataframe tbody tr th:only-of-type {\n",
       "        vertical-align: middle;\n",
       "    }\n",
       "\n",
       "    .dataframe tbody tr th {\n",
       "        vertical-align: top;\n",
       "    }\n",
       "\n",
       "    .dataframe thead th {\n",
       "        text-align: right;\n",
       "    }\n",
       "</style>\n",
       "<table border=\"1\" class=\"dataframe\">\n",
       "  <thead>\n",
       "    <tr style=\"text-align: right;\">\n",
       "      <th></th>\n",
       "      <th>id_measurement</th>\n",
       "      <th>file_path_measurement</th>\n",
       "      <th>parent_measurement_id_measurement</th>\n",
       "      <th>measurementtype_id_measurement</th>\n",
       "    </tr>\n",
       "  </thead>\n",
       "  <tbody>\n",
       "    <tr>\n",
       "      <th>0</th>\n",
       "      <td>1</td>\n",
       "      <td>\\\\192.168.10.106\\imdea\\DataDriven_UT_AlbertoVi...</td>\n",
       "      <td>NaN</td>\n",
       "      <td>3</td>\n",
       "    </tr>\n",
       "    <tr>\n",
       "      <th>1</th>\n",
       "      <td>3</td>\n",
       "      <td>\\\\192.168.10.106\\imdea\\DataDriven_UT_AlbertoVi...</td>\n",
       "      <td>1.0</td>\n",
       "      <td>3</td>\n",
       "    </tr>\n",
       "    <tr>\n",
       "      <th>2</th>\n",
       "      <td>4</td>\n",
       "      <td>\\\\192.168.10.106\\imdea\\DataDriven_UT_AlbertoVi...</td>\n",
       "      <td>1.0</td>\n",
       "      <td>3</td>\n",
       "    </tr>\n",
       "    <tr>\n",
       "      <th>3</th>\n",
       "      <td>5</td>\n",
       "      <td>\\\\192.168.10.106\\imdea\\DataDriven_UT_AlbertoVi...</td>\n",
       "      <td>1.0</td>\n",
       "      <td>3</td>\n",
       "    </tr>\n",
       "    <tr>\n",
       "      <th>4</th>\n",
       "      <td>6</td>\n",
       "      <td>\\\\192.168.10.106\\imdea\\DataDriven_UT_AlbertoVi...</td>\n",
       "      <td>1.0</td>\n",
       "      <td>3</td>\n",
       "    </tr>\n",
       "  </tbody>\n",
       "</table>\n",
       "</div>"
      ],
      "text/plain": [
       "   id_measurement                              file_path_measurement  \\\n",
       "0               1  \\\\192.168.10.106\\imdea\\DataDriven_UT_AlbertoVi...   \n",
       "1               3  \\\\192.168.10.106\\imdea\\DataDriven_UT_AlbertoVi...   \n",
       "2               4  \\\\192.168.10.106\\imdea\\DataDriven_UT_AlbertoVi...   \n",
       "3               5  \\\\192.168.10.106\\imdea\\DataDriven_UT_AlbertoVi...   \n",
       "4               6  \\\\192.168.10.106\\imdea\\DataDriven_UT_AlbertoVi...   \n",
       "\n",
       "   parent_measurement_id_measurement  measurementtype_id_measurement  \n",
       "0                                NaN                               3  \n",
       "1                                1.0                               3  \n",
       "2                                1.0                               3  \n",
       "3                                1.0                               3  \n",
       "4                                1.0                               3  "
      ]
     },
     "execution_count": 7,
     "metadata": {},
     "output_type": "execute_result"
    }
   ],
   "source": [
    "measurements = qrs.get_data('measurements')\n",
    "\n",
    "measurements.head(5)"
   ]
  },
  {
   "cell_type": "markdown",
   "metadata": {},
   "source": [
    "## Select UT measurement"
   ]
  },
  {
   "cell_type": "markdown",
   "metadata": {},
   "source": [
    "We have to get the id of the UT measurement to link the registration matrix to it"
   ]
  },
  {
   "cell_type": "code",
   "execution_count": 9,
   "metadata": {},
   "outputs": [
    {
     "data": {
      "text/plain": [
       "3"
      ]
     },
     "execution_count": 9,
     "metadata": {},
     "output_type": "execute_result"
    }
   ],
   "source": [
    "ut_file = Path(r'\\\\192.168.10.106\\imdea\\DataDriven_UT_AlbertoVicente\\03_UT_data\\Probetas JI\\probetas\\4\\4.tif')\n",
    "\n",
    "ut_id = measurements[measurements['file_path_measurement'] == str(ut_file)]['id_measurement'].values[0]\n",
    "\n",
    "ut_id = int(ut_id)\n",
    "\n",
    "ut_id "
   ]
  },
  {
   "cell_type": "markdown",
   "metadata": {},
   "source": [
    "## Select XCT measurement"
   ]
  },
  {
   "cell_type": "markdown",
   "metadata": {},
   "source": [
    "We have to get the id of the XCT measurement to link the registration matrix to it"
   ]
  },
  {
   "cell_type": "code",
   "execution_count": 16,
   "metadata": {},
   "outputs": [
    {
     "data": {
      "text/plain": [
       "41"
      ]
     },
     "execution_count": 16,
     "metadata": {},
     "output_type": "execute_result"
    }
   ],
   "source": [
    "xct_file = Path(r'\\\\192.168.10.106\\imdea\\DataDriven_UT_AlbertoVicente\\02_XCT_data\\Juan Ignacio\\probetas\\4\\frontal_90right.tif')\n",
    "\n",
    "xct_id = measurements[measurements['file_path_measurement'] == str(xct_file)]['id_measurement'].values[0]\n",
    "\n",
    "xct_id = int(xct_id)\n",
    "\n",
    "xct_id "
   ]
  },
  {
   "cell_type": "markdown",
   "metadata": {},
   "source": [
    "## Registration data"
   ]
  },
  {
   "cell_type": "markdown",
   "metadata": {},
   "source": [
    "Now we have to set the attributes of the registration:\n",
    "\n",
    "1. Main attributes\n",
    "\n",
    "    1. reference_measurement_id: Is the measurement used as reference in the registration\n",
    "\n",
    "    2. registered_measurement_id: The measurement registered to match reference\n",
    "\n",
    "    3. registration_matrix: The result of the registration\n",
    "    "
   ]
  },
  {
   "cell_type": "code",
   "execution_count": 17,
   "metadata": {},
   "outputs": [],
   "source": [
    "main_parameters = {'reference_measurement_id':ut_id,'registered_measurement_id':xct_id}\n",
    "\n",
    "registration_matrix = r'[[ 9.99924865e-01 -1.22582733e-02 -7.75030259e+02][ 1.22582733e-02  9.99924865e-01 -1.78468051e+02][ 0.00000000e+00  0.00000000e+00  1.00000000e+00]]'\n",
    "\n",
    "main_parameters['registration_matrix'] = registration_matrix\n"
   ]
  },
  {
   "cell_type": "markdown",
   "metadata": {},
   "source": [
    "## Load into the table"
   ]
  },
  {
   "cell_type": "code",
   "execution_count": 18,
   "metadata": {},
   "outputs": [
    {
     "name": "stdout",
     "output_type": "stream",
     "text": [
      "Parameters to be inserted: \n",
      "-    reference_measurement_id: 3\n",
      "-    registered_measurement_id: 41\n",
      "-    registration_matrix: [[ 9.99924865e-01 -1.22582733e-02 -7.75030259e+02][ 1.22582733e-02  9.99924865e-01 -1.78468051e+02][ 0.00000000e+00  0.00000000e+00  1.00000000e+00]]\n"
     ]
    }
   ],
   "source": [
    "print('Parameters to be inserted: ')\n",
    "for key, value in main_parameters.items():\n",
    "    print(f\"-    {key}: {value}\")"
   ]
  },
  {
   "cell_type": "code",
   "execution_count": 19,
   "metadata": {},
   "outputs": [
    {
     "name": "stdout",
     "output_type": "stream",
     "text": [
      "INSERT INTO measurement_registrations (reference_measurement_id, registered_measurement_id, registration_matrix) VALUES ('3', '41', '[[ 9.99924865e-01 -1.22582733e-02 -7.75030259e+02][ 1.22582733e-02  9.99924865e-01 -1.78468051e+02][ 0.00000000e+00  0.00000000e+00  1.00000000e+00]]')\n"
     ]
    }
   ],
   "source": [
    "table_name = 'measurement_registrations'\n",
    "\n",
    "# Extract column names and values from the attributes dictionary\n",
    "columns = ', '.join(main_parameters.keys())\n",
    "values = ', '.join([f\"'{v}'\" for v in main_parameters.values()])\n",
    "\n",
    "# Construct the SQL INSERT statement\n",
    "sql = f\"INSERT INTO {table_name} ({columns}) VALUES ({values})\"\n",
    "\n",
    "print(sql)\n",
    "\n",
    "# Create a cursor object using the cursor() method\n",
    "cursor = conn.cursor()\n",
    "\n",
    "# Execute the SQL statement\n",
    "cursor.execute(sql)\n",
    "\n",
    "cursor.execute('COMMIT')\n",
    "\n",
    "cursor.close()"
   ]
  },
  {
   "cell_type": "markdown",
   "metadata": {},
   "source": [
    "## Make sure insert was correct"
   ]
  },
  {
   "cell_type": "code",
   "execution_count": null,
   "metadata": {},
   "outputs": [
    {
     "data": {
      "text/html": [
       "<div>\n",
       "<style scoped>\n",
       "    .dataframe tbody tr th:only-of-type {\n",
       "        vertical-align: middle;\n",
       "    }\n",
       "\n",
       "    .dataframe tbody tr th {\n",
       "        vertical-align: top;\n",
       "    }\n",
       "\n",
       "    .dataframe thead th {\n",
       "        text-align: right;\n",
       "    }\n",
       "</style>\n",
       "<table border=\"1\" class=\"dataframe\">\n",
       "  <thead>\n",
       "    <tr style=\"text-align: right;\">\n",
       "      <th></th>\n",
       "      <th>id_measurement_registration</th>\n",
       "      <th>reference_measurement_id_measurement_registration</th>\n",
       "      <th>registered_measurement_id_measurement_registration</th>\n",
       "      <th>registration_matrix_measurement_registration</th>\n",
       "    </tr>\n",
       "  </thead>\n",
       "  <tbody>\n",
       "    <tr>\n",
       "      <th>0</th>\n",
       "      <td>1</td>\n",
       "      <td>3</td>\n",
       "      <td>41</td>\n",
       "      <td>[[ 9.99924865e-01 -1.22582733e-02 -7.75030259e...</td>\n",
       "    </tr>\n",
       "  </tbody>\n",
       "</table>\n",
       "</div>"
      ],
      "text/plain": [
       "   id_measurement_registration  \\\n",
       "0                            1   \n",
       "\n",
       "   reference_measurement_id_measurement_registration  \\\n",
       "0                                                  3   \n",
       "\n",
       "   registered_measurement_id_measurement_registration  \\\n",
       "0                                                 41    \n",
       "\n",
       "        registration_matrix_measurement_registration  \n",
       "0  [[ 9.99924865e-01 -1.22582733e-02 -7.75030259e...  "
      ]
     },
     "execution_count": 20,
     "metadata": {},
     "output_type": "execute_result"
    }
   ],
   "source": [
    "data = qrs.get_data(table_name)\n",
    "\n",
    "data"
   ]
  }
 ],
 "metadata": {
  "kernelspec": {
   "display_name": "Python 3",
   "language": "python",
   "name": "python3"
  },
  "language_info": {
   "codemirror_mode": {
    "name": "ipython",
    "version": 3
   },
   "file_extension": ".py",
   "mimetype": "text/x-python",
   "name": "python",
   "nbconvert_exporter": "python",
   "pygments_lexer": "ipython3",
   "version": "3.13.2"
  }
 },
 "nbformat": 4,
 "nbformat_minor": 2
}
