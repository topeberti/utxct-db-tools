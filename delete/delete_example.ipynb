{
 "cells": [
  {
   "cell_type": "markdown",
   "id": "e8d73a41",
   "metadata": {},
   "source": [
    "# Delete"
   ]
  },
  {
   "cell_type": "markdown",
   "id": "9bf5b472",
   "metadata": {},
   "source": [
    "We are going to see how to delete one or multiple rows of a table based on some filtering criteria"
   ]
  },
  {
   "cell_type": "markdown",
   "id": "95854c41",
   "metadata": {},
   "source": [
    "## Imports"
   ]
  },
  {
   "cell_type": "code",
   "execution_count": null,
   "id": "92c2205e",
   "metadata": {},
   "outputs": [],
   "source": [
    "import psycopg2\n",
    "import numpy as np\n",
    "#import a folder in the parent directory\n",
    "import sys\n",
    "sys.path.append('../')\n",
    "import dbtools.dbtools as qrs\n",
    "from pathlib import Path\n",
    "import tifffile as tiff"
   ]
  },
  {
   "cell_type": "markdown",
   "id": "7b3b477a",
   "metadata": {},
   "source": [
    "## Connection"
   ]
  },
  {
   "cell_type": "code",
   "execution_count": null,
   "id": "6afbe3b1",
   "metadata": {},
   "outputs": [],
   "source": [
    "try:\n",
    "    # Connect to the PostgreSQL database\n",
    "    conn = qrs.connect()\n",
    "    print(\"Connected to the database\")\n",
    "\n",
    "except (Exception, psycopg2.DatabaseError) as error:\n",
    "    print(error)"
   ]
  },
  {
   "cell_type": "markdown",
   "id": "5fb1b10a",
   "metadata": {},
   "source": [
    "## Loading the table from where we want to delete to check"
   ]
  },
  {
   "cell_type": "code",
   "execution_count": null,
   "id": "0a6b6317",
   "metadata": {},
   "outputs": [],
   "source": [
    "table_name = 'measurements'\n",
    "\n",
    "data = qrs.get_data_metadata(table_name)\n",
    "\n",
    "data"
   ]
  },
  {
   "cell_type": "markdown",
   "id": "a69c8e96",
   "metadata": {},
   "source": [
    "## Filtering to decide what to delete"
   ]
  },
  {
   "cell_type": "markdown",
   "id": "c8780b36",
   "metadata": {},
   "source": [
    "We want to delete all the measurements with the metadata key signal_type_measurement as amplitude."
   ]
  },
  {
   "cell_type": "code",
   "execution_count": null,
   "id": "770708cd",
   "metadata": {},
   "outputs": [],
   "source": [
    "filtered_data = data[data['aligned_measurement']]\n",
    "\n",
    "filtered_data"
   ]
  },
  {
   "cell_type": "markdown",
   "id": "b2d9e8b0",
   "metadata": {},
   "source": [
    "## Deleting query"
   ]
  },
  {
   "cell_type": "markdown",
   "id": "f895e1c0",
   "metadata": {},
   "source": [
    "Now that we have only the rows that meet our deleting conditions, we can delete the measurements and their metadata with their ids"
   ]
  },
  {
   "cell_type": "code",
   "execution_count": null,
   "id": "7f94bcec",
   "metadata": {},
   "outputs": [],
   "source": [
    "indexes = filtered_data['id_measurement'].values.tolist() #get the indexes to delete\n",
    "\n",
    "# Convert indexes to a tuple for SQL query\n",
    "if len(indexes) == 0:\n",
    "    print(\"No indexes to delete.\")\n",
    "elif len(indexes) == 1:\n",
    "    indexes = tuple((indexes[0],indexes[0]))  # Ensure tuple format for single index\n",
    "else:\n",
    "    indexes = tuple(indexes)\n",
    "\n",
    "\n",
    "sql = f'delete from {table_name} where {table_name}.id in {indexes}'\n",
    "print(sql)\n",
    "\n",
    "# Add RESTART IDENTITY command\n",
    "reset_sql = f'ALTER TABLE {table_name} RESTART IDENTITY'\n",
    "print(f\"Reset identity SQL: {reset_sql}\")"
   ]
  },
  {
   "cell_type": "code",
   "execution_count": null,
   "id": "1ba984e4",
   "metadata": {},
   "outputs": [],
   "source": [
    "# Create a cursor object using the cursor() method\n",
    "cursor = conn.cursor()\n",
    "\n",
    "# Execute the SQL statement\n",
    "cursor.execute(sql)\n",
    "\n",
    "cursor.execute('COMMIT')\n",
    "\n",
    "cursor.close()"
   ]
  },
  {
   "cell_type": "markdown",
   "id": "283e3d91",
   "metadata": {},
   "source": [
    "## Check"
   ]
  },
  {
   "cell_type": "markdown",
   "id": "ab10e406",
   "metadata": {},
   "source": [
    "If you execute the whole code again and the filtered table is empty, the delete whas succesfull."
   ]
  }
 ],
 "metadata": {
  "kernelspec": {
   "display_name": "sql",
   "language": "python",
   "name": "python3"
  },
  "language_info": {
   "codemirror_mode": {
    "name": "ipython",
    "version": 3
   },
   "file_extension": ".py",
   "mimetype": "text/x-python",
   "name": "python",
   "nbconvert_exporter": "python",
   "pygments_lexer": "ipython3",
   "version": "3.13.2"
  }
 },
 "nbformat": 4,
 "nbformat_minor": 5
}
