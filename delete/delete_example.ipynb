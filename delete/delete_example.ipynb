{
 "cells": [
  {
   "cell_type": "markdown",
   "id": "e8d73a41",
   "metadata": {},
   "source": [
    "# Delete"
   ]
  },
  {
   "cell_type": "markdown",
   "id": "9bf5b472",
   "metadata": {},
   "source": [
    "We are going to see how to delete one or multiple rows of a table based on some filtering criteria"
   ]
  },
  {
   "cell_type": "markdown",
   "id": "95854c41",
   "metadata": {},
   "source": [
    "## Imports"
   ]
  },
  {
   "cell_type": "code",
   "execution_count": 1,
   "id": "92c2205e",
   "metadata": {},
   "outputs": [],
   "source": [
    "import psycopg2\n",
    "import numpy as np\n",
    "#import a folder in the parent directory\n",
    "import sys\n",
    "sys.path.append('../')\n",
    "import queries.queries as qrs\n",
    "from pathlib import Path\n",
    "import tifffile as tiff"
   ]
  },
  {
   "cell_type": "markdown",
   "id": "7b3b477a",
   "metadata": {},
   "source": [
    "## Connection"
   ]
  },
  {
   "cell_type": "code",
   "execution_count": null,
   "id": "6afbe3b1",
   "metadata": {},
   "outputs": [
    {
     "name": "stdout",
     "output_type": "stream",
     "text": [
      "Connected to the database\n"
     ]
    }
   ],
   "source": [
    "try:\n",
    "    # Connect to the PostgreSQL database\n",
    "    conn = qrs.connect()\n",
    "    print(\"Connected to the database\")\n",
    "\n",
    "except (Exception, psycopg2.DatabaseError) as error:\n",
    "    print(error)"
   ]
  },
  {
   "cell_type": "markdown",
   "id": "5fb1b10a",
   "metadata": {},
   "source": [
    "## Loading the table from where we want to delete to check"
   ]
  },
  {
   "cell_type": "code",
   "execution_count": null,
   "id": "0a6b6317",
   "metadata": {},
   "outputs": [
    {
     "data": {
      "text/html": [
       "<div>\n",
       "<style scoped>\n",
       "    .dataframe tbody tr th:only-of-type {\n",
       "        vertical-align: middle;\n",
       "    }\n",
       "\n",
       "    .dataframe tbody tr th {\n",
       "        vertical-align: top;\n",
       "    }\n",
       "\n",
       "    .dataframe thead th {\n",
       "        text-align: right;\n",
       "    }\n",
       "</style>\n",
       "<table border=\"1\" class=\"dataframe\">\n",
       "  <thead>\n",
       "    <tr style=\"text-align: right;\">\n",
       "      <th></th>\n",
       "      <th>id_measurement_registration</th>\n",
       "      <th>reference_measurement_id_measurement_registration</th>\n",
       "      <th>registered_measurement_id_measurement_registration</th>\n",
       "      <th>registration_matrix_measurement_registration</th>\n",
       "      <th>description_measurement_registration</th>\n",
       "    </tr>\n",
       "  </thead>\n",
       "  <tbody>\n",
       "    <tr>\n",
       "      <th>0</th>\n",
       "      <td>9</td>\n",
       "      <td>3</td>\n",
       "      <td>41</td>\n",
       "      <td>[[ 9.99924865e-01 -1.22582733e-02 -7.75030259e...</td>\n",
       "      <td>2024 registration methodology.</td>\n",
       "    </tr>\n",
       "    <tr>\n",
       "      <th>1</th>\n",
       "      <td>10</td>\n",
       "      <td>4</td>\n",
       "      <td>40</td>\n",
       "      <td>[[ 9.99942355e-01 -1.07371711e-02 -8.56068249e...</td>\n",
       "      <td>2024 registration methodology.</td>\n",
       "    </tr>\n",
       "    <tr>\n",
       "      <th>2</th>\n",
       "      <td>11</td>\n",
       "      <td>5</td>\n",
       "      <td>39</td>\n",
       "      <td>[[ 9.99929001e-01  1.19160759e-02 -7.57121417e...</td>\n",
       "      <td>2024 registration methodology.</td>\n",
       "    </tr>\n",
       "    <tr>\n",
       "      <th>3</th>\n",
       "      <td>12</td>\n",
       "      <td>6</td>\n",
       "      <td>38</td>\n",
       "      <td>[[ 9.99614862e-01  2.77511853e-02 -8.27453911e...</td>\n",
       "      <td>2024 registration methodology.</td>\n",
       "    </tr>\n",
       "    <tr>\n",
       "      <th>4</th>\n",
       "      <td>13</td>\n",
       "      <td>9</td>\n",
       "      <td>36</td>\n",
       "      <td>[[ 9.99999836e-01  5.71918694e-04 -7.07222883e...</td>\n",
       "      <td>2024 registration methodology.</td>\n",
       "    </tr>\n",
       "    <tr>\n",
       "      <th>5</th>\n",
       "      <td>14</td>\n",
       "      <td>10</td>\n",
       "      <td>35</td>\n",
       "      <td>[[ 9.99834752e-01 -1.81788137e-02 -7.13246333e...</td>\n",
       "      <td>2024 registration methodology.</td>\n",
       "    </tr>\n",
       "    <tr>\n",
       "      <th>6</th>\n",
       "      <td>15</td>\n",
       "      <td>11</td>\n",
       "      <td>34</td>\n",
       "      <td>[[ 9.99988993e-01 -4.69184701e-03 -7.42069850e...</td>\n",
       "      <td>2024 registration methodology.</td>\n",
       "    </tr>\n",
       "    <tr>\n",
       "      <th>7</th>\n",
       "      <td>18</td>\n",
       "      <td>44</td>\n",
       "      <td>41</td>\n",
       "      <td>[[ 9.99623910e-01  2.74233108e-02 -8.92350769e...</td>\n",
       "      <td>2024 registration methodology.</td>\n",
       "    </tr>\n",
       "    <tr>\n",
       "      <th>8</th>\n",
       "      <td>19</td>\n",
       "      <td>45</td>\n",
       "      <td>40</td>\n",
       "      <td>[[ 9.99686528e-01 -2.50368719e-02 -1.01711073e...</td>\n",
       "      <td>2024 registration methodology.</td>\n",
       "    </tr>\n",
       "    <tr>\n",
       "      <th>9</th>\n",
       "      <td>20</td>\n",
       "      <td>46</td>\n",
       "      <td>39</td>\n",
       "      <td>[[ 9.99487522e-01 -3.20108440e-02 -9.00707007e...</td>\n",
       "      <td>2024 registration methodology.</td>\n",
       "    </tr>\n",
       "    <tr>\n",
       "      <th>10</th>\n",
       "      <td>21</td>\n",
       "      <td>47</td>\n",
       "      <td>38</td>\n",
       "      <td>[[ 9.99135573e-01 -4.15705064e-02 -8.75997572e...</td>\n",
       "      <td>2024 registration methodology.</td>\n",
       "    </tr>\n",
       "    <tr>\n",
       "      <th>11</th>\n",
       "      <td>22</td>\n",
       "      <td>48</td>\n",
       "      <td>36</td>\n",
       "      <td>[[ 9.99780382e-01 -2.09568275e-02 -9.91982434e...</td>\n",
       "      <td>2024 registration methodology.</td>\n",
       "    </tr>\n",
       "    <tr>\n",
       "      <th>12</th>\n",
       "      <td>23</td>\n",
       "      <td>49</td>\n",
       "      <td>35</td>\n",
       "      <td>[[ 9.99834752e-01 -1.81788137e-02 -8.73947045e...</td>\n",
       "      <td>2024 registration methodology.</td>\n",
       "    </tr>\n",
       "    <tr>\n",
       "      <th>13</th>\n",
       "      <td>24</td>\n",
       "      <td>50</td>\n",
       "      <td>34</td>\n",
       "      <td>[[ 9.99977100e-01  6.76748924e-03 -6.46075707e...</td>\n",
       "      <td>2024 registration methodology.</td>\n",
       "    </tr>\n",
       "  </tbody>\n",
       "</table>\n",
       "</div>"
      ],
      "text/plain": [
       "    id_measurement_registration  \\\n",
       "0                             9   \n",
       "1                            10   \n",
       "2                            11   \n",
       "3                            12   \n",
       "4                            13   \n",
       "5                            14   \n",
       "6                            15   \n",
       "7                            18   \n",
       "8                            19   \n",
       "9                            20   \n",
       "10                           21   \n",
       "11                           22   \n",
       "12                           23   \n",
       "13                           24   \n",
       "\n",
       "    reference_measurement_id_measurement_registration  \\\n",
       "0                                                   3   \n",
       "1                                                   4   \n",
       "2                                                   5   \n",
       "3                                                   6   \n",
       "4                                                   9   \n",
       "5                                                  10   \n",
       "6                                                  11   \n",
       "7                                                  44   \n",
       "8                                                  45   \n",
       "9                                                  46   \n",
       "10                                                 47   \n",
       "11                                                 48   \n",
       "12                                                 49   \n",
       "13                                                 50   \n",
       "\n",
       "    registered_measurement_id_measurement_registration  \\\n",
       "0                                                  41    \n",
       "1                                                  40    \n",
       "2                                                  39    \n",
       "3                                                  38    \n",
       "4                                                  36    \n",
       "5                                                  35    \n",
       "6                                                  34    \n",
       "7                                                  41    \n",
       "8                                                  40    \n",
       "9                                                  39    \n",
       "10                                                 38    \n",
       "11                                                 36    \n",
       "12                                                 35    \n",
       "13                                                 34    \n",
       "\n",
       "         registration_matrix_measurement_registration  \\\n",
       "0   [[ 9.99924865e-01 -1.22582733e-02 -7.75030259e...   \n",
       "1   [[ 9.99942355e-01 -1.07371711e-02 -8.56068249e...   \n",
       "2   [[ 9.99929001e-01  1.19160759e-02 -7.57121417e...   \n",
       "3   [[ 9.99614862e-01  2.77511853e-02 -8.27453911e...   \n",
       "4   [[ 9.99999836e-01  5.71918694e-04 -7.07222883e...   \n",
       "5   [[ 9.99834752e-01 -1.81788137e-02 -7.13246333e...   \n",
       "6   [[ 9.99988993e-01 -4.69184701e-03 -7.42069850e...   \n",
       "7   [[ 9.99623910e-01  2.74233108e-02 -8.92350769e...   \n",
       "8   [[ 9.99686528e-01 -2.50368719e-02 -1.01711073e...   \n",
       "9   [[ 9.99487522e-01 -3.20108440e-02 -9.00707007e...   \n",
       "10  [[ 9.99135573e-01 -4.15705064e-02 -8.75997572e...   \n",
       "11  [[ 9.99780382e-01 -2.09568275e-02 -9.91982434e...   \n",
       "12  [[ 9.99834752e-01 -1.81788137e-02 -8.73947045e...   \n",
       "13  [[ 9.99977100e-01  6.76748924e-03 -6.46075707e...   \n",
       "\n",
       "   description_measurement_registration  \n",
       "0        2024 registration methodology.  \n",
       "1        2024 registration methodology.  \n",
       "2        2024 registration methodology.  \n",
       "3        2024 registration methodology.  \n",
       "4        2024 registration methodology.  \n",
       "5        2024 registration methodology.  \n",
       "6        2024 registration methodology.  \n",
       "7        2024 registration methodology.  \n",
       "8        2024 registration methodology.  \n",
       "9        2024 registration methodology.  \n",
       "10       2024 registration methodology.  \n",
       "11       2024 registration methodology.  \n",
       "12       2024 registration methodology.  \n",
       "13       2024 registration methodology.  "
      ]
     },
     "execution_count": 9,
     "metadata": {},
     "output_type": "execute_result"
    }
   ],
   "source": [
    "table_name = 'measurement_registrations'\n",
    "\n",
    "data = qrs.get_data(table_name)\n",
    "\n",
    "data"
   ]
  },
  {
   "cell_type": "markdown",
   "id": "a69c8e96",
   "metadata": {},
   "source": [
    "## Filtering to decide what to delte"
   ]
  },
  {
   "cell_type": "markdown",
   "id": "c8780b36",
   "metadata": {},
   "source": [
    "We want to delete all the measurements with the metadata key signal_type_measurement as amplitude."
   ]
  },
  {
   "cell_type": "code",
   "execution_count": 5,
   "id": "770708cd",
   "metadata": {},
   "outputs": [
    {
     "data": {
      "text/html": [
       "<div>\n",
       "<style scoped>\n",
       "    .dataframe tbody tr th:only-of-type {\n",
       "        vertical-align: middle;\n",
       "    }\n",
       "\n",
       "    .dataframe tbody tr th {\n",
       "        vertical-align: top;\n",
       "    }\n",
       "\n",
       "    .dataframe thead th {\n",
       "        text-align: right;\n",
       "    }\n",
       "</style>\n",
       "<table border=\"1\" class=\"dataframe\">\n",
       "  <thead>\n",
       "    <tr style=\"text-align: right;\">\n",
       "      <th></th>\n",
       "      <th>id_measurement_registration</th>\n",
       "      <th>reference_measurement_id_measurement_registration</th>\n",
       "      <th>registered_measurement_id_measurement_registration</th>\n",
       "      <th>registration_matrix_measurement_registration</th>\n",
       "      <th>description_measurement_registration</th>\n",
       "    </tr>\n",
       "  </thead>\n",
       "  <tbody>\n",
       "    <tr>\n",
       "      <th>7</th>\n",
       "      <td>16</td>\n",
       "      <td>44</td>\n",
       "      <td>41</td>\n",
       "      <td>[[ 9.99623910e-01  2.74233108e-02 -8.92350769e...</td>\n",
       "      <td>None</td>\n",
       "    </tr>\n",
       "    <tr>\n",
       "      <th>8</th>\n",
       "      <td>17</td>\n",
       "      <td>45</td>\n",
       "      <td>40</td>\n",
       "      <td>[[ 9.99686528e-01 -2.50368719e-02 -1.01711073e...</td>\n",
       "      <td>None</td>\n",
       "    </tr>\n",
       "  </tbody>\n",
       "</table>\n",
       "</div>"
      ],
      "text/plain": [
       "   id_measurement_registration  \\\n",
       "7                           16   \n",
       "8                           17   \n",
       "\n",
       "   reference_measurement_id_measurement_registration  \\\n",
       "7                                                 44   \n",
       "8                                                 45   \n",
       "\n",
       "   registered_measurement_id_measurement_registration  \\\n",
       "7                                                 41    \n",
       "8                                                 40    \n",
       "\n",
       "        registration_matrix_measurement_registration  \\\n",
       "7  [[ 9.99623910e-01  2.74233108e-02 -8.92350769e...   \n",
       "8  [[ 9.99686528e-01 -2.50368719e-02 -1.01711073e...   \n",
       "\n",
       "  description_measurement_registration  \n",
       "7                                 None  \n",
       "8                                 None  "
      ]
     },
     "execution_count": 5,
     "metadata": {},
     "output_type": "execute_result"
    }
   ],
   "source": [
    "filtered_data = data[data['id_measurement_registration']>15]\n",
    "\n",
    "filtered_data"
   ]
  },
  {
   "cell_type": "markdown",
   "id": "b2d9e8b0",
   "metadata": {},
   "source": [
    "## Deleting query"
   ]
  },
  {
   "cell_type": "markdown",
   "id": "f895e1c0",
   "metadata": {},
   "source": [
    "Now that we have only the rows that meet our deleting conditions, we can delete the measurements and their metadata with their ids"
   ]
  },
  {
   "cell_type": "code",
   "execution_count": 7,
   "id": "7f94bcec",
   "metadata": {},
   "outputs": [
    {
     "name": "stdout",
     "output_type": "stream",
     "text": [
      "delete from measurement_registrations where measurement_registrations.id in (16, 17)\n"
     ]
    }
   ],
   "source": [
    "indexes = filtered_data['id_measurement_registration'].values.tolist() #get the indexes to delete\n",
    "\n",
    "sql = f'delete from {table_name} where {table_name}.id in {tuple(indexes)}'\n",
    "\n",
    "print(sql)"
   ]
  },
  {
   "cell_type": "code",
   "execution_count": 8,
   "id": "1ba984e4",
   "metadata": {},
   "outputs": [],
   "source": [
    "# Create a cursor object using the cursor() method\n",
    "cursor = conn.cursor()\n",
    "\n",
    "# Execute the SQL statement\n",
    "cursor.execute(sql)\n",
    "\n",
    "cursor.execute('COMMIT')\n",
    "\n",
    "cursor.close()"
   ]
  },
  {
   "cell_type": "markdown",
   "id": "283e3d91",
   "metadata": {},
   "source": [
    "## Check"
   ]
  },
  {
   "cell_type": "markdown",
   "id": "ab10e406",
   "metadata": {},
   "source": [
    "If you execute the whole code again and the filtered table is empty, the delete whas succesfull."
   ]
  }
 ],
 "metadata": {
  "kernelspec": {
   "display_name": "Python 3",
   "language": "python",
   "name": "python3"
  },
  "language_info": {
   "codemirror_mode": {
    "name": "ipython",
    "version": 3
   },
   "file_extension": ".py",
   "mimetype": "text/x-python",
   "name": "python",
   "nbconvert_exporter": "python",
   "pygments_lexer": "ipython3",
   "version": "3.13.2"
  }
 },
 "nbformat": 4,
 "nbformat_minor": 5
}
