{
 "cells": [
  {
   "cell_type": "markdown",
   "id": "e8d73a41",
   "metadata": {},
   "source": [
    "# Delete"
   ]
  },
  {
   "cell_type": "markdown",
   "id": "9bf5b472",
   "metadata": {},
   "source": [
    "We are going to see how to delete one or multiple rows of a table based on some filtering criteria"
   ]
  },
  {
   "cell_type": "markdown",
   "id": "95854c41",
   "metadata": {},
   "source": [
    "## Imports"
   ]
  },
  {
   "cell_type": "code",
   "execution_count": 1,
   "id": "92c2205e",
   "metadata": {},
   "outputs": [],
   "source": [
    "import psycopg2\n",
    "import numpy as np\n",
    "#import a folder in the parent directory\n",
    "import sys\n",
    "sys.path.append('../')\n",
    "import dbtools.dbtools as qrs\n",
    "import dbtools.delete as delete\n",
    "from pathlib import Path\n",
    "import tifffile as tiff"
   ]
  },
  {
   "cell_type": "markdown",
   "id": "7b3b477a",
   "metadata": {},
   "source": [
    "## Connection"
   ]
  },
  {
   "cell_type": "code",
   "execution_count": 2,
   "id": "6afbe3b1",
   "metadata": {},
   "outputs": [
    {
     "name": "stdout",
     "output_type": "stream",
     "text": [
      "Connected to the database\n"
     ]
    }
   ],
   "source": [
    "try:\n",
    "    # Connect to the PostgreSQL database\n",
    "    conn = qrs.connect()\n",
    "    print(\"Connected to the database\")\n",
    "\n",
    "except (Exception, psycopg2.DatabaseError) as error:\n",
    "    print(error)"
   ]
  },
  {
   "cell_type": "markdown",
   "id": "5fb1b10a",
   "metadata": {},
   "source": [
    "## Loading the table from where we want to delete to check"
   ]
  },
  {
   "cell_type": "code",
   "execution_count": 3,
   "id": "0a6b6317",
   "metadata": {},
   "outputs": [
    {
     "data": {
      "text/html": [
       "<div>\n",
       "<style scoped>\n",
       "    .dataframe tbody tr th:only-of-type {\n",
       "        vertical-align: middle;\n",
       "    }\n",
       "\n",
       "    .dataframe tbody tr th {\n",
       "        vertical-align: top;\n",
       "    }\n",
       "\n",
       "    .dataframe thead th {\n",
       "        text-align: right;\n",
       "    }\n",
       "</style>\n",
       "<table border=\"1\" class=\"dataframe\">\n",
       "  <thead>\n",
       "    <tr style=\"text-align: right;\">\n",
       "      <th></th>\n",
       "      <th>id_material</th>\n",
       "      <th>name_material</th>\n",
       "      <th>layer_thickness_material</th>\n",
       "      <th>density_material</th>\n",
       "      <th>color_material</th>\n",
       "      <th>temperature_resistance_material</th>\n",
       "    </tr>\n",
       "  </thead>\n",
       "  <tbody>\n",
       "    <tr>\n",
       "      <th>0</th>\n",
       "      <td>15</td>\n",
       "      <td>Fibra IM7 Resina M56</td>\n",
       "      <td>0.25 float</td>\n",
       "      <td>NaN</td>\n",
       "      <td>NaN</td>\n",
       "      <td>NaN</td>\n",
       "    </tr>\n",
       "    <tr>\n",
       "      <th>1</th>\n",
       "      <td>16</td>\n",
       "      <td>Material Hexcel 0.508 CPT</td>\n",
       "      <td>0.508 float</td>\n",
       "      <td>NaN</td>\n",
       "      <td>NaN</td>\n",
       "      <td>NaN</td>\n",
       "    </tr>\n",
       "    <tr>\n",
       "      <th>2</th>\n",
       "      <td>19</td>\n",
       "      <td>Prueba 6</td>\n",
       "      <td>0.1 float</td>\n",
       "      <td>1.5 g/cm3</td>\n",
       "      <td>blue string</td>\n",
       "      <td>250 celsius</td>\n",
       "    </tr>\n",
       "  </tbody>\n",
       "</table>\n",
       "</div>"
      ],
      "text/plain": [
       "   id_material              name_material layer_thickness_material  \\\n",
       "0           15       Fibra IM7 Resina M56               0.25 float   \n",
       "1           16  Material Hexcel 0.508 CPT              0.508 float   \n",
       "2           19                   Prueba 6                0.1 float   \n",
       "\n",
       "  density_material color_material temperature_resistance_material  \n",
       "0              NaN            NaN                             NaN  \n",
       "1              NaN            NaN                             NaN  \n",
       "2        1.5 g/cm3    blue string                     250 celsius  "
      ]
     },
     "execution_count": 3,
     "metadata": {},
     "output_type": "execute_result"
    }
   ],
   "source": [
    "table_name = 'materials'\n",
    "\n",
    "data = qrs.get_data_metadata(table_name)\n",
    "\n",
    "data"
   ]
  },
  {
   "cell_type": "markdown",
   "id": "a69c8e96",
   "metadata": {},
   "source": [
    "## Filtering to decide what to delete"
   ]
  },
  {
   "cell_type": "markdown",
   "id": "c8780b36",
   "metadata": {},
   "source": [
    "We want to delete all the measurements with the metadata key signal_type_measurement as amplitude."
   ]
  },
  {
   "cell_type": "code",
   "execution_count": 4,
   "id": "770708cd",
   "metadata": {},
   "outputs": [
    {
     "data": {
      "text/html": [
       "<div>\n",
       "<style scoped>\n",
       "    .dataframe tbody tr th:only-of-type {\n",
       "        vertical-align: middle;\n",
       "    }\n",
       "\n",
       "    .dataframe tbody tr th {\n",
       "        vertical-align: top;\n",
       "    }\n",
       "\n",
       "    .dataframe thead th {\n",
       "        text-align: right;\n",
       "    }\n",
       "</style>\n",
       "<table border=\"1\" class=\"dataframe\">\n",
       "  <thead>\n",
       "    <tr style=\"text-align: right;\">\n",
       "      <th></th>\n",
       "      <th>id_material</th>\n",
       "      <th>name_material</th>\n",
       "      <th>layer_thickness_material</th>\n",
       "      <th>density_material</th>\n",
       "      <th>color_material</th>\n",
       "      <th>temperature_resistance_material</th>\n",
       "    </tr>\n",
       "  </thead>\n",
       "  <tbody>\n",
       "    <tr>\n",
       "      <th>2</th>\n",
       "      <td>19</td>\n",
       "      <td>Prueba 6</td>\n",
       "      <td>0.1 float</td>\n",
       "      <td>1.5 g/cm3</td>\n",
       "      <td>blue string</td>\n",
       "      <td>250 celsius</td>\n",
       "    </tr>\n",
       "  </tbody>\n",
       "</table>\n",
       "</div>"
      ],
      "text/plain": [
       "   id_material name_material layer_thickness_material density_material  \\\n",
       "2           19      Prueba 6                0.1 float        1.5 g/cm3   \n",
       "\n",
       "  color_material temperature_resistance_material  \n",
       "2    blue string                     250 celsius  "
      ]
     },
     "execution_count": 4,
     "metadata": {},
     "output_type": "execute_result"
    }
   ],
   "source": [
    "filtered_data = data[data['name_material']== 'Prueba 6']\n",
    "\n",
    "filtered_data"
   ]
  },
  {
   "cell_type": "markdown",
   "id": "b2d9e8b0",
   "metadata": {},
   "source": [
    "## Deleting"
   ]
  },
  {
   "cell_type": "code",
   "execution_count": 5,
   "id": "33a102a8",
   "metadata": {},
   "outputs": [
    {
     "name": "stdout",
     "output_type": "stream",
     "text": [
      "Deleted 1 rows from materials where id is in [19]\n"
     ]
    }
   ],
   "source": [
    "delete.delete(conn, table_name, filtered_data['id_material'].values)"
   ]
  }
 ],
 "metadata": {
  "kernelspec": {
   "display_name": "sql",
   "language": "python",
   "name": "python3"
  },
  "language_info": {
   "codemirror_mode": {
    "name": "ipython",
    "version": 3
   },
   "file_extension": ".py",
   "mimetype": "text/x-python",
   "name": "python",
   "nbconvert_exporter": "python",
   "pygments_lexer": "ipython3",
   "version": "3.13.2"
  }
 },
 "nbformat": 4,
 "nbformat_minor": 5
}
