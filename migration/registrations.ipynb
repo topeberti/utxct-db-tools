{
 "cells": [
  {
   "cell_type": "markdown",
   "metadata": {},
   "source": [
    "# Migration from the csv database to sql of the registration matrixes"
   ]
  },
  {
   "cell_type": "markdown",
   "metadata": {},
   "source": [
    "We are going to load the csv database, and load its information into the sql database automatically."
   ]
  },
  {
   "cell_type": "markdown",
   "metadata": {},
   "source": [
    "## Imports"
   ]
  },
  {
   "cell_type": "code",
   "execution_count": null,
   "metadata": {},
   "outputs": [],
   "source": [
    "import psycopg2\n",
    "import numpy as np\n",
    "#import a folder in the parent directory\n",
    "import sys\n",
    "sys.path.append('../')\n",
    "import queries.queries as qrs\n",
    "from pathlib import Path\n",
    "import tifffile as tiff\n",
    "import pandas as pd\n",
    "from tqdm import tqdm"
   ]
  },
  {
   "cell_type": "markdown",
   "metadata": {},
   "source": [
    "## Connection"
   ]
  },
  {
   "cell_type": "code",
   "execution_count": null,
   "metadata": {},
   "outputs": [],
   "source": [
    "try:\n",
    "    # Connect to the PostgreSQL database\n",
    "    conn = qrs.connect()\n",
    "    print(\"Connected to the database\")\n",
    "\n",
    "except (Exception, psycopg2.DatabaseError) as error:\n",
    "    print(error)"
   ]
  },
  {
   "cell_type": "markdown",
   "metadata": {},
   "source": [
    "## load the csv database"
   ]
  },
  {
   "cell_type": "code",
   "execution_count": null,
   "metadata": {},
   "outputs": [],
   "source": [
    "df = pd.read_csv(r'\\\\192.168.10.106\\imdea\\DataDriven_UT_AlbertoVicente\\11_database\\Database.csv')\n",
    "\n",
    "df = df.replace({np.nan: None})\n",
    "\n",
    "#get only the rows where 'Id' contains JI\n",
    "df = df[df['Id'].str.contains('JI')]\n",
    "\n",
    "df.head(5)"
   ]
  },
  {
   "cell_type": "markdown",
   "metadata": {},
   "source": [
    "## Migrate"
   ]
  },
  {
   "cell_type": "markdown",
   "metadata": {},
   "source": [
    "Now we just have to iterate the dataframe, retrieve the data and load it into the database"
   ]
  },
  {
   "cell_type": "markdown",
   "metadata": {},
   "source": [
    "### Load needed tables"
   ]
  },
  {
   "cell_type": "markdown",
   "metadata": {},
   "source": [
    "Some tables of the database have to be loaded to get some index info to load the registrations, we load them now so no overhead is acumulated"
   ]
  },
  {
   "cell_type": "code",
   "execution_count": null,
   "metadata": {},
   "outputs": [],
   "source": [
    "measurements = qrs.get_data('measurements')\n",
    "\n",
    "measurements.head(5)"
   ]
  },
  {
   "cell_type": "code",
   "execution_count": null,
   "metadata": {},
   "outputs": [],
   "source": [
    "#table name to load\n",
    "table_name = 'measurement_registrations'\n",
    "\n",
    "description = '2024 registration methodology.'\n",
    "\n",
    "#iterate over the rows of the dataframe\n",
    "\n",
    "for index, row in tqdm(df.iterrows(), total=df.shape[0]):\n",
    "\n",
    "    xct_file = row['Frontal 90 Right']\n",
    "\n",
    "    ut_file = row['UT']\n",
    "\n",
    "    registration_matrix = row['Registration Parameters']\n",
    "\n",
    "    if xct_file is None or ut_file is None:\n",
    "        print(f\"Skipping row {index} because it has no XCT or UT file\")\n",
    "        continue\n",
    "\n",
    "    if registration_matrix is None:\n",
    "        print(f\"Skipping row {index} because it has no registration matrix\")\n",
    "        continue\n",
    "\n",
    "    #get the id of the ut measurement\n",
    "    ut_id = measurements[measurements['file_path_measurement'] == str(ut_file)]['id_measurement'].values[0]\n",
    "\n",
    "    #get the id of the xct measurement\n",
    "    xct_id = measurements[measurements['file_path_measurement'] == str(xct_file)]['id_measurement'].values[0]\n",
    "\n",
    "    main_parameters = {'reference_measurement_id':ut_id,'registered_measurement_id':xct_id,'registration_matrix':registration_matrix,'description':description}\n",
    "\n",
    "    try:\n",
    "\n",
    "        # Extract column names and values from the attributes dictionary\n",
    "        columns = ', '.join(main_parameters.keys())\n",
    "        values = ', '.join([f\"'{v}'\" for v in main_parameters.values()])\n",
    "\n",
    "        # Construct the SQL INSERT statement\n",
    "        sql = f\"INSERT INTO {table_name} ({columns}) VALUES ({values})\"\n",
    "\n",
    "        # Create a cursor object using the cursor() method\n",
    "        cursor = conn.cursor()\n",
    "\n",
    "        # Execute the SQL statement\n",
    "        cursor.execute(sql)\n",
    "\n",
    "        cursor.execute('COMMIT')\n",
    "\n",
    "        cursor.close()\n",
    "    \n",
    "    except (Exception, psycopg2.DatabaseError) as error:\n",
    "        print(f\"Error inserting row {index}: {error}\")\n"
   ]
  }
 ],
 "metadata": {
  "kernelspec": {
   "display_name": "Python 3",
   "language": "python",
   "name": "python3"
  },
  "language_info": {
   "codemirror_mode": {
    "name": "ipython",
    "version": 3
   },
   "file_extension": ".py",
   "mimetype": "text/x-python",
   "name": "python",
   "nbconvert_exporter": "python",
   "pygments_lexer": "ipython3",
   "version": "3.13.2"
  }
 },
 "nbformat": 4,
 "nbformat_minor": 2
}
